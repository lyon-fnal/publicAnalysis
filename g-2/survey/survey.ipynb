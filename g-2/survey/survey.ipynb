{
 "cells": [
  {
   "cell_type": "markdown",
   "metadata": {},
   "source": [
    "# January 2016 g-2 Development Survey"
   ]
  },
  {
   "cell_type": "markdown",
   "metadata": {},
   "source": [
    "The survey may be found at http://goo.gl/forms/P0vN4tdj7P. \n",
    "\n",
    "Here are the questions:"
   ]
  },
  {
   "cell_type": "markdown",
   "metadata": {},
   "source": [
    "**Question 1 (choose one):**\n",
    "\n",
    "I'm a(n)...\n",
    "* current g-2 code developer\n",
    "* future g-2 code developer\n",
    "* interested non-developer\n",
    "* I'd rather not say\n",
    "\n",
    "**Question 2 (choose one):**\n",
    "\n",
    "Should we adopt a CMS style of code organization using one git repository, git sparse checkout, and GitHub (please read GM2-doc-3440 first http://gm2-docdb.fnal.gov:8080/cgi-bin/ShowDocument?docid=3440 )? \n",
    "\n",
    "* Heck yes, I strongly agree\n",
    "* Yes, I mildly agree\n",
    "* Meh, I understand the issue but I'm neutral\n",
    "* No, I mildly disagree\n",
    "* Heck no, I strongly disagree\n",
    "* I've read GM2-doc-3440 and I need more information before answering\n",
    "* Sorry, I'm not going to read GM2-doc-3440\n",
    "\n",
    "**Question 3 (choose all that apply):**\n",
    "\n",
    "Do you want to develop gm2 code on your laptop? How? (select all that apply to you). Note that Centos6 is compatible with Scientific Linux 6, so our code runs on that OS already. \n",
    "\n",
    "* I have an SLF6/CENTOS6 laptop and I can run CVMFS\n",
    "* I have a Mac laptop and I want to do gm2 development natively under OSX El Capitan (this would require an El Capitan build of gm2 software and art AND requires you to permanently turn off a new feature called \"System Integrity Protection\" https://en.wikipedia.org/wiki/System_Integrity_Protection )\n",
    "* I have a Mac laptop and I'm willing to do gm2 development in a easy to set up CENTOS6 Virtual Machine running my laptop\n",
    "* I have an Ubuntu laptop and I want to do gm2 development natively (this would require an Ubuntu build of gm2 code and art)\n",
    "* I have an Ubuntu laptop and I'm willing to do gm2 development in an easy to set up CENTOS6 Virtual Machine or Docker container running on my laptop\n",
    "* I have a Windows laptop and I'm willing to do gm2 development in an easy to set up CENTOS6 Virtual Machine running on my laptop\n",
    "* I do not plan to do gm2 development on my laptop or I don't have a laptop (I'll use gm2gpvm or my home institution cluster)\n",
    "* Something else (fill in comments below)\n",
    "* What's a virtual machine?\n"
   ]
  },
  {
   "cell_type": "markdown",
   "metadata": {},
   "source": [
    "Get set up"
   ]
  },
  {
   "cell_type": "code",
   "execution_count": 139,
   "metadata": {
    "collapsed": true
   },
   "outputs": [],
   "source": [
    "import pandas as pd\n",
    "\n",
    "import seaborn as sns\n",
    "import matplotlib.pyplot as plt\n",
    "sns.set_style(\"whitegrid\")\n",
    "%matplotlib inline"
   ]
  },
  {
   "cell_type": "markdown",
   "metadata": {},
   "source": [
    "Load responses (downloaded from Google sheets)"
   ]
  },
  {
   "cell_type": "code",
   "execution_count": 140,
   "metadata": {
    "collapsed": true
   },
   "outputs": [],
   "source": [
    "r = pd.read_csv(\"responses.csv\")"
   ]
  },
  {
   "cell_type": "markdown",
   "metadata": {},
   "source": [
    "Let's rekey the columns and results to make them easier to deal with..."
   ]
  },
  {
   "cell_type": "code",
   "execution_count": 141,
   "metadata": {
    "collapsed": false
   },
   "outputs": [],
   "source": [
    "r.columns = ['Timestamp', 'AdoptCMSStyle', 'Laptop', 'Comments', 'User' ]"
   ]
  },
  {
   "cell_type": "code",
   "execution_count": 142,
   "metadata": {
    "collapsed": false
   },
   "outputs": [
    {
     "data": {
      "text/html": [
       "<div>\n",
       "<table border=\"1\" class=\"dataframe\">\n",
       "  <thead>\n",
       "    <tr style=\"text-align: right;\">\n",
       "      <th></th>\n",
       "      <th>Timestamp</th>\n",
       "      <th>AdoptCMSStyle</th>\n",
       "      <th>Laptop</th>\n",
       "      <th>Comments</th>\n",
       "      <th>User</th>\n",
       "    </tr>\n",
       "  </thead>\n",
       "  <tbody>\n",
       "    <tr>\n",
       "      <th>0</th>\n",
       "      <td>1/21/2016 17:27:14</td>\n",
       "      <td>Strong yes</td>\n",
       "      <td>I have a Mac laptop and I want to do gm2 devel...</td>\n",
       "      <td>NaN</td>\n",
       "      <td>current</td>\n",
       "    </tr>\n",
       "    <tr>\n",
       "      <th>1</th>\n",
       "      <td>1/21/2016 17:27:28</td>\n",
       "      <td>No</td>\n",
       "      <td>I have a Mac laptop and I want to do gm2 devel...</td>\n",
       "      <td>NaN</td>\n",
       "      <td>current</td>\n",
       "    </tr>\n",
       "    <tr>\n",
       "      <th>2</th>\n",
       "      <td>1/21/2016 17:28:05</td>\n",
       "      <td>Abstain</td>\n",
       "      <td>I have a Mac laptop and I want to do gm2 devel...</td>\n",
       "      <td>NaN</td>\n",
       "      <td>future</td>\n",
       "    </tr>\n",
       "    <tr>\n",
       "      <th>3</th>\n",
       "      <td>1/21/2016 17:29:00</td>\n",
       "      <td>Yes</td>\n",
       "      <td>I do not plan to do gm2 development on my lapt...</td>\n",
       "      <td>Just make it easy for people to participate in...</td>\n",
       "      <td>non</td>\n",
       "    </tr>\n",
       "    <tr>\n",
       "      <th>4</th>\n",
       "      <td>1/21/2016 11:34:45</td>\n",
       "      <td>Yes</td>\n",
       "      <td>I do not plan to do gm2 development on my lapt...</td>\n",
       "      <td>NaN</td>\n",
       "      <td>current</td>\n",
       "    </tr>\n",
       "  </tbody>\n",
       "</table>\n",
       "</div>"
      ],
      "text/plain": [
       "            Timestamp AdoptCMSStyle                                             Laptop  \\\n",
       "0  1/21/2016 17:27:14    Strong yes  I have a Mac laptop and I want to do gm2 devel...   \n",
       "1  1/21/2016 17:27:28            No  I have a Mac laptop and I want to do gm2 devel...   \n",
       "2  1/21/2016 17:28:05       Abstain  I have a Mac laptop and I want to do gm2 devel...   \n",
       "3  1/21/2016 17:29:00           Yes  I do not plan to do gm2 development on my lapt...   \n",
       "4  1/21/2016 11:34:45           Yes  I do not plan to do gm2 development on my lapt...   \n",
       "\n",
       "                                            Comments     User  \n",
       "0                                                NaN  current  \n",
       "1                                                NaN  current  \n",
       "2                                                NaN   future  \n",
       "3  Just make it easy for people to participate in...      non  \n",
       "4                                                NaN  current  "
      ]
     },
     "execution_count": 142,
     "metadata": {},
     "output_type": "execute_result"
    }
   ],
   "source": [
    "replacements = {'AdoptCMSStyle':\n",
    "                   {'Heck yes, I strongly agree': 'Strong yes',\n",
    "                    'Yes, I mildly agree': 'Yes',\n",
    "                    \"Meh, I understand the issue but I'm neutral\": 'Neutral',\n",
    "                    \"No, I mildly disagree\": 'No',\n",
    "                    \"Heck No, I strongly disagree\": 'Strong no',\n",
    "                    \"I've read GM2-doc-3440 and I need more information before answering\": '??',\n",
    "                    \"Sorry, I'm not going to read GM2-doc-3440\": 'Abstain'},\n",
    "                'User':\n",
    "                   {\"current g-2 code developer\": \"current\",\n",
    "                    \"future g-2 code developer\": 'future',\n",
    "                    \"interested non-developer\" : 'non',\n",
    "                    \"I'd rather not say\": \"anonymous\"}}\n",
    "r.replace(replacements, inplace=True)\n",
    "r.head()"
   ]
  },
  {
   "cell_type": "markdown",
   "metadata": {},
   "source": [
    "## Demographics (what kind of developer)"
   ]
  },
  {
   "cell_type": "markdown",
   "metadata": {},
   "source": [
    "How many total responses?"
   ]
  },
  {
   "cell_type": "code",
   "execution_count": 224,
   "metadata": {
    "collapsed": false
   },
   "outputs": [
    {
     "data": {
      "text/plain": [
       "26"
      ]
     },
     "execution_count": 224,
     "metadata": {},
     "output_type": "execute_result"
    }
   ],
   "source": [
    "len(r)"
   ]
  },
  {
   "cell_type": "markdown",
   "metadata": {},
   "source": [
    "Current developer? Future developer? Non-developer? Didn't say (anonynmous)?"
   ]
  },
  {
   "cell_type": "code",
   "execution_count": 222,
   "metadata": {
    "collapsed": false
   },
   "outputs": [
    {
     "data": {
      "text/plain": [
       "current      15\n",
       "future        5\n",
       "non           5\n",
       "anonymous     1\n",
       "Name: User, dtype: int64"
      ]
     },
     "execution_count": 222,
     "metadata": {},
     "output_type": "execute_result"
    }
   ],
   "source": [
    "r[\"User\"].value_counts()"
   ]
  },
  {
   "cell_type": "code",
   "execution_count": 144,
   "metadata": {
    "collapsed": false
   },
   "outputs": [
    {
     "data": {
      "text/plain": [
       "<seaborn.axisgrid.FacetGrid at 0x11907f490>"
      ]
     },
     "execution_count": 144,
     "metadata": {},
     "output_type": "execute_result"
    },
    {
     "data": {
      "image/png": "[encoded data removed]",
      "text/plain": [
       "<matplotlib.figure.Figure at 0x11926b590>"
      ]
     },
     "metadata": {},
     "output_type": "display_data"
    }
   ],
   "source": [
    "sns.factorplot(\"User\", data=r, kind=\"count\")"
   ]
  },
  {
   "cell_type": "markdown",
   "metadata": {},
   "source": [
    "By percentage?"
   ]
  },
  {
   "cell_type": "code",
   "execution_count": 145,
   "metadata": {
    "collapsed": false
   },
   "outputs": [
    {
     "data": {
      "text/plain": [
       "current      57.7\n",
       "future       19.2\n",
       "non          19.2\n",
       "anonymous     3.8\n",
       "Name: User, dtype: float64"
      ]
     },
     "execution_count": 145,
     "metadata": {},
     "output_type": "execute_result"
    }
   ],
   "source": [
    "( r.User.value_counts(normalize=True)*100 ).round(1)"
   ]
  },
  {
   "cell_type": "markdown",
   "metadata": {},
   "source": [
    "## Should g-2 adopt the CMS style code organization?"
   ]
  },
  {
   "cell_type": "markdown",
   "metadata": {},
   "source": [
    "Strong yes? Yes? Neutral? No? Strong no? Don't understand (??), Abstain?\n"
   ]
  },
  {
   "cell_type": "code",
   "execution_count": 146,
   "metadata": {
    "collapsed": false
   },
   "outputs": [
    {
     "data": {
      "text/plain": [
       "Yes           10\n",
       "Strong yes     9\n",
       "Abstain        3\n",
       "Neutral        2\n",
       "No             1\n",
       "??             1\n",
       "Name: AdoptCMSStyle, dtype: int64"
      ]
     },
     "execution_count": 146,
     "metadata": {},
     "output_type": "execute_result"
    }
   ],
   "source": [
    "r.AdoptCMSStyle.value_counts()"
   ]
  },
  {
   "cell_type": "markdown",
   "metadata": {},
   "source": [
    "Separate out responses by developer type..."
   ]
  },
  {
   "cell_type": "code",
   "execution_count": 147,
   "metadata": {
    "collapsed": false
   },
   "outputs": [
    {
     "data": {
      "text/plain": [
       "<matplotlib.text.Text at 0x119632890>"
      ]
     },
     "execution_count": 147,
     "metadata": {},
     "output_type": "execute_result"
    },
    {
     "data": {
      "image/png": "[encoded data removed]",
      "text/plain": [
       "<matplotlib.figure.Figure at 0x119241fd0>"
      ]
     },
     "metadata": {},
     "output_type": "display_data"
    }
   ],
   "source": [
    "sns.factorplot(\"AdoptCMSStyle\", data=r, kind=\"count\", col=\"User\",\n",
    "               order=[\"Strong yes\", \"Yes\", \"Neutral\", \"No\", \"Strong no\", \"??\", \"Abstain\"])   \n",
    "plt.xlabel(\"Should g-2 adopt the CMS code style?\")"
   ]
  },
  {
   "cell_type": "markdown",
   "metadata": {},
   "source": [
    "There seems to be a clear mandate to go to the CMS style of code organization"
   ]
  },
  {
   "cell_type": "markdown",
   "metadata": {},
   "source": [
    "## Laptop usage"
   ]
  },
  {
   "cell_type": "markdown",
   "metadata": {},
   "source": [
    "The question here asks how people are willing to use their laptop for development and what new platforms the *art* team should consider. Right now, art and g-2 code runs on Scientific Linux 6 (SLF6, same as Centos 6) and Mac OSX Yosemite. The question of running a virtual machine or docker container with Centos 6 on the laptop is asked as well. "
   ]
  },
  {
   "cell_type": "markdown",
   "metadata": {},
   "source": [
    "Make the responses shorter... "
   ]
  },
  {
   "cell_type": "code",
   "execution_count": 163,
   "metadata": {
    "collapsed": false
   },
   "outputs": [],
   "source": [
    "pd.set_option('display.width', 100)\n",
    "for i, e in enumerate(r.Laptop):\n",
    "    e = e.replace('I have a Mac laptop and I want to do gm2 development natively under OSX El Capitan (this would require an El Capitan build of gm2 software and art AND requires you to permanently turn off a new feature called \"System Integrity Protection\" https://en.wikipedia.org/wiki/System_Integrity_Protection )',\n",
    "              'Mac-Native-El-Capitan')\n",
    "    e = e.replace(\"I have a Mac laptop and I'm willing to do gm2 development in a easy to set up CENTOS6 Virtual Machine running my laptop\",\n",
    "                   \"Mac-VM-Centos6\")\n",
    "    e = e.replace(\"I have an Ubuntu laptop and I want to do gm2 development natively (this would require an Ubuntu build of gm2 code and art)\",\n",
    "                   \"Ubuntu-Native\")\n",
    "    e = e.replace(\"I have an Ubuntu laptop and I'm willing to do gm2 development in an easy to set up CENTOS6 Virtual Machine or Docker container running on my laptop\",\n",
    "                   \"Ubuntu-VM-Centos6\")\n",
    "    e = e.replace(\"I have a Windows laptop and I'm willing to do gm2 development in an easy to set up CENTOS6 Virtual Machine running on my laptop\",\n",
    "                   \"Windows-VM-Centos6\")\n",
    "    e = e.replace(\"I do not plan to do gm2 development on my laptop or I don't have a laptop  (I'll use gm2gpvm or my home institution cluster)\",\n",
    "                   \"No Laptop/Home Cluster\")\n",
    "    e = e.replace(\"Something else (fill in comments below)\", \"Something else\")\n",
    "    e = e.replace(\"I have an SLF6/CENTOS6 laptop and I can run CVMFS\", \"Centos6-Native\")\n",
    "    r.Laptop[i] = e"
   ]
  },
  {
   "cell_type": "markdown",
   "metadata": {},
   "source": [
    "Overall responses..."
   ]
  },
  {
   "cell_type": "code",
   "execution_count": 190,
   "metadata": {
    "collapsed": false
   },
   "outputs": [
    {
     "data": {
      "text/plain": [
       "No Laptop/Home Cluster                                           9\n",
       "Mac-Native-El-Capitan, Mac-VM-Centos6                            8\n",
       "Centos6-Native                                                   2\n",
       "Mac-Native-El-Capitan                                            2\n",
       "Ubuntu-Native                                                    1\n",
       "Ubuntu-Native, Ubuntu-VM-Centos6, Something else                 1\n",
       "Windows-VM-Centos6                                               1\n",
       "Mac-VM-Centos6                                                   1\n",
       "Mac-Native-El-Capitan, Mac-VM-Centos6, No Laptop/Home Cluster    1\n",
       "Name: Laptop, dtype: int64"
      ]
     },
     "execution_count": 190,
     "metadata": {},
     "output_type": "execute_result"
    }
   ],
   "source": [
    "r.Laptop.value_counts()"
   ]
  },
  {
   "cell_type": "markdown",
   "metadata": {},
   "source": [
    "Plot everyone..."
   ]
  },
  {
   "cell_type": "code",
   "execution_count": 201,
   "metadata": {
    "collapsed": false
   },
   "outputs": [
    {
     "data": {
      "text/plain": [
       "<matplotlib.text.Text at 0x11a3f8710>"
      ]
     },
     "execution_count": 201,
     "metadata": {},
     "output_type": "execute_result"
    },
    {
     "data": {
      "image/png": "[encoded data removed]",
      "text/plain": [
       "<matplotlib.figure.Figure at 0x11a2efad0>"
      ]
     },
     "metadata": {},
     "output_type": "display_data"
    }
   ],
   "source": [
    "sns.countplot(y=\"Laptop\", order=r.Laptop.value_counts().index, data=r)\n",
    "plt.title(\"All Users\")"
   ]
  },
  {
   "cell_type": "markdown",
   "metadata": {},
   "source": [
    "Here are the responses from current developers..."
   ]
  },
  {
   "cell_type": "code",
   "execution_count": 225,
   "metadata": {
    "collapsed": false
   },
   "outputs": [
    {
     "data": {
      "text/plain": [
       "<matplotlib.text.Text at 0x11e295710>"
      ]
     },
     "execution_count": 225,
     "metadata": {},
     "output_type": "execute_result"
    },
    {
     "data": {
      "image/png": "[encoded data removed]",
      "text/plain": [
       "<matplotlib.figure.Figure at 0x11d7885d0>"
      ]
     },
     "metadata": {},
     "output_type": "display_data"
    }
   ],
   "source": [
    "ru = r[r[\"User\"] == \"current\"]\n",
    "sns.countplot(y=\"Laptop\", order=ru.Laptop.value_counts().index, data=ru)\n",
    "plt.title(\"Current developers\")"
   ]
  },
  {
   "cell_type": "markdown",
   "metadata": {},
   "source": [
    "And for future developers..."
   ]
  },
  {
   "cell_type": "code",
   "execution_count": 226,
   "metadata": {
    "collapsed": false
   },
   "outputs": [
    {
     "data": {
      "text/plain": [
       "<matplotlib.text.Text at 0x11e398390>"
      ]
     },
     "execution_count": 226,
     "metadata": {},
     "output_type": "execute_result"
    },
    {
     "data": {
      "image/png": "[encoded data removed]",
      "text/plain": [
       "<matplotlib.figure.Figure at 0x11e2ca110>"
      ]
     },
     "metadata": {},
     "output_type": "display_data"
    }
   ],
   "source": [
    "rf = r[r[\"User\"] == \"future\"]\n",
    "sns.countplot(y=\"Laptop\", order=rf.Laptop.value_counts().index, data=rf)\n",
    "plt.title(\"Future developers\")"
   ]
  },
  {
   "cell_type": "markdown",
   "metadata": {},
   "source": [
    "Interesting points for **current** developers:\n",
    "* For current developers, 6 of 15 people are running a Mac and all of them are willing to run a VM!\n",
    "* Many current developers, 5 of 15, aren't using a laptop for development.\n",
    "* Two people want Ubuntu\n",
    "\n",
    "For **Future** developers;\n",
    "* 2 have a Centos6 (probably really Fedora) laptop\n",
    "\n"
   ]
  },
  {
   "cell_type": "markdown",
   "metadata": {
    "collapsed": true
   },
   "source": [
    "## Comments "
   ]
  },
  {
   "cell_type": "markdown",
   "metadata": {},
   "source": [
    "Let's look at the comments from users (there aren't that many). But this will be a little ugly"
   ]
  },
  {
   "cell_type": "code",
   "execution_count": 219,
   "metadata": {
    "collapsed": false
   },
   "outputs": [
    {
     "data": {
      "text/plain": [
       "'Just make it easy for people to participate in, to learn if they join later, and to feel good about \"looking back\"  -dave-\\nWhat we do here is what we want to do for Offline, where there will be MANY people doing what you now call \"develop\" and that code will be highly dynamic'"
      ]
     },
     "metadata": {},
     "output_type": "display_data"
    },
    {
     "data": {
      "text/plain": [
       "'Please,  include Ubuntu LTS as an official supported OS for g-2 development. '"
      ]
     },
     "metadata": {},
     "output_type": "display_data"
    },
    {
     "data": {
      "text/plain": [
       "'Being a \"future developer\" it would be easier for me to adopt the \"new system\" than it would be for folks that are used to the \"old system\".'"
      ]
     },
     "metadata": {},
     "output_type": "display_data"
    },
    {
     "data": {
      "text/plain": [
       "\"My current system is an Ubuntu laptop with an SLF6 virtual machine that I maintain myself with both the online and offline dependencies (including CVMFS). We also make a virtual machine with tracker dependencies available for all on redmine, although it has fallen out of date and I don't think is used by many.\""
      ]
     },
     "metadata": {},
     "output_type": "display_data"
    },
    {
     "data": {
      "text/plain": [
       "'I have Fedora on my laptop, but have a Centos6 virtual machine and I consider having a docker instance of Centos6 as well for gm2 SW if that could be feasible.'"
      ]
     },
     "metadata": {},
     "output_type": "display_data"
    },
    {
     "data": {
      "text/plain": [
       "\"Being able to do development on a (mac) laptop was nice, but I don't think it is really a viable option going forward. Even if the El Capitan issue is somehow resolved, are we going to be in the exact same position with the next OS X release? The CMS-style git sounds very promising. Most of the real work, however, seems to be on the build-system side. \""
      ]
     },
     "metadata": {},
     "output_type": "display_data"
    }
   ],
   "source": [
    "from IPython.display import display\n",
    "c = r[r.Comments.str.len() > 0][\"Comments\"]\n",
    "for row in c:\n",
    "    display(row)"
   ]
  }
 ],
 "metadata": {
  "kernelspec": {
   "display_name": "Python 2",
   "language": "python",
   "name": "python2"
  },
  "language_info": {
   "codemirror_mode": {
    "name": "ipython",
    "version": 2
   },
   "file_extension": ".py",
   "mimetype": "text/x-python",
   "name": "python",
   "nbconvert_exporter": "python",
   "pygments_lexer": "ipython2",
   "version": "2.7.11"
  }
 },
 "nbformat": 4,
 "nbformat_minor": 0
}
