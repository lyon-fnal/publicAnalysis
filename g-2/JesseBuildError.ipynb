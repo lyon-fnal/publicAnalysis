{
 "cells": [
  {
   "cell_type": "markdown",
   "metadata": {},
   "source": [
    "# Jesse's build problem"
   ]
  },
  {
   "cell_type": "markdown",
   "metadata": {},
   "source": [
    "2015-08-10 Adam Lyon"
   ]
  },
  {
   "cell_type": "markdown",
   "metadata": {},
   "source": [
    "Jesse is having a build problem where he's getting a library not found error when he builds gm2geom, puts it in the  local products area, and then tries to build gm2ringsim. Trying myself."
   ]
  },
  {
   "cell_type": "code",
   "execution_count": 9,
   "metadata": {
    "collapsed": false
   },
   "outputs": [
    {
     "name": "stdout",
     "output_type": "stream",
     "text": [
      "Overwriting iterm-jesseBuildProblem.scr\n"
     ]
    }
   ],
   "source": [
    "%%file iterm-jesseBuildProblem.scr\n",
    "tell application \"iTerm\"\n",
    "    activate\n",
    "    set myterm to (make new terminal)\n",
    "    tell myterm\n",
    "        launch session \"Default Session\"\n",
    "        tell the last session   \n",
    "            set name to \"temp-JesseBuildError-prof\"\n",
    "            write text \"source /cvmfs/oasis.opensciencegrid.org/gm2/prod/g-2/setup\"\n",
    "            write text \"cd ~/Development/g-2/temp/jesseBuildError/\"\n",
    "            write text \"source localProducts_gm2_v6_01_00_prof/setup\"\n",
    "            write text \"setup ninja v1_5_3a\"\n",
    "            write text \". mrb s\"\n",
    "        end tell\n",
    "    end tell\n",
    "end tell"
   ]
  },
  {
   "cell_type": "code",
   "execution_count": 10,
   "metadata": {
    "collapsed": true
   },
   "outputs": [],
   "source": [
    "!osascript iterm-jesseBuildProblem.scr"
   ]
  },
  {
   "cell_type": "markdown",
   "metadata": {},
   "source": [
    "I've checked out `gm2geom`, built and installed it. "
   ]
  },
  {
   "cell_type": "markdown",
   "metadata": {},
   "source": [
    "Building `gm2ringsim` against the local product `gm2geom` "
   ]
  },
  {
   "cell_type": "markdown",
   "metadata": {},
   "source": [
    "I see the same problem as Jesse!!"
   ]
  },
  {
   "cell_type": "markdown",
   "metadata": {},
   "source": [
    "```\n",
    "[23/203] Linking CXX shared library gm2ringsim/lib/libgm2ringsim_fields_StorageFieldController_service.dylib\n",
    "FAILED:\n",
    "   ld: library not found for -lgm2geom_common_Gm2Constants_service\n",
    "```\n",
    "\n",
    "Why is there a `-l` in front? All of the other libraries are explicitly listed in the `ld` call."
   ]
  },
  {
   "cell_type": "markdown",
   "metadata": {},
   "source": [
    "Looking at `CmakeCache.txt`, there's no mention of this library while other libraries are mentioned."
   ]
  },
  {
   "cell_type": "markdown",
   "metadata": {},
   "source": [
    "Looks like a `cmake` problem. May have to get my own cetbuildtools. Ugh"
   ]
  },
  {
   "cell_type": "markdown",
   "metadata": {},
   "source": [
    "The Gm2Constants library is requested by `gm2ringsim_fields_StorageFieldController_service.dir/StorageFieldController_service.cc`"
   ]
  },
  {
   "cell_type": "markdown",
   "metadata": {},
   "source": [
    "See `srcs/gm2ringsim/fields`. The `CMakeLists.txt` says,\n",
    "```\n",
    "#art_make( LIB_LIBRARIES gm2ringsim_fields)\n",
    "art_make(\n",
    "          SERVICE_LIBRARIES\n",
    "          gm2geom_common_Gm2Constants_service\n",
    "          gm2geom_inflector_InflectorGeometry_service\n",
    "          ${G4_LIB_LIST}\n",
    "          artg4_util\n",
    ")\n",
    "install_headers()\n",
    "<more>\n",
    "```"
   ]
  },
  {
   "cell_type": "markdown",
   "metadata": {},
   "source": [
    "Here's the `cmake` command that is actually run (from `mrb b -C -v --generator ninja`)\n",
    "```\n",
    "eval CC=gcc CXX=g++ FC=gfortran cmake -DCMAKE_INSTALL_PREFIX=/Users/lyon/Development/g-2/temp/jesseBuildError/localProducts_gm2_v6_01_00_prof -DCMAKE_BUILD_TYPE=Prof -DCET_TEST_GROUPS= -GNinja /Users/lyon/Development/g-2/temp/jesseBuildError/srcs\n",
    "```"
   ]
  },
  {
   "cell_type": "markdown",
   "metadata": {},
   "source": [
    "I think the actual problem is in the `find_ups_product(gm2geom v3_01_00)`, because that's what sets the library list."
   ]
  },
  {
   "cell_type": "markdown",
   "metadata": {},
   "source": [
    "We're using cetbuildtools v4_08_01 - copied to localproducts"
   ]
  },
  {
   "cell_type": "markdown",
   "metadata": {},
   "source": [
    "I turned on some debug in `find_ups_products` and see,\n",
    "```\n",
    "find_ups_product: found a cmake configure file in /Users/lyon/Development/g-2/temp/jesseBuildError/localProducts_gm2_v6_01_00_prof/gm2geom/v3_01_00/d14.x86_64.e7.prof/lib/gm2geom/cmake/gm2geomConfig.cmake\n",
    "```\n",
    "\n",
    "That configure file is missing a `cet_find_library` line for GM2GEOM_COMMON_GM2CONSTANTS_SERVICE. Why?"
   ]
  },
  {
   "cell_type": "markdown",
   "metadata": {},
   "source": [
    "So the real problem is in building `gm2geom` !!"
   ]
  },
  {
   "cell_type": "markdown",
   "metadata": {},
   "source": [
    "Looking at `cetbuildtools/.../Modules/CetMakeConfig.cmake` . The problem is that `$CONFIG_LIBRARY_LIST` is missing our library."
   ]
  },
  {
   "cell_type": "markdown",
   "metadata": {},
   "source": [
    "`CONFIG_LIBRARY_LIST` gets constructed by calls to `cet_add_to_library_list` in `CetCMakeUtils.cmake`. This is called by (among others) `cet_make_library` in `CetMake.cmake`. Not sure who calls this. Will try debugging `cet_make_library`."
   ]
  },
  {
   "cell_type": "markdown",
   "metadata": {},
   "source": [
    "I don't see `cet_make_library` called for gm2geom_common_Gm2Constants_service. I don't see the other services here either. -- red herring"
   ]
  },
  {
   "cell_type": "markdown",
   "metadata": {},
   "source": [
    "I instrumented `BasicPlugin.cmake` which also calls `cet_add_to_library_list`. I see the services in here! I see,\n",
    "\n",
    "```\n",
    "-- Calling cet_add_to_library_list for gm2geom_inflector_InflectorGeometry_service\n",
    "-- Calling cet_add_to_library_list for gm2geom_calo_CaloGeometry_service\n",
    "-- Calling cet_add_to_library_list for gm2geom_Core_Geometry_service\n",
    "-- Calling cet_add_to_library_list for gm2geom_common_Gm2Constants_service\n",
    "```\n",
    "\n",
    "Hey - I see Gm2Constants service! \n",
    "\n",
    "So I see it being added! Something then must be removing it.\n",
    "\n",
    "Hmmmm! I see `gm2geom_common_Gm2Constants_service` added to `CONFIG_LIBRARY_LIST` **after** `cet_make_config` is called, so it's too late.\n",
    "\n",
    "```\n",
    "-- Calling cet_add_to_library_list for gm2geom_Core_Geometry_service\n",
    "Adding gm2geom_Core_Geometry_service to CONFIG_LIBRARY_LIST\n",
    "CONFIG_LIBRARY_LIST is gm2geom_strawtracker;gm2geom_world;gm2geom_vac;gm2geom_station;gm2geom_quad;gm2geom_kicker;gm2geom_inflector;gm2geom_inflector_InflectorGeometry_service;gm2geom_fiberHarp;gm2geom_collimator;gm2geom_calo;gm2geom_calo_CaloGeometry_service;gm2geom_arc;gm2geom_Core_Geometry_service\n",
    "-- cet_make_config: CONFIG_LIBRARY_LIST is  <--------*** HERE \n",
    "gm2geom_strawtracker;gm2geom_world;gm2geom_vac;gm2geom_station;gm2geom_quad;gm2geom_kicker;gm2geom_inflector;gm2geom_inflector_InflectorGeometry_service;gm2geom_fiberHarp;gm2geom_collimator;gm2geom_calo;gm2geom_calo_CaloGeometry_service;gm2geom_arc;gm2geom_Core_Geometry_service\n",
    "-- Calling cet_add_to_library_list for gm2geom_common_Gm2Constants_service\n",
    "Adding gm2geom_common_Gm2Constants_service to CONFIG_LIBRARY_LIST\n",
    "CONFIG_LIBRARY_LIST is gm2geom_strawtracker;gm2geom_world;gm2geom_vac;gm2geom_station;gm2geom_quad;gm2geom_kicker;gm2geom_inflector;gm2geom_inflector_InflectorGeometry_service;gm2geom_fiberHarp;gm2geom_collimator;gm2geom_calo;gm2geom_calo_CaloGeometry_service;gm2geom_arc;gm2geom_Core_Geometry_service;gm2geom_common_Gm2Constants_service\n",
    "```"
   ]
  },
  {
   "cell_type": "markdown",
   "metadata": {},
   "source": [
    "I see the problem!!!\n",
    "\n",
    "The problem is that the main `CMakeLists.txt` file has:\n",
    "\n",
    "```\n",
    "# Build these directories\n",
    "add_subdirectory( strawtracker )\n",
    "add_subdirectory( world )\n",
    "add_subdirectory( vac )\n",
    "add_subdirectory( station )\n",
    "add_subdirectory( quad )\n",
    "add_subdirectory( kicker )\n",
    "add_subdirectory( inflector )\n",
    "add_subdirectory( fiberHarp )\n",
    "add_subdirectory( collimator )\n",
    "add_subdirectory( calo )\n",
    "add_subdirectory( arc )\n",
    "add_subdirectory( Core )\n",
    "add_subdirectory( ups )\n",
    "add_subdirectory( test )\n",
    "add_subdirectory( common )\n",
    "```\n",
    "\n",
    "The `ups` line needs to be last!!  \n",
    "\n",
    "Fixing that makes things work -- now `GM2GEOM_COMMON_GM2CONSTANTS_SERVICE` is in the `gm2geomConfig.cmake` file"
   ]
  },
  {
   "cell_type": "code",
   "execution_count": null,
   "metadata": {
    "collapsed": true
   },
   "outputs": [],
   "source": []
  }
 ],
 "metadata": {
  "kernelspec": {
   "display_name": "Python 2",
   "language": "python",
   "name": "python2"
  },
  "language_info": {
   "codemirror_mode": {
    "name": "ipython",
    "version": 2
   },
   "file_extension": ".py",
   "mimetype": "text/x-python",
   "name": "python",
   "nbconvert_exporter": "python",
   "pygments_lexer": "ipython2",
   "version": "2.7.10"
  }
 },
 "nbformat": 4,
 "nbformat_minor": 0
}
