{
 "cells": [
  {
   "cell_type": "markdown",
   "metadata": {},
   "source": [
    "# CadMesh "
   ]
  },
  {
   "cell_type": "markdown",
   "metadata": {},
   "source": [
    "We want to try `CADMesh` to see if we can load in a real apparatus piece from a drawing. "
   ]
  },
  {
   "cell_type": "markdown",
   "metadata": {},
   "source": [
    "Yarek has some drawings. See http://gm2-docdb.fnal.gov:8080/cgi-bin/ShowDocument?docid=3032 for is calorimeter placement talk. The last page has a link to a Google Drive area with drawings... https://drive.google.com/folderview?id=0BwOQ-tBpv0G4fnJPQUFadHRZTW9xU0xCNzZBMXJsNmhPZmNkLVVNcDdNNmgzSENJNnhaUFU&usp=drive_web"
   ]
  },
  {
   "cell_type": "markdown",
   "metadata": {},
   "source": [
    "In the `paraview` directory there's `vacuum_chambers.stl`.  That can be loaded directly into Paraview."
   ]
  },
  {
   "cell_type": "markdown",
   "metadata": {},
   "source": [
    "That file derives from an inventor model. There's a `step` file copied here... `150807_floor_layout.stp` . Apparently it's the whole ring. I can try to load it in `FreeCad` but it takes a long time."
   ]
  },
  {
   "cell_type": "markdown",
   "metadata": {},
   "source": [
    "To manipulate the image in FreeCAD, right click and choose the Touchpad navigation style. To pan, press Shift and move the mouse (no click). To rotate, Shift (or opt), click and drag. Do zoom, use mouse scroll feature (touch top). To select, just click. To extend selection, Cmd-click. "
   ]
  },
  {
   "cell_type": "markdown",
   "metadata": {},
   "source": [
    "![alt](floor1.png)"
   ]
  },
  {
   "cell_type": "markdown",
   "metadata": {},
   "source": [
    "By the way, here's how to make the screen shot. Use `screencapture -W -o -P out.png` (`-W` allows you to choose the window, `-o` means no shadow, `-P` previews it). To use the mouse to select the image, do `screencapture -s -P out.png`.  Then to put into notebook, do `![alt](filename)`"
   ]
  },
  {
   "cell_type": "markdown",
   "metadata": {},
   "source": [
    "![alt](floor2.png)"
   ]
  },
  {
   "cell_type": "markdown",
   "metadata": {},
   "source": [
    "![opt](floor3.png)"
   ]
  },
  {
   "cell_type": "markdown",
   "metadata": {},
   "source": [
    "The STL file will have all of the pieces, but will be monolithic. It may be necessary to do multiple STL files for objects of differing material. "
   ]
  },
  {
   "cell_type": "markdown",
   "metadata": {},
   "source": [
    "CADMesh is described at https://github.com/christopherpoole/cadmesh"
   ]
  },
  {
   "cell_type": "markdown",
   "metadata": {},
   "source": [
    "Let's build it into a package"
   ]
  },
  {
   "cell_type": "markdown",
   "metadata": {},
   "source": [
    "We're going to use `/Users/lyon/Development/g-2/cadmesh`"
   ]
  },
  {
   "cell_type": "code",
   "execution_count": 3,
   "metadata": {
    "collapsed": false
   },
   "outputs": [
    {
     "name": "stdout",
     "output_type": "stream",
     "text": [
      "%ipythonPexpect? for help\n"
     ]
    }
   ],
   "source": [
    "%load_ext ipythonPexpect"
   ]
  },
  {
   "cell_type": "code",
   "execution_count": 4,
   "metadata": {
    "collapsed": false
   },
   "outputs": [
    {
     "name": "stdout",
     "output_type": "stream",
     "text": [
      "Opened connection to /usr/bin/env bash\n",
      "bash-3.2$ PS1='bash> '\r\n",
      "bash> "
     ]
    }
   ],
   "source": [
    "%pexpect_spawn_bash"
   ]
  },
  {
   "cell_type": "code",
   "execution_count": 5,
   "metadata": {
    "collapsed": false
   },
   "outputs": [
    {
     "name": "stdout",
     "output_type": "stream",
     "text": [
      "WARNING: All future cell execution will be processed through pexpect!\n",
      "To return to IPython, issue %pexpect_unlock\n"
     ]
    }
   ],
   "source": [
    "%pexpect_lock"
   ]
  },
  {
   "cell_type": "code",
   "execution_count": 7,
   "metadata": {
    "collapsed": false
   },
   "outputs": [],
   "source": [
    "cd ~/Development/g-2/cadmesh/"
   ]
  },
  {
   "cell_type": "code",
   "execution_count": 8,
   "metadata": {
    "collapsed": true
   },
   "outputs": [],
   "source": [
    "mkdir src ; mkdir build ; mkdir cadmesh"
   ]
  },
  {
   "cell_type": "code",
   "execution_count": 9,
   "metadata": {
    "collapsed": false
   },
   "outputs": [
    {
     "name": "stdout",
     "output_type": "stream",
     "text": [
      "Cloning into 'src'...\n",
      "remote: Counting objects: 687, done.\n",
      "Receiving objects:   0% (1/687)   \r",
      "Receiving objects:   1% (7/687)   \r",
      "Receiving objects:   2% (14/687)   \r",
      "Receiving objects:   3% (21/687)   \r",
      "Receiving objects:   4% (28/687)   \r",
      "Receiving objects:   5% (35/687)   \r",
      "Receiving objects:   6% (42/687)   \r",
      "Receiving objects:   7% (49/687)   \r",
      "Receiving objects:   8% (55/687)   \r",
      "Receiving objects:   9% (62/687)   \r",
      "Receiving objects:  10% (69/687)   \r",
      "Receiving objects:  11% (76/687)   \r",
      "Receiving objects:  12% (83/687)   \r",
      "Receiving objects:  13% (90/687)   \r",
      "Receiving objects:  14% (97/687)   \r",
      "Receiving objects:  15% (104/687)   \r",
      "Receiving objects:  16% (110/687)   \r",
      "Receiving objects:  17% (117/687)   \r",
      "Receiving objects:  18% (124/687)   \r",
      "Receiving objects:  19% (131/687)   \r",
      "Receiving objects:  20% (138/687)   \r",
      "Receiving objects:  21% (145/687)   \r",
      "Receiving objects:  22% (152/687)   \r",
      "Receiving objects:  23% (159/687)   \r",
      "Receiving objects:  24% (165/687)   \r",
      "Receiving objects:  25% (172/687)   \r",
      "Receiving objects:  26% (179/687)   \r",
      "Receiving objects:  27% (186/687)   \r",
      "Receiving objects:  28% (193/687)   \r",
      "Receiving objects:  29% (200/687)   \r",
      "Receiving objects:  30% (207/687)   \r",
      "Receiving objects:  31% (213/687)   \r",
      "Receiving objects:  32% (220/687)   \r",
      "Receiving objects:  33% (227/687)   \r",
      "Receiving objects:  34% (234/687)   \r",
      "Receiving objects:  35% (241/687)   \r",
      "Receiving objects:  36% (248/687)   \r",
      "Receiving objects:  37% (255/687)   \r",
      "Receiving objects:  38% (262/687)   \r",
      "Receiving objects:  39% (268/687)   \r",
      "Receiving objects:  40% (275/687)   \r",
      "Receiving objects:  41% (282/687)   \r",
      "Receiving objects:  42% (289/687)   \r",
      "Receiving objects:  43% (296/687)   \r",
      "Receiving objects:  44% (303/687)   \r",
      "Receiving objects:  45% (310/687)   \r",
      "Receiving objects:  46% (317/687)   \r",
      "Receiving objects:  47% (323/687)   \r",
      "Receiving objects:  48% (330/687)   \r",
      "Receiving objects:  49% (337/687)   \r",
      "Receiving objects:  50% (344/687)   \r",
      "Receiving objects:  51% (351/687)   \r",
      "Receiving objects:  52% (358/687)   \r",
      "Receiving objects:  53% (365/687)   \r",
      "Receiving objects:  54% (371/687)   \r",
      "Receiving objects:  55% (378/687)   \r",
      "Receiving objects:  56% (385/687)   \r",
      "Receiving objects:  57% (392/687)   \r",
      "Receiving objects:  58% (399/687)   \r",
      "Receiving objects:  59% (406/687)   \r",
      "Receiving objects:  60% (413/687)   \r",
      "Receiving objects:  61% (420/687)   \r",
      "Receiving objects:  62% (426/687)   \r",
      "Receiving objects:  63% (433/687)   \r",
      "Receiving objects:  64% (440/687)   \r",
      "Receiving objects:  65% (447/687)   \r",
      "Receiving objects:  66% (454/687)   \r",
      "Receiving objects:  67% (461/687)   \r",
      "Receiving objects:  68% (468/687)   \r",
      "Receiving objects:  69% (475/687)   \r",
      "Receiving objects:  70% (481/687)   \r",
      "Receiving objects:  71% (488/687)   \r",
      "Receiving objects:  72% (495/687)   \r",
      "Receiving objects:  73% (502/687)   \r",
      "Receiving objects:  74% (509/687)   \r",
      "Receiving objects:  75% (516/687)   \r",
      "Receiving objects:  76% (523/687)   \r",
      "Receiving objects:  77% (529/687)   \r",
      "Receiving objects:  78% (536/687)   \r",
      "Receiving objects:  79% (543/687)   \r",
      "Receiving objects:  80% (550/687)   \r",
      "Receiving objects:  81% (557/687)   \r",
      "Receiving objects:  82% (564/687)   \r",
      "Receiving objects:  83% (571/687)   \r",
      "Receiving objects:  84% (578/687)   \r",
      "Receiving objects:  85% (584/687)   \r",
      "Receiving objects:  86% (591/687)   \r",
      "remote: Total 687 (delta 0), reused 0 (delta 0), pack-reused 687\n",
      "Receiving objects:  87% (598/687)   \r",
      "Receiving objects:  88% (605/687)   \r",
      "Receiving objects:  89% (612/687)   \r",
      "Receiving objects:  90% (619/687)   \r",
      "Receiving objects:  91% (626/687)   \r",
      "Receiving objects:  92% (633/687)   \r",
      "Receiving objects:  93% (639/687)   \r",
      "Receiving objects:  94% (646/687)   \r",
      "Receiving objects:  95% (653/687)   \r",
      "Receiving objects:  96% (660/687)   \r",
      "Receiving objects:  97% (667/687)   \r",
      "Receiving objects:  98% (674/687)   \r",
      "Receiving objects:  99% (681/687)   \r",
      "Receiving objects: 100% (687/687)   \r",
      "Receiving objects: 100% (687/687), 194.17 KiB | 0 bytes/s, done.\n",
      "Resolving deltas:   0% (0/272)   \r",
      "Resolving deltas:   1% (5/272)   \r",
      "Resolving deltas:   9% (25/272)   \r",
      "Resolving deltas:  10% (28/272)   \r",
      "Resolving deltas:  12% (35/272)   \r",
      "Resolving deltas:  13% (37/272)   \r",
      "Resolving deltas:  14% (39/272)   \r",
      "Resolving deltas:  15% (42/272)   \r",
      "Resolving deltas:  23% (63/272)   \r",
      "Resolving deltas:  24% (66/272)   \r",
      "Resolving deltas:  25% (68/272)   \r",
      "Resolving deltas:  27% (74/272)   \r",
      "Resolving deltas:  28% (77/272)   \r",
      "Resolving deltas:  31% (87/272)   \r",
      "Resolving deltas:  43% (119/272)   \r",
      "Resolving deltas:  47% (130/272)   \r",
      "Resolving deltas:  50% (136/272)   \r",
      "Resolving deltas:  62% (171/272)   \r",
      "Resolving deltas:  63% (173/272)   \r",
      "Resolving deltas:  79% (215/272)   \r",
      "Resolving deltas:  84% (229/272)   \r",
      "Resolving deltas:  85% (232/272)   \r",
      "Resolving deltas:  86% (235/272)   \r",
      "Resolving deltas:  88% (240/272)   \r",
      "Resolving deltas:  91% (250/272)   \r",
      "Resolving deltas:  94% (258/272)   \r",
      "Resolving deltas:  97% (264/272)   \r",
      "Resolving deltas:  98% (269/272)   \r",
      "Resolving deltas: 100% (272/272)   \r",
      "Resolving deltas: 100% (272/272), done.\n",
      "Checking connectivity... done.\n"
     ]
    }
   ],
   "source": [
    "git clone https://github.com/christopherpoole/CADMesh.git src"
   ]
  },
  {
   "cell_type": "markdown",
   "metadata": {},
   "source": [
    "You need the `assimp` and `tetgen` libraries, but they will be downloaded by the build."
   ]
  },
  {
   "cell_type": "code",
   "execution_count": 10,
   "metadata": {
    "collapsed": true
   },
   "outputs": [],
   "source": [
    "cd build"
   ]
  },
  {
   "cell_type": "markdown",
   "metadata": {},
   "source": [
    "Get ready to build - setup the environment"
   ]
  },
  {
   "cell_type": "code",
   "execution_count": 11,
   "metadata": {
    "collapsed": false
   },
   "outputs": [
    {
     "name": "stdout",
     "output_type": "stream",
     "text": [
      "g-2 software\n",
      "--> To list gm2 releases, type\n",
      "ups list -aK+ gm2\n",
      "--> To use the latest release, do\n",
      "setup gm2 v6_01_00 -q prof\n",
      "For more information, see https://cdcvs.fnal.gov/redmine/projects/g-2/wiki/ReleaseInformation\n"
     ]
    }
   ],
   "source": [
    "source /cvmfs/oasis.opensciencegrid.org/gm2/prod/g-2/setup\n",
    "setup gm2 v6_01_00 -q prof\n",
    "setup geant4 v4_9_6_p04a -q e7:prof\n",
    "setup cmake v3_2_1"
   ]
  },
  {
   "cell_type": "code",
   "execution_count": 17,
   "metadata": {
    "collapsed": false
   },
   "outputs": [
    {
     "name": "stdout",
     "output_type": "stream",
     "text": [
      "-- The C compiler identification is AppleClang 6.1.0.6020053\n",
      "-- The CXX compiler identification is GNU 4.9.2\n",
      "-- Check for working C compiler: /Applications/Xcode.app/Contents/Developer/Toolchains/XcodeDefault.xctoolchain/usr/bin/cc\n",
      "-- Check for working C compiler: /Applications/Xcode.app/Contents/Developer/Toolchains/XcodeDefault.xctoolchain/usr/bin/cc -- works\n",
      "-- Detecting C compiler ABI info\n",
      "-- Detecting C compiler ABI info - done\n",
      "-- Detecting C compile features\n",
      "-- Detecting C compile features - done\n",
      "-- Checking whether CXX compiler has -isysroot\n",
      "-- Checking whether CXX compiler has -isysroot - yes\n",
      "-- Checking whether CXX compiler supports OSX deployment target flag\n",
      "-- Checking whether CXX compiler supports OSX deployment target flag - yes\n",
      "-- Check for working CXX compiler: /cvmfs/oasis.opensciencegrid.org/gm2/prod/external/gcc/v4_9_2/Darwin64bit+14/bin/g++\n",
      "-- Check for working CXX compiler: /cvmfs/oasis.opensciencegrid.org/gm2/prod/external/gcc/v4_9_2/Darwin64bit+14/bin/g++ -- works\n",
      "-- Detecting CXX compiler ABI info\n",
      "-- Detecting CXX compiler ABI info - done\n",
      "-- Detecting CXX compile features\n",
      "-- Detecting CXX compile features - done\n",
      "-- Found PkgConfig: /usr/local/bin/pkg-config (found version \"0.28\")\n",
      "-- Configuring done\n",
      "CMake Warning (dev):\n",
      "  Policy CMP0042 is not set: MACOSX_RPATH is enabled by default.  Run \"cmake\n",
      "  --help-policy CMP0042\" for policy details.  Use the cmake_policy command to\n",
      "  set the policy and suppress this warning.\n",
      "  MACOSX_RPATH is not specified for the following targets:\n",
      "   cadmesh\n",
      "This warning is for project developers.  Use -Wno-dev to suppress it.\n",
      "-- Generating done\n",
      "-- Build files have been written to: /Users/lyon/Development/g-2/cadmesh/build\n"
     ]
    }
   ],
   "source": [
    "export CMAKE_PREFIX_PATH=$GEANT4_FQ_DIR\n",
    "cmake -DCMAKE_CXX_COMPILER=$GCC_FQ_DIR/bin/g++ \\\n",
    "      -DCMAKE_CXX_FLAGS=\"-std=c++1y\" \\\n",
    "      -DCMAKE_INSTALL_PREFIX=\"../cadmesh\" \\\n",
    "      ../src"
   ]
  },
  {
   "cell_type": "markdown",
   "metadata": {},
   "source": [
    "You can't actually run `make` in the notebook. Do `make -j4 install`"
   ]
  },
  {
   "cell_type": "markdown",
   "metadata": {},
   "source": [
    "Let's open a window to where we can work on CADMesh"
   ]
  },
  {
   "cell_type": "code",
   "execution_count": 2,
   "metadata": {
    "collapsed": false
   },
   "outputs": [
    {
     "name": "stdout",
     "output_type": "stream",
     "text": [
      "Writing start-iTerm_cadmesh.scr\n"
     ]
    }
   ],
   "source": [
    "%%file start-iTerm_cadmesh.scr\n",
    "tell application \"iTerm\"\n",
    "    activate\n",
    "    set myterm to (make new terminal)\n",
    "    tell myterm\n",
    "        launch session \"Default Session\"\n",
    "        tell the last session   \n",
    "            set name to \"project-cadmesh\"\n",
    "            write text \"source /cvmfs/oasis.opensciencegrid.org/gm2/prod/g-2/setup\"\n",
    "            write text \"cd ~/Development/g-2/projects/cadmesh\"\n",
    "            write text \"source localProducts_gm2_v6_01_00_prof/setup\"\n",
    "            write text \"setup ninja v1_5_3a\"\n",
    "            write text \". mrb s\"\n",
    "            write text \"export PATH=$PATH:/Applications/paraview4.3.1.app/Contents/bin\"\n",
    "        end tell\n",
    "    end tell\n",
    "end tell"
   ]
  },
  {
   "cell_type": "markdown",
   "metadata": {},
   "source": []
  }
 ],
 "metadata": {
  "kernelspec": {
   "display_name": "Python 2",
   "language": "python",
   "name": "python2"
  },
  "language_info": {
   "codemirror_mode": {
    "name": "ipython",
    "version": 2
   },
   "file_extension": ".py",
   "mimetype": "text/x-python",
   "name": "python",
   "nbconvert_exporter": "python",
   "pygments_lexer": "ipython2",
   "version": "2.7.10"
  }
 },
 "nbformat": 4,
 "nbformat_minor": 0
}
