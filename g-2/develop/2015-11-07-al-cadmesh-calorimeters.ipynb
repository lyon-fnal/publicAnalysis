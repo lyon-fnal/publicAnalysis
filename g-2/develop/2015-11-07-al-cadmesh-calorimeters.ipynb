{
 "cells": [
  {
   "cell_type": "markdown",
   "metadata": {},
   "source": [
    "# Calorimeters in CADMesh "
   ]
  },
  {
   "cell_type": "markdown",
   "metadata": {},
   "source": [
    "Leah is able to place the old calorimeters outside of a CADMesh vacuum chamber. Of course they're in the wrong place. See https://mail.google.com/mail/u/0/?shva=1#inbox/150de8333590a582. Below is a picture from her message."
   ]
  },
  {
   "cell_type": "markdown",
   "metadata": {},
   "source": [
    "<img width=\"400px\" src=\"T5TXW6J5LJ0N996UVPC9EN37VFPT8W02.png\"/>"
   ]
  },
  {
   "cell_type": "markdown",
   "metadata": {},
   "source": [
    "I somewhere have the STP files that Jarek had made for the ring and calorimeters. Found them! I've moved them to `~/Development/g-2/projects/cadmesh/stpFiles`. There's a file in there called `150807_floor_layout.stp`. Loading that into *FreeCad* brings up,"
   ]
  },
  {
   "cell_type": "markdown",
   "metadata": {},
   "source": [
    "<img  src=\"HII67PPTP8LS70560DU7L79B91MO7GT2.png\"/>"
   ]
  },
  {
   "cell_type": "markdown",
   "metadata": {},
   "source": [
    "So you can see the vacuum chamber and the calorimeters. They share the same coordinate system. The calorimeter \"box\" has component labels like, `FNAL-Calorimeter-Box-Vers2-simpleNNN` where `NNN` is some number. Extracting one of the calorimeters into `cal.stp` in the same directory mentioned above. I picked the 2nd calorimeter starting from the upper left (so right calorimeter in the upper-left vacuum chamber)."
   ]
  },
  {
   "cell_type": "markdown",
   "metadata": {},
   "source": [
    "<img  src=\"YTS96RWVBKBM974D9XL8ARNCVWXWSWOG.png\"/>"
   ]
  },
  {
   "cell_type": "markdown",
   "metadata": {},
   "source": [
    "The side facing us faces towards the center of the ring. The left side has boxes for the crystals and fits in with the vacuum chamber. Let's make two `STL` files, one with everything seen here `cal_all.stl` and one with just the outer box `cal_outer.stl`. "
   ]
  },
  {
   "cell_type": "markdown",
   "metadata": {},
   "source": [
    "Here's `cal_outer.stl` in ParaView."
   ]
  },
  {
   "cell_type": "markdown",
   "metadata": {},
   "source": [
    "<img  src=\"T4GEFIR9SHKYO5UPQ83C58OBAD94NL3N.png\"/>"
   ]
  },
  {
   "cell_type": "markdown",
   "metadata": {},
   "source": [
    "The open end goes towards the notch for the calorimeter of the vacuum chamber. The end with the holes goes towards the center of the ring."
   ]
  },
  {
   "cell_type": "markdown",
   "metadata": {},
   "source": [
    "**But** - if I bring our standard vacuum chamber into ParaView too, they are on opposite sides of the ring! Let's make STL of the vacuum chamber in `150807_floor_layout.stp`. "
   ]
  },
  {
   "cell_type": "markdown",
   "metadata": {},
   "source": [
    "I made `vacsAndCals.stp` with all of the vacuum chambers and all of the calorimeters. "
   ]
  },
  {
   "cell_type": "markdown",
   "metadata": {},
   "source": [
    "Here they are..."
   ]
  },
  {
   "cell_type": "markdown",
   "metadata": {},
   "source": [
    "<img  src=\"WM8EHUNQ2EABG1PS4YYE9XJ5WX5836HP.png\"/>"
   ]
  },
  {
   "cell_type": "markdown",
   "metadata": {},
   "source": [
    "So, let's create one vacuum chamber with bellows. We can already use the `cal_outer.stl` file made previously. I selected just the first vacuum chamber (not easy to do) and make `firstVacOnly.stp`. Strangely - there's no bottom! Oh well. I turned this into `firstVacOnly.stl`. "
   ]
  },
  {
   "cell_type": "markdown",
   "metadata": {},
   "source": [
    "Here's `firstVacOnly.stl` and `cal_outer.stl` in ParaView."
   ]
  },
  {
   "cell_type": "markdown",
   "metadata": {},
   "source": [
    "<img  src=\"U13C0HUK4VI7J0D3DP5TNSWEDCX0GBRV.png\"/>"
   ]
  }
 ],
 "metadata": {
  "kernelspec": {
   "display_name": "Python 2",
   "language": "python",
   "name": "python2"
  },
  "language_info": {
   "codemirror_mode": {
    "name": "ipython",
    "version": 2
   },
   "file_extension": ".py",
   "mimetype": "text/x-python",
   "name": "python",
   "nbconvert_exporter": "python",
   "pygments_lexer": "ipython2",
   "version": "2.7.10"
  }
 },
 "nbformat": 4,
 "nbformat_minor": 0
}
