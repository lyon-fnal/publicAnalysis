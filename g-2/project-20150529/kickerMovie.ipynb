{
 "cells": [
  {
   "cell_type": "markdown",
   "metadata": {},
   "source": [
    "# Make a movie of the kicker field"
   ]
  },
  {
   "cell_type": "markdown",
   "metadata": {},
   "source": [
    "Using `Development/g-2/projects/20150529`"
   ]
  },
  {
   "cell_type": "markdown",
   "metadata": {},
   "source": [
    "To open a window set up...  (for a `prof` build)"
   ]
  },
  {
   "cell_type": "code",
   "execution_count": 1,
   "metadata": {
    "collapsed": false
   },
   "outputs": [
    {
     "name": "stdout",
     "output_type": "stream",
     "text": [
      "Overwriting iterm-kickerMovie-prof.scr\n"
     ]
    }
   ],
   "source": [
    "%%file iterm-kickerMovie-prof.scr\n",
    "tell application \"iTerm\"\n",
    "    activate\n",
    "    set myterm to (make new terminal)\n",
    "    tell myterm\n",
    "        launch session \"Default Session\"\n",
    "        tell the last session   \n",
    "            set name to \"project-20150529-prof\"\n",
    "            write text \"source /cvmfs/oasis.opensciencegrid.org/gm2/prod/g-2/setup\"\n",
    "            write text \"cd ~/Development/g-2/projects/20150529/try/\"\n",
    "            write text \"source ../localProducts_gm2_v6_01_00_prof/setup\"\n",
    "            write text \"setup ninja v1_5_3a\"\n",
    "            write text \". mrb s\"\n",
    "            write text \"export PATH=$PATH:/Applications/paraview4.3.1.app/Contents/bin\"\n",
    "        end tell\n",
    "    end tell\n",
    "end tell"
   ]
  },
  {
   "cell_type": "code",
   "execution_count": 2,
   "metadata": {
    "collapsed": true
   },
   "outputs": [],
   "source": [
    "!osascript iterm-kickerMovie-prof.scr"
   ]
  },
  {
   "cell_type": "markdown",
   "metadata": {},
   "source": [
    "I'm making a build on `gm2gpvm04`. Note that my version of the sources on my Mac is not from the latest develop. I do have `gm2dataproducts` checked out from the develop branch. That configuration of code fails to build on linux because there when I get the code for `gm2dataproducts` it's a newer `develop` branch! I don't want to upgrade all of my code yet, so I for `gm2dataproducts` checked out the branch that I have on my mac on Linux. E.g.\n",
    "\n",
    "```bash\n",
    "git checkout d79b0bfa86\n",
    "```"
   ]
  },
  {
   "cell_type": "markdown",
   "metadata": {},
   "source": [
    "Here's a script to log into gm2gpvm03"
   ]
  },
  {
   "cell_type": "code",
   "execution_count": 1,
   "metadata": {
    "collapsed": false
   },
   "outputs": [
    {
     "name": "stdout",
     "output_type": "stream",
     "text": [
      "Overwriting iterm-kickerMovie-prof-gm2gpvm03.scr\n"
     ]
    }
   ],
   "source": [
    "%%file iterm-kickerMovie-prof-gm2gpvm03.scr\n",
    "tell application \"iTerm\"\n",
    "    activate\n",
    "    set myterm to (make new terminal)\n",
    "    tell myterm\n",
    "        launch session \"Default Session\"\n",
    "        tell the last session   \n",
    "            set name to \"project-20150529-prof-gm2gpvm03\"\n",
    "            write text \"ssh gm2gpvm03.fnal.gov\"\n",
    "            write text \"screen\"\n",
    "            write text \"cd /gm2/app/users/lyon/projects/20150529/kickerMovie\"\n",
    "            write text \"source /grid/fermiapp/gm2/setup\"\n",
    "            write text \"source ../localProducts_gm2_v6_01_00_prof/setup\"\n",
    "            write text \"setup ninja v1_5_3a\"\n",
    "            write text \". mrb s\"\n",
    "            write text \"export PATH=$PATH:/gm2/app/users/lyon/paraview/ParaView-4.3.1-Linux-64bit/bin\"\n",
    "            write text \"source /grid/fermiapp/products/common/etc/setups.sh\"\n",
    "            write text \"setup jobsub_client\"\n",
    "        end tell\n",
    "    end tell\n",
    "end tell"
   ]
  },
  {
   "cell_type": "code",
   "execution_count": 2,
   "metadata": {
    "collapsed": true
   },
   "outputs": [],
   "source": [
    "!osascript iterm-kickerMovie-prof-gm2gpvm03.scr"
   ]
  },
  {
   "cell_type": "markdown",
   "metadata": {},
   "source": [
    "I have an output area at `/pnfs/GM2/scratch/users/lyon/kickerMovie_20150709`"
   ]
  },
  {
   "cell_type": "markdown",
   "metadata": {},
   "source": [
    "Here's the plan: I need a script to fill in parts of the `kickerMovie.fcl_TEMPLATE` for differnt arcs, different times and different file names."
   ]
  },
  {
   "cell_type": "markdown",
   "metadata": {},
   "source": [
    "## Prepare to run jobs"
   ]
  },
  {
   "cell_type": "markdown",
   "metadata": {},
   "source": [
    "You can test jobs at `fermicloud168`. I've made a tar file on `gm2gpvm03:/gm2/app/users/lyon/projects/20150529/kickerMovieJob.tgz` . It contains the local products, paraview, and the fcl template."
   ]
  },
  {
   "cell_type": "markdown",
   "metadata": {},
   "source": [
    "I'm running the following:\n",
    "* Based on gm2 v6_01_00 -q prof\n",
    "* gm2ringsim feature/adamFieldDebug `2f7289fc0`\n",
    "* gm2geom feature/nathan `61aa3f4e`\n",
    "* gm2dataproducts (no branch - see above) `d79b0bfa8`"
   ]
  },
  {
   "cell_type": "markdown",
   "metadata": {},
   "source": [
    "In `/gm2/app/users/lyon/g-2/projects/20150529` is all of the code and such."
   ]
  },
  {
   "cell_type": "markdown",
   "metadata": {},
   "source": [
    "In the top level, there is,\n",
    "* kickerMovie - my interactive tests\n",
    "* kickerMovieJob - Used to make the tar file\n",
    "* kickerMovieSubmit - Has the submit script"
   ]
  },
  {
   "cell_type": "markdown",
   "metadata": {},
   "source": [
    "## Submitting jobs"
   ]
  },
  {
   "cell_type": "markdown",
   "metadata": {},
   "source": [
    "The submit script (see `kickerMovieSubmit/submit.sh`) submits the jobs. An example submit command is,\n",
    "\n",
    "```bash\n",
    "jobsub_submit -N 12 -G gm2 -M --OS=SL6 --tar_file_name=dropbox:///gm2/app/users/lyon/projects/20150529/kickerMovieJob.tgz --resource-provides=usage_model=DEDICATED,OPPORTUNISTIC --role=Analysis file:///gm2/app/users/lyon/projects/20150529/kickerMovieSubmit/workerNodeScript_allarcs.sh /pnfs/GM2/scratch/users/lyon/kickerMovie_20150709\n",
    "```\n",
    "\n",
    "Note the use of `dropbox://` for the tar file name. You must specify the driver script with `file://`. Anything after it are arguments to the script. It's all pretty convenient. "
   ]
  },
  {
   "cell_type": "markdown",
   "metadata": {},
   "source": [
    "I can use the `$PROCESS` ID to drive many of the choices, such as arc number and time step. "
   ]
  },
  {
   "cell_type": "markdown",
   "metadata": {},
   "source": [
    "I have two driver scripts:\n",
    "\n",
    "The first one does different times for a particular arc"
   ]
  },
  {
   "cell_type": "code",
   "execution_count": 19,
   "metadata": {
    "collapsed": false,
    "scrolled": true
   },
   "outputs": [
    {
     "name": "stdout",
     "output_type": "stream",
     "text": [
      "#!/bin/bash\r\n",
      "#\r\n",
      "#  This is the worker node script for kicker movie (and other magnetic field scans)\r\n",
      "#\r\n",
      "#  Be sure to submit with --tar_file_name of the tar file with the application\r\n",
      "#\r\n",
      "\r\n",
      "# Arguments are\r\n",
      "# $1 = arc num\r\n",
      "# $2 = output path\r\n",
      "\r\n",
      "set -x\r\n",
      "\r\n",
      "arcnum=$1\r\n",
      "outpath=$2\r\n",
      "\r\n",
      "# The fieldTime comes from the PROCESS number 75 + PROCESS * 5\r\n",
      "fieldTime=$(expr 75 + $PROCESS \\* 5)\r\n",
      "echo $fieldTime\r\n",
      "\r\n",
      "date\r\n",
      "echo \"Starting kickerMovie ${CLUSTER}.${PROCESS}  ${JOBSUBID}\"\r\n",
      "\r\n",
      "# We need IFDH\r\n",
      "source /cvmfs/fermilab.opensciencegrid.org/products/common/etc/setups\r\n",
      "setup ifdhc v1_6_2 -z /cvmfs/fermilab.opensciencegrid.org/products/common/db\r\n",
      "\r\n",
      "echo \"Environment for this job is \" > job_env_${CLUSTER}.${PROCESS}.out\r\n",
      "env >> job_env_${CLUSTER}.${PROCESS}.out\r\n",
      "\r\n",
      "# Store the jobsub job id\r\n",
      "if [ \"${PROCESS}\" == \"0\" ]; then\r\n",
      "        echo ${JOBSUBJOBID} > ${JOBSUBJOBID}\r\n",
      "        ifdh cp -D ${JOBSUBJOBID} $outpath\r\n",
      "fi\r\n",
      "\r\n",
      "# Setup g-2 stuff\r\n",
      "source /cvmfs/oasis.opensciencegrid.org/gm2/prod/g-2/setup\r\n",
      "setup gm2 v6_01_00 -q prof\r\n",
      "\r\n",
      "# Now untar our stuff\r\n",
      "tar xvzf $INPUT_TAR_FILE\r\n",
      "\r\n",
      "# Add our local products to the $PRODUCTS directory\r\n",
      "export PRODUCTS=$PWD/localProducts_gm2_v6_01_00_prof:$PRODUCTS\r\n",
      "echo $PRODUCTS\r\n",
      "setup gm2ringsim v3_00_00 -q e7:prof\r\n",
      "\r\n",
      "# Let's see what we've got\r\n",
      "ups active\r\n",
      "\r\n",
      "# Now we need to alter the fcl file to add our arcnum and time\r\n",
      "csvfile=\"fieldScan_arc${arcnum}_t${fieldTime}.csv\"\r\n",
      "vtifile=\"fieldScan_arc${arcnum}_t_${fieldTime}.vti\"\r\n",
      "fclfile=\"kickerMovie_${CLUSTER}_${PROCESS}.fcl\"\r\n",
      "sed -e \"s/%%ARCNUM%%/${arcnum}/\" -e \"s/%%TIME%%/${fieldTime}/\" -e \"s/%%CSVFILE%%/${csvfile}/\" kickerMovieJob/kickerMovie.fcl_TEMPLATE > $fclfile\r\n",
      "\r\n",
      "# And run!\r\n",
      "gm2log=\"gm2_out_${CLUSTER}.${PROCESS}.log\"\r\n",
      "gm2 -c $fclfile -n 1 >& $gm2log\r\n",
      "\r\n",
      "# Now convert to vtk\r\n",
      "cd kickerMovieJob\r\n",
      "tar xvzf paraview.tgz\r\n",
      "\r\n",
      "export PATH=$PATH:$PWD/ParaView-4.3.1-Linux-64bit/bin\r\n",
      "cd ..\r\n",
      "\r\n",
      "pvpython kickerMovieJob/convertFieldToImageData.py $csvfile\r\n",
      "mv bfield.vti $vtifile\r\n",
      "\r\n",
      "# We want the output root file too\r\n",
      "outroot=\"out_${CLUSTER}.${PROCESS}.root\"\r\n",
      "mv x.root $outroot\r\n",
      "\r\n",
      "# Copy stuff back\r\n",
      "ifdh cp -D $gm2log $vtifile $csvfile $fclfile $outroot $outpath\r\n",
      "\r\n",
      "\r\n",
      "\r\n",
      "\r\n",
      "\r\n",
      "\r\n"
     ]
    }
   ],
   "source": [
    "!cat workerNodeScript_arc3.sh"
   ]
  },
  {
   "cell_type": "markdown",
   "metadata": {},
   "source": [
    "This next one does an arc for a fixed time."
   ]
  },
  {
   "cell_type": "code",
   "execution_count": 20,
   "metadata": {
    "collapsed": false,
    "scrolled": true
   },
   "outputs": [
    {
     "name": "stdout",
     "output_type": "stream",
     "text": [
      "#!/bin/bash\r\n",
      "#\r\n",
      "#  This is the worker node script for kicker movie (and other magnetic field scans)\r\n",
      "#\r\n",
      "#   Do all of the arcs (based on PROCESS number)\r\n",
      "#\r\n",
      "#  Be sure to submit with --tar_file_name of the tar file with the application\r\n",
      "#\r\n",
      "\r\n",
      "# Arguments are\r\n",
      "# $1 = arc num\r\n",
      "# $2 = output path\r\n",
      "\r\n",
      "set -x\r\n",
      "\r\n",
      "outpath=$1\r\n",
      "\r\n",
      "arcnum=$PROCESS\r\n",
      "fieldTime=800\r\n",
      "\r\n",
      "date\r\n",
      "echo \"Starting kickerMovie ${CLUSTER}.${PROCESS}  ${JOBSUBID}\"\r\n",
      "\r\n",
      "# We need IFDH\r\n",
      "source /cvmfs/fermilab.opensciencegrid.org/products/common/etc/setups\r\n",
      "setup ifdhc v1_6_2 -z /cvmfs/fermilab.opensciencegrid.org/products/common/db\r\n",
      "\r\n",
      "echo \"Environment for this job is \" > job_env_${CLUSTER}.${PROCESS}.out\r\n",
      "env >> job_env_${CLUSTER}.${PROCESS}.out\r\n",
      "\r\n",
      "# Store the jobsub job id\r\n",
      "if [ \"${PROCESS}\" == \"0\" ]; then\r\n",
      "        echo ${JOBSUBJOBID} > ${JOBSUBJOBID}\r\n",
      "        ifdh cp -D ${JOBSUBJOBID} $outpath\r\n",
      "fi\r\n",
      "\r\n",
      "# Setup g-2 stuff\r\n",
      "source /cvmfs/oasis.opensciencegrid.org/gm2/prod/g-2/setup\r\n",
      "setup gm2 v6_01_00 -q prof\r\n",
      "\r\n",
      "# Now untar our stuff\r\n",
      "tar xvzf $INPUT_TAR_FILE\r\n",
      "\r\n",
      "# Add our local products to the $PRODUCTS directory\r\n",
      "export PRODUCTS=$PWD/localProducts_gm2_v6_01_00_prof:$PRODUCTS\r\n",
      "echo $PRODUCTS\r\n",
      "setup gm2ringsim v3_00_00 -q e7:prof\r\n",
      "\r\n",
      "# Let's see what we've got\r\n",
      "ups active\r\n",
      "\r\n",
      "# Now we need to alter the fcl file to add our arcnum and time\r\n",
      "csvfile=\"fieldScan_arc${arcnum}_t${fieldTime}.csv\"\r\n",
      "vtifile=\"fieldScan_arc${arcnum}_t_${fieldTime}.vti\"\r\n",
      "fclfile=\"kickerMovie_${CLUSTER}_${PROCESS}.fcl\"\r\n",
      "sed -e \"s/%%ARCNUM%%/${arcnum}/\" -e \"s/%%TIME%%/${fieldTime}/\" -e \"s/%%CSVFILE%%/${csvfile}/\" kickerMovieJob/kickerMovie.fcl_TEMPLATE > $fclfile\r\n",
      "\r\n",
      "# And run!\r\n",
      "gm2log=\"gm2_out_${CLUSTER}.${PROCESS}.log\"\r\n",
      "gm2 -c $fclfile -n 1 >& $gm2log\r\n",
      "\r\n",
      "# Now convert to vtk\r\n",
      "cd kickerMovieJob\r\n",
      "tar xvzf paraview.tgz\r\n",
      "\r\n",
      "export PATH=$PATH:$PWD/ParaView-4.3.1-Linux-64bit/bin\r\n",
      "cd ..\r\n",
      "\r\n",
      "pvpython kickerMovieJob/convertFieldToImageData.py $csvfile\r\n",
      "mv bfield.vti $vtifile\r\n",
      "\r\n",
      "# We want the output root file too\r\n",
      "outroot=\"out_${CLUSTER}.${PROCESS}.root\"\r\n",
      "mv x.root $outroot\r\n",
      "\r\n",
      "# Copy stuff back\r\n",
      "ifdh cp -D $gm2log $vtifile $csvfile $fclfile $outroot $outpath\r\n"
     ]
    }
   ],
   "source": [
    "!cat workerNodeScript_allarcs.sh"
   ]
  },
  {
   "cell_type": "markdown",
   "metadata": {
    "collapsed": true
   },
   "source": [
    "From the Seattle workshop, I think I need to take at least 1mm steps (grids seem to be in 0.5 mm steps). The grids tend to be cartesian, which is good. But may be in strange local coordinates. Would be nice to have polar coordinates instead of cartesian. "
   ]
  },
  {
   "cell_type": "markdown",
   "metadata": {},
   "source": [
    "\n",
    "\n"
   ]
  },
  {
   "cell_type": "markdown",
   "metadata": {},
   "source": [
    "I can have paraview calculate polar coordinates with a calculator. Then, by selecting points on the edges and labeling them with this data, we can divide up the space. Below is Arc 00 (in Geant numbering). "
   ]
  },
  {
   "cell_type": "code",
   "execution_count": 1,
   "metadata": {
    "collapsed": true
   },
   "outputs": [],
   "source": [
    "!cp /Users/lyon/Development/g-2/projects/20150529/try/arcPositions/arc00.png ."
   ]
  },
  {
   "cell_type": "markdown",
   "metadata": {},
   "source": [
    "![arc00](arc00.png)"
   ]
  },
  {
   "cell_type": "markdown",
   "metadata": {},
   "source": [
    "A little hard to read. The tuples are $(\\rho, \\phi, y$) where $\\rho = \\sqrt{x^2+z^2}$ and $\\phi = \\tan^{-1}(z/x)$. $y$ is the vertical coordinate. This arc (00) has tracker chambers, and so its scallop is a little fatter than normal. From this, we see a range $7235 < \\rho < 6575$, $0 < \\phi < 0.524$ and $-80 < y < 80$ where linear units are mm."
   ]
  },
  {
   "cell_type": "markdown",
   "metadata": {},
   "source": [
    "We can split up phi a little better."
   ]
  },
  {
   "cell_type": "code",
   "execution_count": 10,
   "metadata": {
    "collapsed": false
   },
   "outputs": [
    {
     "data": {
      "text/plain": [
       "6.288"
      ]
     },
     "execution_count": 10,
     "metadata": {},
     "output_type": "execute_result"
    }
   ],
   "source": [
    "0.524*12"
   ]
  },
  {
   "cell_type": "code",
   "execution_count": 5,
   "metadata": {
    "collapsed": false
   },
   "outputs": [
    {
     "data": {
      "text/plain": [
       "6.283185307179586"
      ]
     },
     "execution_count": 5,
     "metadata": {},
     "output_type": "execute_result"
    }
   ],
   "source": [
    "import math\n",
    "2*math.pi"
   ]
  },
  {
   "cell_type": "code",
   "execution_count": 9,
   "metadata": {
    "collapsed": false
   },
   "outputs": [
    {
     "data": {
      "text/plain": [
       "0.5235987755982988"
      ]
     },
     "execution_count": 9,
     "metadata": {},
     "output_type": "execute_result"
    }
   ],
   "source": [
    "2*math.pi/12"
   ]
  },
  {
   "cell_type": "markdown",
   "metadata": {},
   "source": [
    "Looks like 0.524 for $\\phi$ is a good step per arc. "
   ]
  },
  {
   "cell_type": "markdown",
   "metadata": {},
   "source": [
    "We need to look at arc11, since that one is bigger due to the yoke"
   ]
  },
  {
   "cell_type": "markdown",
   "metadata": {},
   "source": [
    "Note that arc11 extends further in $\\phi$ than the others. "
   ]
  },
  {
   "cell_type": "markdown",
   "metadata": {
    "collapsed": true
   },
   "source": [
    "Inner radius of 6560 mm looks good"
   ]
  },
  {
   "cell_type": "markdown",
   "metadata": {},
   "source": [
    "Outer radius of 7245 looks good too except for the inflector arc.\n",
    "For the inflector arc, 9000mm looks good. "
   ]
  },
  {
   "cell_type": "markdown",
   "metadata": {},
   "source": [
    "If we use 0.524 radians spacing, then we'll have..."
   ]
  },
  {
   "cell_type": "code",
   "execution_count": 49,
   "metadata": {
    "collapsed": false
   },
   "outputs": [
    {
     "name": "stdout",
     "output_type": "stream",
     "text": [
      "arc 0, x1=9000.0, z1=0.0; x2=7792.42249694, z2=4503.12687243\n",
      "arc 1, x1=7792.42249694, z1=4503.12687243; x2=4493.7440824, z2=7797.83714384\n",
      "arc 2, x1=4493.7440824, z1=7797.83714384; x2=-10.8330562301, z2=8999.99348027\n",
      "arc 3, x1=-10.8330562301, z1=8999.99348027; x2=-4512.5031382, z2=7786.99656015\n",
      "arc 4, x1=-4512.5031382, z1=7786.99656015; x2=-7803.24049301, z2=4484.35478171\n",
      "arc 5, x1=-7803.24049301, z1=4484.35478171; x2=-8999.97392109, z2=-21.6660967649\n",
      "arc 6, x1=-8999.97392109, z1=-21.6660967649; x2=-7781.55934133, z2=-4521.87286612\n",
      "arc 7, x1=-7781.55934133, z1=-4521.87286612; x2=-4474.95898395, z2=-7808.63253662\n",
      "arc 8, x1=-4474.95898395, z1=-7808.63253662; x2=32.4991059092, z2=-8999.94132248\n",
      "arc 9, x1=32.4991059092, z1=-8999.94132248; x2=4531.23604262, z2=-7776.11084837\n",
      "arc 10, x1=4531.23604262, z1=-7776.11084837; x2=7814.01326686, z2=-4465.55670274\n",
      "arc 11, x1=7814.01326686, z1=-4465.55670274; x2=8999.8956845, z2=43.3320679679\n"
     ]
    }
   ],
   "source": [
    "for a in range(12):\n",
    "    x1 = 9000 * math.cos(a*0.524)\n",
    "    z1 = 9000 * math.sin(a*0.524)\n",
    "    x2 = 9000 * math.cos((a+1)*0.524)\n",
    "    z2 = 9000 * math.sin((a+1)*0.524)\n",
    "    print \"arc {}, x1={}, z1={}; x2={}, z2={}\".format(a, x1, z1, x2, z2)"
   ]
  },
  {
   "cell_type": "markdown",
   "metadata": {
    "collapsed": true
   },
   "source": [
    "The above works great!"
   ]
  },
  {
   "cell_type": "markdown",
   "metadata": {},
   "source": [
    "Now, how many points do we want to do?"
   ]
  },
  {
   "cell_type": "markdown",
   "metadata": {},
   "source": [
    "For normal arcs,"
   ]
  },
  {
   "cell_type": "code",
   "execution_count": 29,
   "metadata": {
    "collapsed": true
   },
   "outputs": [],
   "source": [
    "def nsteps(pmin, pmax, stepSize):\n",
    "    return (pmax-pmin)/stepSize"
   ]
  },
  {
   "cell_type": "code",
   "execution_count": 30,
   "metadata": {
    "collapsed": false
   },
   "outputs": [
    {
     "data": {
      "text/plain": [
       "160.0"
      ]
     },
     "execution_count": 30,
     "metadata": {},
     "output_type": "execute_result"
    }
   ],
   "source": [
    "ymin=-80; ymax=80 ; nYsteps=nsteps(ymin, ymax, 1.0) ; nYsteps"
   ]
  },
  {
   "cell_type": "code",
   "execution_count": 31,
   "metadata": {
    "collapsed": false
   },
   "outputs": [
    {
     "data": {
      "text/plain": [
       "685.0"
      ]
     },
     "execution_count": 31,
     "metadata": {},
     "output_type": "execute_result"
    }
   ],
   "source": [
    "rmin=6560; rmax=7245; nRsteps = nsteps(rmin, rmax, 1.0) ; nRsteps"
   ]
  },
  {
   "cell_type": "raw",
   "metadata": {},
   "source": [
    "For phi range, let's try to set outside to 0.75 mm ark lengh"
   ]
  },
  {
   "cell_type": "markdown",
   "metadata": {},
   "source": [
    "s = $r \\phi$"
   ]
  },
  {
   "cell_type": "code",
   "execution_count": 32,
   "metadata": {
    "collapsed": false
   },
   "outputs": [
    {
     "data": {
      "text/plain": [
       "0.00010351966873706004"
      ]
     },
     "execution_count": 32,
     "metadata": {},
     "output_type": "execute_result"
    }
   ],
   "source": [
    "phiSpacing = 0.75/7245; phiSpacing"
   ]
  },
  {
   "cell_type": "code",
   "execution_count": 33,
   "metadata": {
    "collapsed": false
   },
   "outputs": [
    {
     "data": {
      "text/plain": [
       "0.000103"
      ]
     },
     "execution_count": 33,
     "metadata": {},
     "output_type": "execute_result"
    }
   ],
   "source": [
    "phiSpacing = math.floor(phiSpacing*1000000)/1000000.0 ; phiSpacing"
   ]
  },
  {
   "cell_type": "code",
   "execution_count": 34,
   "metadata": {
    "collapsed": false
   },
   "outputs": [
    {
     "data": {
      "text/plain": [
       "5087.378640776699"
      ]
     },
     "execution_count": 34,
     "metadata": {},
     "output_type": "execute_result"
    }
   ],
   "source": [
    "0.524/phiSpacing"
   ]
  },
  {
   "cell_type": "code",
   "execution_count": 35,
   "metadata": {
    "collapsed": false
   },
   "outputs": [
    {
     "data": {
      "text/plain": [
       "61001.79909883094"
      ]
     },
     "execution_count": 35,
     "metadata": {},
     "output_type": "execute_result"
    }
   ],
   "source": [
    "2*math.pi/phiSpacing"
   ]
  },
  {
   "cell_type": "markdown",
   "metadata": {},
   "source": [
    "Make the phi steps an even 50000"
   ]
  },
  {
   "cell_type": "code",
   "execution_count": 36,
   "metadata": {
    "collapsed": true
   },
   "outputs": [],
   "source": [
    "phiSteps=50004"
   ]
  },
  {
   "cell_type": "code",
   "execution_count": 37,
   "metadata": {
    "collapsed": false
   },
   "outputs": [
    {
     "data": {
      "text/plain": [
       "0.00012565365385128362"
      ]
     },
     "execution_count": 37,
     "metadata": {},
     "output_type": "execute_result"
    }
   ],
   "source": [
    "dphi = (2*math.pi)/phiSteps ; dphi"
   ]
  },
  {
   "cell_type": "markdown",
   "metadata": {},
   "source": [
    "How many steps per arc?"
   ]
  },
  {
   "cell_type": "code",
   "execution_count": 38,
   "metadata": {
    "collapsed": false
   },
   "outputs": [
    {
     "data": {
      "text/plain": [
       "4167.0"
      ]
     },
     "execution_count": 38,
     "metadata": {},
     "output_type": "execute_result"
    }
   ],
   "source": [
    "phiSteps/12."
   ]
  },
  {
   "cell_type": "code",
   "execution_count": 46,
   "metadata": {
    "collapsed": false
   },
   "outputs": [
    {
     "data": {
      "text/plain": [
       "0.00012574994000479962"
      ]
     },
     "execution_count": 46,
     "metadata": {},
     "output_type": "execute_result"
    }
   ],
   "source": [
    "0.524 / (phiSteps/12.0)"
   ]
  },
  {
   "cell_type": "code",
   "execution_count": 39,
   "metadata": {
    "collapsed": false
   },
   "outputs": [
    {
     "data": {
      "text/plain": [
       "6.283185307179586"
      ]
     },
     "execution_count": 39,
     "metadata": {},
     "output_type": "execute_result"
    }
   ],
   "source": [
    "phiSteps*dphi "
   ]
  },
  {
   "cell_type": "code",
   "execution_count": 40,
   "metadata": {
    "collapsed": false
   },
   "outputs": [
    {
     "data": {
      "text/plain": [
       "0.8261727740721898"
      ]
     },
     "execution_count": 40,
     "metadata": {},
     "output_type": "execute_result"
    }
   ],
   "source": [
    "6575*dphi"
   ]
  },
  {
   "cell_type": "code",
   "execution_count": 41,
   "metadata": {
    "collapsed": false
   },
   "outputs": [
    {
     "data": {
      "text/plain": [
       "1.1308828846615526"
      ]
     },
     "execution_count": 41,
     "metadata": {},
     "output_type": "execute_result"
    }
   ],
   "source": [
    "9000*dphi"
   ]
  },
  {
   "cell_type": "markdown",
   "metadata": {},
   "source": [
    "So, how many points total will we have?"
   ]
  },
  {
   "cell_type": "code",
   "execution_count": 44,
   "metadata": {
    "collapsed": false
   },
   "outputs": [
    {
     "data": {
      "text/plain": [
       "5.4804384"
      ]
     },
     "execution_count": 44,
     "metadata": {},
     "output_type": "execute_result"
    }
   ],
   "source": [
    "totalPoints = (nYsteps * nRsteps * phiSteps)/1e9 ; totalPoints  # IN Billions"
   ]
  },
  {
   "cell_type": "code",
   "execution_count": 45,
   "metadata": {
    "collapsed": false
   },
   "outputs": [
    {
     "data": {
      "text/plain": [
       "456.7032"
      ]
     },
     "execution_count": 45,
     "metadata": {},
     "output_type": "execute_result"
    }
   ],
   "source": [
    "totalPoints/12*1e3  # IN Millions - per arc"
   ]
  },
  {
   "cell_type": "markdown",
   "metadata": {},
   "source": [
    "Need animation of arcs 2 and 3"
   ]
  },
  {
   "cell_type": "code",
   "execution_count": null,
   "metadata": {
    "collapsed": true
   },
   "outputs": [],
   "source": []
  }
 ],
 "metadata": {
  "kernelspec": {
   "display_name": "Python 2",
   "language": "python",
   "name": "python2"
  },
  "language_info": {
   "codemirror_mode": {
    "name": "ipython",
    "version": 2
   },
   "file_extension": ".py",
   "mimetype": "text/x-python",
   "name": "python",
   "nbconvert_exporter": "python",
   "pygments_lexer": "ipython2",
   "version": "2.7.10"
  }
 },
 "nbformat": 4,
 "nbformat_minor": 0
}
