{
 "cells": [
  {
   "cell_type": "markdown",
   "metadata": {},
   "source": [
    "# Examine Nathan's kicker and inflector"
   ]
  },
  {
   "cell_type": "markdown",
   "metadata": {},
   "source": [
    "Examine Nathan's new inflector and kicker classes and compare the fields with the old one. \n",
    "\n",
    "Deliveriables:\n",
    "* Display of kicker and inflector fields\n",
    "* Animation of kicker fields with time\n",
    "* Maybe nice picture of some events"
   ]
  },
  {
   "cell_type": "code",
   "execution_count": 1,
   "metadata": {
    "collapsed": false
   },
   "outputs": [
    {
     "name": "stdout",
     "output_type": "stream",
     "text": [
      "/Users/lyon/dataAnalysisPlatform/Documents/g-2/project-20150529\r\n"
     ]
    }
   ],
   "source": [
    "!pwd"
   ]
  },
  {
   "cell_type": "markdown",
   "metadata": {},
   "source": [
    "Open a window to the right place to run stuff"
   ]
  },
  {
   "cell_type": "code",
   "execution_count": 1,
   "metadata": {
    "collapsed": false
   },
   "outputs": [
    {
     "name": "stdout",
     "output_type": "stream",
     "text": [
      "Overwriting start-iTerm.scr\n"
     ]
    }
   ],
   "source": [
    "%%file start-iTerm.scr\n",
    "tell application \"iTerm\"\n",
    "    activate\n",
    "    set myterm to (make new terminal)\n",
    "    tell myterm\n",
    "        launch session \"Default Session\"\n",
    "        tell the last session   \n",
    "            set name to \"project-20150529\"\n",
    "            write text \"source /cvmfs/oasis.opensciencegrid.org/gm2/prod/g-2/setup\"\n",
    "            write text \"cd ~/Development/g-2/projects/20150529/try/\"\n",
    "            write text \"source ../localProducts_gm2_v6_01_00_debug/setup\"\n",
    "            write text \"setup ninja v1_5_3a\"\n",
    "            write text \". mrb s\"\n",
    "            write text \"export PATH=$PATH:/Applications/paraview4.3.1.app/Contents/bin\"\n",
    "        end tell\n",
    "    end tell\n",
    "end tell"
   ]
  },
  {
   "cell_type": "code",
   "execution_count": 2,
   "metadata": {
    "collapsed": false
   },
   "outputs": [],
   "source": [
    "!osascript start-iTerm.scr"
   ]
  },
  {
   "cell_type": "markdown",
   "metadata": {},
   "source": [
    "Kim says that the fcl files that actually work are in his directory at `/gm2/app/users/kkhaw/Work/kicker/FCL/`. I copied `laser.fcl` (pencil beam) and `realbeam.fcl` (Volodya's sample). There are lots of other fcl's there based on these. I think Kim must be scanning. I've asked him which file is best. "
   ]
  },
  {
   "cell_type": "markdown",
   "metadata": {},
   "source": [
    "Let's see what Nathan's code does...  Will be looking at `realbeam.fcl` (`laser.fcl`) is similar. \n",
    "\n",
    "The FCL loads `NathanInflector` and `NathanKicker`. \n",
    "\n",
    "Look at the kicker first:\n",
    "* The electrodes are sensitive detectors and are turned into art records.\n",
    "* `kPlates` are `989`, so the 989 field map is used (`g2RunTimeFiles/KickerBfield989.dat`).\n",
    "* The kicker circuit defines the rise, top, and fall time.\n",
    "* `KickerField::GetFieldValue` has the `useOneTurnApproximation` set - this means that the kicker is on full strength for the first turn of the muon around the ring and off for the rest. \n"
   ]
  },
  {
   "cell_type": "markdown",
   "metadata": {},
   "source": [
    "Note that the FCL's don't explicitly load the `TFileService`. If you supply the `-T <rootFileName>` option to `gm2`, then `TFileService` is loaded automatically. "
   ]
  },
  {
   "cell_type": "markdown",
   "metadata": {},
   "source": [
    "I ran with \n",
    "```bash\n",
    "gm2 -c ./realbeam.fcl -n 5 -T inf_5events.root -o out_5events.root\n",
    "```\n",
    "\n",
    "Note that the default `realbeam.fcl` doesn't have the straw tracker in it."
   ]
  },
  {
   "cell_type": "markdown",
   "metadata": {
    "collapsed": true
   },
   "source": [
    "Kim says to try his FCL file `realbeam_x-4.0_xp0.04_y0.0_yp0.0_dpp0.1_infXp-3.5_infBy0-1.4790_kBy0280.fcl` and Nathan says I can turn off the one turn approximation. I should set up a debug checker to see when the magnetic field is sampled and its values. Kim's FCL files are at `/gm2/app/users/kkhaw/Work/kicker/FCL/`. I've made a soft link in my `try` directory called `realbeam_good.fcl` to Kim's best FCL file above."
   ]
  },
  {
   "cell_type": "markdown",
   "metadata": {},
   "source": [
    "Let's try the following:\n",
    "* Determine when and where Geant makes the kicker magnetic field requests. "
   ]
  },
  {
   "cell_type": "markdown",
   "metadata": {},
   "source": [
    "![Ring Map](ringMap.png)\n",
    "(from https://muon.npl.washington.edu/elog/g2/General+Field+Team/86)"
   ]
  },
  {
   "cell_type": "markdown",
   "metadata": {},
   "source": [
    "The above is a map of the ring. Note that Geant has the wrong Arc numbers. `S01` is Arc 11 and `S02` is Arc 00. So the kickers are in Arcs 02 and 03."
   ]
  },
  {
   "cell_type": "markdown",
   "metadata": {},
   "source": [
    "I have a breakpoint:\n",
    "<img src=\"kickerOneTurnBP.png\" width=400/>\n",
    "\n",
    "The full text boxes are:\n",
    "Script location: `/Users/lyon/Development/g-2/projects/20150529/try/magFieldCheck.sh`\n",
    "and argument list `@Point[0]@,@Point[1]@,@Point[2]@,@Point[3]@,@TurnCounter::getInstance().turns()@,@Bfield[0]@,@Bfield[1]@,@Bfield[2]@`"
   ]
  },
  {
   "cell_type": "code",
   "execution_count": 11,
   "metadata": {
    "collapsed": false
   },
   "outputs": [
    {
     "name": "stdout",
     "output_type": "stream",
     "text": [
      "#!/bin/sh\r\n",
      "\r\n",
      "#  magFieldCheck.sh\r\n",
      "#  project-20150529\r\n",
      "#\r\n",
      "#  Created by Adam Lyon on 6/7/15.\r\n",
      "#  Copyright (c) 2015 Adam L Lyon. All rights reserved.\r\n",
      "\r\n",
      "out=\"magFieldCheck.csv\"\r\n",
      "\r\n",
      "if [ ! -r \"$out\" ]; then\r\n",
      "  echo 'x,y,z,t,nturns,Bx,By,Bz' > $out\r\n",
      "fi\r\n",
      "\r\n",
      "echo $1,$2,$3,$4,$5,$6,$7 >> $out"
     ]
    }
   ],
   "source": [
    "!cat /Users/lyon/Development/g-2/projects/20150529/try/magFieldCheck.sh"
   ]
  },
  {
   "cell_type": "markdown",
   "metadata": {},
   "source": [
    "Trying with \n",
    "```bash\n",
    "gm2 -c ./realbeam_good.fcl -n 5 -T inf_5events.root -o out_5events.root\n",
    "```"
   ]
  },
  {
   "cell_type": "markdown",
   "metadata": {},
   "source": [
    "<font color=\"red\">Well</font> - there seems to be a buffer problem with writing out this information... I eventually get the deugger console file filling up with, \n",
    "\n",
    "```Error in shell command “/Users/lyon/Development/g-2/projects/20150529/try/magFieldCheck.sh” for breakpoint “gm2ringsim::KickerField::GetFieldValue( const G4double Point[4], G4double* Bfield )” - “Failed to set posix_spawn_file_actions for fd -1 at index 0 with errno 9”```"
   ]
  },
  {
   "cell_type": "markdown",
   "metadata": {},
   "source": [
    "Output to the log seems to work much better! - But it's very slow! - But when I output more data, it seems to get stuck after awhile. I think this is just too slow and buggy to be useful. Write some code!!"
   ]
  },
  {
   "cell_type": "markdown",
   "metadata": {},
   "source": [
    "## New Feature branch `feature/adamFieldDebug` based from `feature/nathan`"
   ]
  },
  {
   "cell_type": "markdown",
   "metadata": {},
   "source": [
    "Adding a new main directory to `gm2analyses` called `debugging` -- This will contain visualization and debugging services."
   ]
  },
  {
   "cell_type": "markdown",
   "metadata": {
    "collapsed": true
   },
   "source": [
    "Wrote `gm2ringsim/debugging/writeFieldLookup_service` which outputs to a file every field lookup."
   ]
  },
  {
   "cell_type": "markdown",
   "metadata": {},
   "source": [
    "Looking at the kicker field timing. The class that drives the kicker field is `KickerCircuit989Actual`. It reads a file to get the kicker map - but then it re-centers the pulse timing so that the peak is in a specific place. Complicated! The upshot is that the kicker turns on at -39ns, peaks at 132ns, and ends at 283ns. Note that different kicker magnets have different start/peak/end times. The numbers above are for kicker 0. "
   ]
  },
  {
   "cell_type": "markdown",
   "metadata": {},
   "source": [
    "Now we may want to do a field scan (moved to `debugging`) and do the scan with multiple parallel jobs. So we'll break up the scan in z (`k` iterator). You can now also enter the time the field is sampled in the FCL file. "
   ]
  },
  {
   "cell_type": "markdown",
   "metadata": {
    "collapsed": true
   },
   "source": [
    "So I have a field scan of arcs 3 and 11, but the magnetic fields always comes out to be really small. For example, the units on the colors of the fields are in the $10^{-3}$. According to the TDR (section 9.7.2), the field is 1.45 T. When I run gm2 in the debugger, the storage ring field is $0.0014512990674790127$  (this comes from `gm2ringsim::arc::StorageRingField.cc:302`). Why is the value so small and why all the digits? -- Because the `tesla` unit in `CLHEP/Units/SystemOfUnits.h` is $0.001$ to convert to some standard unit of `0.001*megavolt*ns/mm2`. Have to debug more to see where the field itself is set. "
   ]
  },
  {
   "cell_type": "markdown",
   "metadata": {},
   "source": [
    "So anyway, to get tesla, should multiply values by 1000."
   ]
  },
  {
   "cell_type": "markdown",
   "metadata": {},
   "source": [
    "It would be nice to have a generic programmable source where you can use a selector to choose the file name."
   ]
  },
  {
   "cell_type": "markdown",
   "metadata": {
    "collapsed": true
   },
   "source": [
    "Keeping track of what I'm doing... I added the `MetadataFromFile_module` to `gm2analyses/util`. I think the best way to make the file that records what I did is to run,\n",
    "\n",
    "```bash\n",
    "here=$PWD\n",
    "ups active > $here/codeConfig.out\n",
    "pushd $MRB_SOURCE\n",
    "for i in `grep -v '^#' .cmake_add_subdir | cut -f 2 -d '(' | cut -f 1 -d ')'`; do \n",
    "   cd $i \n",
    "   echo \"-----> $i\" >> $here/codeConfig.out\n",
    "   mrb c | head -1  >> $here/codeConfig.out\n",
    "   cd  .. \n",
    "done\n",
    "popd\n",
    "```"
   ]
  },
  {
   "cell_type": "markdown",
   "metadata": {},
   "source": [
    "##  Visualize muon path with and without kicker"
   ]
  },
  {
   "cell_type": "markdown",
   "metadata": {},
   "source": [
    "See https://www.evernote.com/shard/s25/nl/2820802/6c36a84e-f1d0-4129-b30a-42b7589f0aa7/ for a general plan."
   ]
  },
  {
   "cell_type": "code",
   "execution_count": null,
   "metadata": {
    "collapsed": true
   },
   "outputs": [],
   "source": []
  }
 ],
 "metadata": {
  "kernelspec": {
   "display_name": "Python 2",
   "language": "python",
   "name": "python2"
  },
  "language_info": {
   "codemirror_mode": {
    "name": "ipython",
    "version": 2
   },
   "file_extension": ".py",
   "mimetype": "text/x-python",
   "name": "python",
   "nbconvert_exporter": "python",
   "pygments_lexer": "ipython2",
   "version": "2.7.10"
  }
 },
 "nbformat": 4,
 "nbformat_minor": 0
}
