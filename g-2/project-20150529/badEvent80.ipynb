{
 "cells": [
  {
   "cell_type": "markdown",
   "metadata": {},
   "source": [
    "# Bad event 80"
   ]
  },
  {
   "cell_type": "markdown",
   "metadata": {},
   "source": [
    "While trying to find good events to study, I've hit upon one that seems to get into an infinite loop. "
   ]
  },
  {
   "cell_type": "markdown",
   "metadata": {},
   "source": [
    "See /Users/lyon/Development/g-2/projects/20150529/try/event80"
   ]
  },
  {
   "cell_type": "code",
   "execution_count": 1,
   "metadata": {
    "collapsed": false
   },
   "outputs": [
    {
     "name": "stdout",
     "output_type": "stream",
     "text": [
      "Overwriting start-iTerm_badEvent80.scr\n"
     ]
    }
   ],
   "source": [
    "%%file start-iTerm_badEvent80.scr\n",
    "tell application \"iTerm\"\n",
    "    activate\n",
    "    set myterm to (make new terminal)\n",
    "    tell myterm\n",
    "        launch session \"Default Session\"\n",
    "        tell the last session   \n",
    "            set name to \"project-20150529-badEvent80\"\n",
    "            write text \"source /cvmfs/oasis.opensciencegrid.org/gm2/prod/g-2/setup\"\n",
    "            write text \"cd ~/Development/g-2/projects/20150529/try/event80\"\n",
    "            write text \"source ../../localProducts_gm2_v6_01_00_debug/setup\"\n",
    "            write text \"setup ninja v1_5_3a\"\n",
    "            write text \". mrb s\"\n",
    "            write text \"export PATH=$PATH:/Applications/paraview4.3.1.app/Contents/bin\"\n",
    "        end tell\n",
    "    end tell\n",
    "end tell"
   ]
  },
  {
   "cell_type": "code",
   "execution_count": 2,
   "metadata": {
    "collapsed": false
   },
   "outputs": [],
   "source": [
    "!osascript start-iTerm_badEvent80.scr"
   ]
  },
  {
   "cell_type": "markdown",
   "metadata": {},
   "source": [
    "Run `eventsWithCaloHits.fcl`"
   ]
  },
  {
   "cell_type": "code",
   "execution_count": null,
   "metadata": {
    "collapsed": true
   },
   "outputs": [],
   "source": []
  }
 ],
 "metadata": {
  "kernelspec": {
   "display_name": "Python 2",
   "language": "python",
   "name": "python2"
  },
  "language_info": {
   "codemirror_mode": {
    "name": "ipython",
    "version": 2
   },
   "file_extension": ".py",
   "mimetype": "text/x-python",
   "name": "python",
   "nbconvert_exporter": "python",
   "pygments_lexer": "ipython2",
   "version": "2.7.10"
  }
 },
 "nbformat": 4,
 "nbformat_minor": 0
}
