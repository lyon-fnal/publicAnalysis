{
 "cells": [
  {
   "cell_type": "markdown",
   "metadata": {},
   "source": [
    "# numpy slicing "
   ]
  },
  {
   "cell_type": "markdown",
   "metadata": {},
   "source": [
    "I load a csv file into numpy. I want to slice out part of the resulting array to put into VTK."
   ]
  },
  {
   "cell_type": "markdown",
   "metadata": {},
   "source": [
    "Let's load in some data"
   ]
  },
  {
   "cell_type": "code",
   "execution_count": 18,
   "metadata": {
    "collapsed": true
   },
   "outputs": [],
   "source": [
    "from StringIO import StringIO\n",
    "import numpy as np"
   ]
  },
  {
   "cell_type": "code",
   "execution_count": 14,
   "metadata": {
    "collapsed": false
   },
   "outputs": [],
   "source": [
    "fname='/Users/lyon/Development/g-2/projects/20150529/try/fieldLookup_000001_fieldOut.csv'\n",
    "d = np.genfromtxt(fname, dtype='<i4,<f8,<f8,<f8,<f8,<f8,<f8,<f8', delimiter=',', autostrip=True, names=True)"
   ]
  },
  {
   "cell_type": "code",
   "execution_count": 11,
   "metadata": {
    "collapsed": false
   },
   "outputs": [
    {
     "data": {
      "text/plain": [
       "array([(7.0, 6670.1, 8.28192, -5025.02, 72.5177, -0.0, -0.0, 0.0),\n",
       "       (0.0, 6670.1, 8.28192, -5025.02, 72.5177, 0.0, 0.0, -0.0),\n",
       "       (0.0, 6679.22, 7.71508, -4950.63, 72.5177, 0.000260298, -0.00661571, -0.000158726),\n",
       "       ...,\n",
       "       (3.0, 7156.83, -12.3192, -749.617, 86.8804, -0.0171781, 0.786486, -0.17565),\n",
       "       (0.0, 7156.85, -12.3283, -749.602, 86.8804, -0.000507018, 1.45243, 1.70694e-05),\n",
       "       (3.0, 7156.85, -12.3283, -749.602, 86.8804, -0.0171662, 0.790942, -0.176443)], \n",
       "      dtype=[('name', '<f8'), ('x', '<f8'), ('y', '<f8'), ('z', '<f8'), ('t', '<f8'), ('Bx', '<f8'), ('By', '<f8'), ('Bz', '<f8')])"
      ]
     },
     "execution_count": 11,
     "metadata": {},
     "output_type": "execute_result"
    }
   ],
   "source": [
    "d"
   ]
  },
  {
   "cell_type": "code",
   "execution_count": 26,
   "metadata": {
    "collapsed": false
   },
   "outputs": [
    {
     "data": {
      "text/plain": [
       "(1278824,)"
      ]
     },
     "execution_count": 26,
     "metadata": {},
     "output_type": "execute_result"
    }
   ],
   "source": [
    "d.shape"
   ]
  },
  {
   "cell_type": "code",
   "execution_count": 27,
   "metadata": {
    "collapsed": false
   },
   "outputs": [
    {
     "data": {
      "text/plain": [
       "(7, 6670.1, 8.28169, -5024.99, 72.5177, -0.0, -0.0, 0.0)"
      ]
     },
     "execution_count": 27,
     "metadata": {},
     "output_type": "execute_result"
    }
   ],
   "source": [
    "d[50]"
   ]
  },
  {
   "cell_type": "code",
   "execution_count": 28,
   "metadata": {
    "collapsed": false
   },
   "outputs": [
    {
     "data": {
      "text/plain": [
       "array([-0.        ,  0.        ,  0.0002603 , ..., -0.0171781 ,\n",
       "       -0.00050702, -0.0171662 ])"
      ]
     },
     "execution_count": 28,
     "metadata": {},
     "output_type": "execute_result"
    }
   ],
   "source": [
    "d[\"Bx\"]"
   ]
  },
  {
   "cell_type": "markdown",
   "metadata": {},
   "source": [
    "Note what's going on here. I don't have a matrix like array. I have an array of rows. This is because the array is not homogeneous and the colums have names. Had I removed the names and made each column the same time, then I'd have a real `ndarray`. What I have here is a \"structured\" or \"record\" array. See http://docs.scipy.org/doc/numpy/user/basics.rec.html for more info."
   ]
  },
  {
   "cell_type": "markdown",
   "metadata": {},
   "source": [
    "Note that the `<` in the `dtype` indicates \"little endien\""
   ]
  },
  {
   "cell_type": "markdown",
   "metadata": {},
   "source": [
    "Here's how to access more than one column"
   ]
  },
  {
   "cell_type": "code",
   "execution_count": 29,
   "metadata": {
    "collapsed": false
   },
   "outputs": [
    {
     "data": {
      "text/plain": [
       "array([(6670.1, 8.28192, -5025.02), (6670.1, 8.28192, -5025.02),\n",
       "       (6679.22, 7.71508, -4950.63), ..., (7156.83, -12.3192, -749.617),\n",
       "       (7156.85, -12.3283, -749.602), (7156.85, -12.3283, -749.602)], \n",
       "      dtype=[('x', '<f8'), ('y', '<f8'), ('z', '<f8')])"
      ]
     },
     "execution_count": 29,
     "metadata": {},
     "output_type": "execute_result"
    }
   ],
   "source": [
    "d[['x', 'y','z']]"
   ]
  },
  {
   "cell_type": "markdown",
   "metadata": {},
   "source": [
    "See http://wiki.scipy.org/Cookbook/Recarray for converting to a regular array"
   ]
  },
  {
   "cell_type": "code",
   "execution_count": 32,
   "metadata": {
    "collapsed": false
   },
   "outputs": [
    {
     "data": {
      "text/plain": [
       "dtype([('name', '<i4'), ('x', '<f8'), ('y', '<f8'), ('z', '<f8'), ('t', '<f8'), ('Bx', '<f8'), ('By', '<f8'), ('Bz', '<f8')])"
      ]
     },
     "execution_count": 32,
     "metadata": {},
     "output_type": "execute_result"
    }
   ],
   "source": [
    "d.dtype"
   ]
  },
  {
   "cell_type": "code",
   "execution_count": 34,
   "metadata": {
    "collapsed": false
   },
   "outputs": [
    {
     "data": {
      "text/plain": [
       "('name', 'x', 'y', 'z', 't', 'Bx', 'By', 'Bz')"
      ]
     },
     "execution_count": 34,
     "metadata": {},
     "output_type": "execute_result"
    }
   ],
   "source": [
    "d.dtype.names"
   ]
  },
  {
   "cell_type": "markdown",
   "metadata": {},
   "source": [
    "We need to convert the structured array into a regular array"
   ]
  },
  {
   "cell_type": "code",
   "execution_count": 50,
   "metadata": {
    "collapsed": false
   },
   "outputs": [
    {
     "data": {
      "text/plain": [
       "array([[ 6670.1    ,     8.28192, -5025.02   ],\n",
       "       [ 6670.1    ,     8.28192, -5025.02   ],\n",
       "       [ 6679.22   ,     7.71508, -4950.63   ],\n",
       "       ..., \n",
       "       [ 7156.83   ,   -12.3192 ,  -749.617  ],\n",
       "       [ 7156.85   ,   -12.3283 ,  -749.602  ],\n",
       "       [ 7156.85   ,   -12.3283 ,  -749.602  ]])"
      ]
     },
     "execution_count": 50,
     "metadata": {},
     "output_type": "execute_result"
    }
   ],
   "source": [
    "d[['x', 'y', 'z']].view( (np.float, 3) )"
   ]
  },
  {
   "cell_type": "code",
   "execution_count": 61,
   "metadata": {
    "collapsed": false
   },
   "outputs": [
    {
     "data": {
      "text/plain": [
       "array([7, 0, 0, ..., 3, 0, 3], dtype=int32)"
      ]
     },
     "execution_count": 61,
     "metadata": {},
     "output_type": "execute_result"
    }
   ],
   "source": [
    "d[\"name\"].ravel()"
   ]
  },
  {
   "cell_type": "code",
   "execution_count": 56,
   "metadata": {
    "collapsed": false
   },
   "outputs": [
    {
     "data": {
      "text/plain": [
       "int"
      ]
     },
     "execution_count": 56,
     "metadata": {},
     "output_type": "execute_result"
    }
   ],
   "source": [
    "np.int"
   ]
  },
  {
   "cell_type": "code",
   "execution_count": null,
   "metadata": {
    "collapsed": true
   },
   "outputs": [],
   "source": []
  }
 ],
 "metadata": {
  "kernelspec": {
   "display_name": "Python 2",
   "language": "python",
   "name": "python2"
  },
  "language_info": {
   "codemirror_mode": {
    "name": "ipython",
    "version": 2
   },
   "file_extension": ".py",
   "mimetype": "text/x-python",
   "name": "python",
   "nbconvert_exporter": "python",
   "pygments_lexer": "ipython2",
   "version": "2.7.9"
  }
 },
 "nbformat": 4,
 "nbformat_minor": 0
}
