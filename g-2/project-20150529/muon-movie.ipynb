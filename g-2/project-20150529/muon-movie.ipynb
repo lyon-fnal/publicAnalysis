{
 "cells": [
  {
   "cell_type": "markdown",
   "metadata": {},
   "source": [
    "# Muon Movie"
   ]
  },
  {
   "cell_type": "markdown",
   "metadata": {},
   "source": [
    "Using `Development/g-2/projects/20150529/try/muonMovie`"
   ]
  },
  {
   "cell_type": "code",
   "execution_count": 1,
   "metadata": {
    "collapsed": false
   },
   "outputs": [
    {
     "name": "stdout",
     "output_type": "stream",
     "text": [
      "Overwriting iterm-muonMovie-prof.scr\n"
     ]
    }
   ],
   "source": [
    "%%file iterm-muonMovie-prof.scr\n",
    "tell application \"iTerm\"\n",
    "    activate\n",
    "    set myterm to (make new terminal)\n",
    "    tell myterm\n",
    "        launch session \"Default Session\"\n",
    "        tell the last session   \n",
    "            set name to \"project-20150529-prof\"\n",
    "            write text \"source /cvmfs/oasis.opensciencegrid.org/gm2/prod/g-2/setup\"\n",
    "            write text \"cd ~/Development/g-2/projects/20150529/try/\"\n",
    "            write text \"source ../localProducts_gm2_v6_01_00_prof/setup\"\n",
    "            write text \"setup ninja v1_5_3a\"\n",
    "            write text \". mrb s\"\n",
    "            write text \"export PATH=$PATH:/Applications/paraview4.3.1.app/Contents/bin\"\n",
    "            write text \"cd muonMovie\"\n",
    "        end tell\n",
    "    end tell\n",
    "end tell"
   ]
  },
  {
   "cell_type": "code",
   "execution_count": 2,
   "metadata": {
    "collapsed": true
   },
   "outputs": [],
   "source": [
    "!osascript iterm-muonMovie-prof.scr"
   ]
  },
  {
   "cell_type": "markdown",
   "metadata": {},
   "source": [
    "I added code to `artg4` to make a new parameter `maxStepSizeMM` which gives the maximum step size (in mm) that Geant should take. You have to make a region where you can set user limits. The code itself is in `artg4/Core/artg4Main_module.cc:artg4::artg4Main::beginRun`\n",
    "\n",
    "```c++\n",
    " if ( maxStepSizeMM_ > 0.0 ) {\n",
    "    \n",
    "    // Trigger construction of everything\n",
    "    detectorHolder -> worldPhysicalVolume();\n",
    "    \n",
    "    // Get the default region (see http://hypernews.slac.stanford.edu/HyperNews/geant4/get/fastsim/10/1.html )\n",
    "    G4Region* defRegion = G4RegionStore::GetInstance()->GetRegion(\"DefaultRegionForTheWorld\");\n",
    "    \n",
    "    // Set up the user limits\n",
    "    userLimits_ = new G4UserLimits();\n",
    "    userLimits_->SetMaxAllowedStep( maxStepSizeMM_ * mm);\n",
    "    defRegion->SetUserLimits(userLimits_);\n",
    "  }\n",
    "```"
   ]
  },
  {
   "cell_type": "markdown",
   "metadata": {},
   "source": [
    "An original run searching for calorimeter hits from positrons was run with `eventsWithCaloHits.fcl`. That writes out random number state for passing events. Run those with `replayEventsWithCaloHits.fcl` - but it seems that you have to run it for each event, which is strange (e.g. skipping to the right event)."
   ]
  },
  {
   "cell_type": "markdown",
   "metadata": {},
   "source": [
    "I have three events, 33, 572, and 638.  I write out the points and cells separately and bring them together with `convertSteps.py`. "
   ]
  },
  {
   "cell_type": "markdown",
   "metadata": {},
   "source": [
    "Run with,\n",
    "```bash\n",
    "gm2 -c replayEventsWithCaloHits.fcl -n 1 --nskip 0  # Gives first event\n",
    "```"
   ]
  },
  {
   "cell_type": "markdown",
   "metadata": {},
   "source": [
    "| Event | Notes |\n",
    "|-------|-------|\n",
    "| "
   ]
  },
  {
   "cell_type": "code",
   "execution_count": null,
   "metadata": {
    "collapsed": true
   },
   "outputs": [],
   "source": []
  }
 ],
 "metadata": {
  "kernelspec": {
   "display_name": "Python 2",
   "language": "python",
   "name": "python2"
  },
  "language_info": {
   "codemirror_mode": {
    "name": "ipython",
    "version": 2
   },
   "file_extension": ".py",
   "mimetype": "text/x-python",
   "name": "python",
   "nbconvert_exporter": "python",
   "pygments_lexer": "ipython2",
   "version": "2.7.10"
  }
 },
 "nbformat": 4,
 "nbformat_minor": 0
}
