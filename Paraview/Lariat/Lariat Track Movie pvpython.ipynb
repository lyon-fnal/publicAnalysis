{
 "cells": [
  {
   "cell_type": "markdown",
   "metadata": {},
   "source": [
    "# Lariat Displays and Movies with ParaView"
   ]
  },
  {
   "cell_type": "markdown",
   "metadata": {},
   "source": [
    "Adam Lyon / Fermilab SCD / September 2015"
   ]
  },
  {
   "cell_type": "markdown",
   "metadata": {},
   "source": [
    "!! Not complete !! -- **and won't be complete** I had been detailing all of the ParaView steps with python commands passed to `pvpython` in collaboration mode with a backend server and a GUI. It's kinda neat as when you execute a cell, the ParaView GUI reacts accordingly in real time. But in pratice, determining those python commands is very tedious, and in reality, the state files will be much more useful if someone wants to adjust or alter a visualization than the python commands. So I'm re-writing the ParaView parts of this document without the `pvpython` commands. "
   ]
  },
  {
   "cell_type": "markdown",
   "metadata": {},
   "source": [
    "The plan is to demonstrate use of ParaView to make some simple, but effective, event displays of Liquid Argon neutrino data with not too much effort. See Jim Kowalkowski's notes at https://github.com/jbkowalkowski/AnalysisWork/wiki/Geant4-visualization-and-LArSoft for more information."
   ]
  },
  {
   "cell_type": "markdown",
   "metadata": {},
   "source": [
    "Jim has code (see link above) that can write out event data from Lariat from one event (for now). He generates comma-separated-value files (`.csv`) with this data. I have a script `convertCSV.py` that converts the csv file into VTK PolyData and writes that out to a `.vtp` file that ParaView can load directly. Each row of the csv must contain a 3-D position $(x,y,z)$ and then additional columns of metadata that can be integers, floats, or strings. The script will automatically create vectors out of neighboring columns whose titles end in `x`, `y`, `z`. For example, three columns in a row named `px, py, pz` will be turned into a vector called `p`. Other column metadata are turned into scalars. The script associates the metadata with each point. Each point is also a `VTK_VERTEX` cell, but the cell has no metadata (the ParaView `Point Data To Cell Data` filter can copy the point data to the cells if they are needed). "
   ]
  },
  {
   "cell_type": "markdown",
   "metadata": {},
   "source": [
    "## Hit and track information"
   ]
  },
  {
   "cell_type": "markdown",
   "metadata": {},
   "source": [
    "Let's first look at some basic hit & track information. Jim has a file called `output_po.csv` containing hits and metadata."
   ]
  },
  {
   "cell_type": "code",
   "execution_count": 1,
   "metadata": {
    "collapsed": false
   },
   "outputs": [
    {
     "name": "stdout",
     "output_type": "stream",
     "text": [
      "eid/I,type/S,id/I,index/I,x/F,y/F,z/F,dirx/F,diry/F,dirz/F,p/F\r\n",
      "1,pmtrack,0,0,29.4108,-1.02638,50.6487,0.10971,0.035345,-0.993335,0\r\n",
      "1,pmtrack,0,1,29.4585,-1.01102,50.217,0.10971,0.035345,-0.993335,0\r\n",
      "1,pmtrack,0,2,29.5111,-0.994092,49.7413,0.10971,0.035345,-0.993335,0\r\n",
      "1,pmtrack,0,3,29.541,-0.984435,49.4699,0.10971,0.035345,-0.993335,0\r\n",
      "1,pmtrack,0,4,29.5606,-0.978127,49.2927,0.10971,0.035345,-0.993335,0\r\n",
      "1,pmtrack,0,5,29.5959,-0.966758,48.9731,0.10971,0.035345,-0.993335,0\r\n",
      "1,pmtrack,0,6,29.611,-0.961909,48.8369,0.10971,0.035345,-0.993335,0\r\n",
      "1,pmtrack,0,7,29.6475,-0.95012,48.5055,0.10971,0.035345,-0.993335,0\r\n",
      "1,pmtrack,0,8,29.6612,-0.945724,48.382,0.10971,0.035345,-0.993335,0\r\n"
     ]
    }
   ],
   "source": [
    "!head data20150919/output_po.csv"
   ]
  },
  {
   "cell_type": "markdown",
   "metadata": {},
   "source": [
    "The first line is the header with the column name followed by the type (`I` is integer, `F` is float, `S` is string). The types are needed by my `convertCSV.py` script. "
   ]
  },
  {
   "cell_type": "markdown",
   "metadata": {},
   "source": [
    "The data contain rows of hits. Each hit row has:\n",
    "* `eid` The event ID (always 1 since we only have one event)\n",
    "* `type` The track type (`pmtrack`, `costrack`, `cctrack`) representing the tracking algorithm that produced the track. \n",
    "* `id` The ID of the track\n",
    "* `index` The index of the hit on the track (starts at 0 for new track)\n",
    "* `x,y,z` The position of the hit\n",
    "* `dirx, diry, dirz` The track direction at the hit\n",
    "* `p` Not sure what this is, but it's always zero"
   ]
  },
  {
   "cell_type": "markdown",
   "metadata": {},
   "source": [
    "We can convert this to the vtp file,"
   ]
  },
  {
   "cell_type": "code",
   "execution_count": 2,
   "metadata": {
    "collapsed": false
   },
   "outputs": [
    {
     "name": "stdout",
     "output_type": "stream",
     "text": [
      "Read File\n",
      "[('eid', '<i8'), ('type', 'S20'), ('id', '<i8'), ('index', '<i8'), ('x', '<f8'), ('y', '<f8'), ('z', '<f8'), ('dirx', '<f8'), ('diry', '<f8'), ('dirz', '<f8'), ('p', '<f8')]\n",
      "Assemble polydata\n",
      "Making array eid\n",
      "Making array (string) type\n",
      "Making array id\n",
      "Making array index\n",
      "Making array dirx diry dirz\n",
      "Making array p\n",
      "Writing output_po.vtp\n"
     ]
    }
   ],
   "source": [
    "!pvpython convertCSV.py data20150919/output_po.csv"
   ]
  },
  {
   "cell_type": "markdown",
   "metadata": {},
   "source": [
    "Let's display this data in ParaView. ParaView can be driven by this Jupyter Notebook by running `pvpython`. I'll use my `ipythonPexpect` Jupyter extension to launch and control pvpython. It sends commands to a command-line application using the python `pexpect` module. "
   ]
  },
  {
   "cell_type": "code",
   "execution_count": 36,
   "metadata": {
    "collapsed": false
   },
   "outputs": [
    {
     "name": "stdout",
     "output_type": "stream",
     "text": [
      "The ipythonPexpect extension is already loaded. To reload it, use:\n",
      "  %reload_ext ipythonPexpect\n"
     ]
    }
   ],
   "source": [
    "%load_ext ipythonPexpect"
   ]
  },
  {
   "cell_type": "markdown",
   "metadata": {},
   "source": [
    "We can start a ParaView python client (pvpython) and connect it to the server and the GUI. Using the ParaView collaboration tools, the python client can take control of the GUI. "
   ]
  },
  {
   "cell_type": "code",
   "execution_count": 64,
   "metadata": {
    "collapsed": false
   },
   "outputs": [
    {
     "name": "stdout",
     "output_type": "stream",
     "text": [
      "Opened connection to pvpython\n",
      "Python 2.7.10 (default, Jul 14 2015, 19:46:27) \n",
      "[GCC 4.2.1 Compatible Apple LLVM 6.0 (clang-600.0.39)] on darwin\n",
      "Type \"help\", \"copyright\", \"credits\" or \"license\" for more information.\n",
      ">>> "
     ]
    }
   ],
   "source": [
    "%pexpect_spawn_pvpython"
   ]
  },
  {
   "cell_type": "code",
   "execution_count": 65,
   "metadata": {
    "collapsed": false
   },
   "outputs": [
    {
     "name": "stdout",
     "output_type": "stream",
     "text": [
      "WARNING: All future cell execution will be processed through pexpect!\n",
      "To return to IPython, issue %pexpect_unlock\n"
     ]
    }
   ],
   "source": [
    "%pexpect_lock"
   ]
  },
  {
   "cell_type": "markdown",
   "metadata": {},
   "source": [
    "We are now talking to the `pvpython` process. "
   ]
  },
  {
   "cell_type": "code",
   "execution_count": 66,
   "metadata": {
    "collapsed": false
   },
   "outputs": [
    {
     "name": "stdout",
     "output_type": "stream",
     "text": [
      "paraview version 4.4.0-26-g1150ae7\n",
      "ParaView <--> Jupyter Connection\n",
      "Follow these steps:\n",
      "   1) Start the ParaView server with \"pvserver --multi-clients\"\n",
      "   2) Start the ParaView GUI and connect to the server\n",
      "   3) In pvpython (not regular python) make the connection and take control of the gui with\n",
      "        c = connectParaViewJuputer.Connection()\n"
     ]
    }
   ],
   "source": [
    "from paraview.simple import *\n",
    "import connectParaViewJupyter as cpvj"
   ]
  },
  {
   "cell_type": "markdown",
   "metadata": {},
   "source": [
    "The server and GUI need to be started by hand. Then we can connect this pvpython to the GUI and the server."
   ]
  },
  {
   "cell_type": "code",
   "execution_count": 67,
   "metadata": {
    "collapsed": false,
    "scrolled": true
   },
   "outputs": [
    {
     "name": "stdout",
     "output_type": "stream",
     "text": [
      "Connected to server\n",
      "Controlling GUI\n"
     ]
    }
   ],
   "source": [
    "c = cpvj.Connection()"
   ]
  },
  {
   "cell_type": "markdown",
   "metadata": {},
   "source": [
    "We need to load the `output_po.vtp` file and let's activate all of the metadata except for the uninteresting `p`."
   ]
  },
  {
   "cell_type": "code",
   "execution_count": 68,
   "metadata": {
    "collapsed": true
   },
   "outputs": [],
   "source": [
    "from paraview.simple import *"
   ]
  },
  {
   "cell_type": "code",
   "execution_count": 69,
   "metadata": {
    "collapsed": false
   },
   "outputs": [],
   "source": [
    "povtp = XMLPolyDataReader(FileName='output_po.vtp')\n",
    "povtp.PointArrayStatus = ['eid', 'type', 'id', 'index', 'dir']"
   ]
  },
  {
   "cell_type": "markdown",
   "metadata": {},
   "source": [
    "Set up the view and display"
   ]
  },
  {
   "cell_type": "code",
   "execution_count": 70,
   "metadata": {
    "collapsed": false
   },
   "outputs": [],
   "source": [
    "renderView1 = GetActiveViewOrCreate('RenderView')\n",
    "renderView1.ViewSize = [1000, 650]\n",
    "\n",
    "povtpDisp = Show(povtp, renderView1)\n",
    "povtpDisp.ColorArrayName = [None, '']\n",
    "renderView1.ResetCamera()"
   ]
  },
  {
   "cell_type": "markdown",
   "metadata": {},
   "source": [
    "`XMLPolyDataReader` is an ugly name, let's change it to 'event1`."
   ]
  },
  {
   "cell_type": "code",
   "execution_count": 71,
   "metadata": {
    "collapsed": false
   },
   "outputs": [],
   "source": [
    "RenameSource('event1', povtp)\n",
    "povtp = FindSource('event1')  # Renaming invalidates the old pointer, re-find it"
   ]
  },
  {
   "cell_type": "markdown",
   "metadata": {},
   "source": [
    "Let's color the tracks by the reconstruction algorithm (the `type` metadata column): `costrack`, `pmtrack` and `cctrack`. \n",
    "\n",
    "Select `type` as the color and then bring up the color map editor window (View menu). Choose `Interpret Values as Categories` and set it up for the different track algorithm types. The following code does the same thing."
   ]
  },
  {
   "cell_type": "code",
   "execution_count": 72,
   "metadata": {
    "collapsed": false
   },
   "outputs": [
    {
     "name": "stdout",
     "output_type": "stream",
     "text": [
      "True\n"
     ]
    }
   ],
   "source": [
    "ColorBy(povtpDisp, ('POINTS', 'type'))\n",
    "typeLUT = GetColorTransferFunction('type')\n",
    "typeLUT.InterpretValuesAsCategories = 1\n",
    "typeLUT.Annotations = ['cctrack', 'cctrack', 'costrk', 'costrk', 'pmtrack', 'pmtrack'] # Names are here twice, once for value and again for label\n",
    "typeLUT.IndexedColors = [0.90, 0.10, 0.11, 0.215, 0.50, 0.72, 0.30, 0.686, 0.3]\n",
    "\n",
    "typeLUTColorBar = GetScalarBar( typeLUT, renderView1 )\n",
    "typeLUTColorBar.Position = [0.9, 0.6]  # Lower left corner is 0,0\n",
    "typeLUTColorBar.Position2 = [0.2, 0.3]  # 2nd number seems to be height, 1st is ignored\n",
    "typeLUTColorBar.Title = 'Track Algo'\n",
    "typeLUTColorBar.ComponentTitle = ''\n",
    "povtpDisp.SetScalarBarVisibility(renderView1, True)"
   ]
  },
  {
   "cell_type": "markdown",
   "metadata": {},
   "source": [
    "Let's move the camera to a good spot"
   ]
  },
  {
   "cell_type": "code",
   "execution_count": 73,
   "metadata": {
    "collapsed": true
   },
   "outputs": [],
   "source": [
    "renderView1.CameraPosition = [76, 55, -26]\n",
    "renderView1.CameraFocalPoint = [-13, -49, 83]\n",
    "renderView1.CameraViewUp = [0.805, -0.0704, 0.5884]\n",
    "renderView1.CameraParallelScale = 38.0\n",
    "RenderAllViews()"
   ]
  },
  {
   "cell_type": "markdown",
   "metadata": {},
   "source": [
    "Let's make a screen shot."
   ]
  },
  {
   "cell_type": "code",
   "execution_count": 74,
   "metadata": {
    "collapsed": false
   },
   "outputs": [
    {
     "name": "stdout",
     "output_type": "stream",
     "text": [
      "True\n"
     ]
    }
   ],
   "source": [
    "SaveScreenshot('outputpo_1.png', view=renderView1, magnification=1, quality=100)"
   ]
  },
  {
   "cell_type": "markdown",
   "metadata": {},
   "source": [
    "![Image](outputpo_1.png)"
   ]
  },
  {
   "cell_type": "markdown",
   "metadata": {},
   "source": [
    "Zoom in a bit"
   ]
  },
  {
   "cell_type": "code",
   "execution_count": 75,
   "metadata": {
    "collapsed": true
   },
   "outputs": [],
   "source": [
    "renderView1.CameraPosition =  [28.573629998647103, 27.04210690132971, 49.76810737297924]\n",
    "renderView1.CameraFocalPoint =  [28.573629998647103, -232.69558720908339, 49.76810737297924]\n",
    "renderView1.CameraViewUp =  [0.0, 0.0, 1.0]\n",
    "RenderAllViews()"
   ]
  },
  {
   "cell_type": "code",
   "execution_count": 76,
   "metadata": {
    "collapsed": false
   },
   "outputs": [
    {
     "name": "stdout",
     "output_type": "stream",
     "text": [
      "True\n"
     ]
    }
   ],
   "source": [
    "SaveScreenshot('outputpo_2.png', view=renderView1, magnification=1, quality=100)"
   ]
  },
  {
   "cell_type": "markdown",
   "metadata": {},
   "source": [
    "![Image](outputpo_2.png)"
   ]
  },
  {
   "cell_type": "markdown",
   "metadata": {},
   "source": [
    "What you see is that the pmtracks and the costrks follow each other, except for one costrk (lower right in picture above) that does not have a pmtrack counterpart. The cctracks are very short and rarely appear. "
   ]
  },
  {
   "cell_type": "markdown",
   "metadata": {},
   "source": [
    "Let's save a state file so we can get back here if necessary. "
   ]
  },
  {
   "cell_type": "code",
   "execution_count": 77,
   "metadata": {
    "collapsed": true
   },
   "outputs": [],
   "source": [
    "SaveState(\"outputpo_2.pvsm\")"
   ]
  },
  {
   "cell_type": "markdown",
   "metadata": {},
   "source": [
    "Let's now put this in context by showing a picture of the detector and the tracks within."
   ]
  },
  {
   "cell_type": "markdown",
   "metadata": {},
   "source": [
    "--- More to do here ---"
   ]
  },
  {
   "cell_type": "code",
   "execution_count": 62,
   "metadata": {
    "collapsed": false
   },
   "outputs": [
    {
     "name": "stderr",
     "output_type": "stream",
     "text": [
      "UsageError: No connection"
     ]
    }
   ],
   "source": [
    "%pexpect_unlock"
   ]
  },
  {
   "cell_type": "code",
   "execution_count": 63,
   "metadata": {
    "collapsed": false
   },
   "outputs": [
    {
     "name": "stderr",
     "output_type": "stream",
     "text": [
      "UsageError: No connection"
     ]
    }
   ],
   "source": [
    "%pexpect_close"
   ]
  },
  {
   "cell_type": "markdown",
   "metadata": {},
   "source": [
    "## Track/hit movie"
   ]
  },
  {
   "cell_type": "markdown",
   "metadata": {},
   "source": [
    "Make a movie showing the time evolution of a Lariat track. Jim Kowalkowski created some CSV files from Lariat data. "
   ]
  },
  {
   "cell_type": "markdown",
   "metadata": {},
   "source": [
    "The file `output_po.csv` has information on hits on tracks, including the $x,y,z$ position."
   ]
  },
  {
   "cell_type": "code",
   "execution_count": 32,
   "metadata": {
    "collapsed": false
   },
   "outputs": [
    {
     "name": "stdout",
     "output_type": "stream",
     "text": [
      "eid/I,type/S,id/I,index/I,x/F,y/F,z/F,dirx/F,diry/F,dirz/F,p/F\r\n",
      "1,pmtrack,0,0,29.4108,-1.02638,50.6487,0.10971,0.035345,-0.993335,0\r\n",
      "1,pmtrack,0,1,29.4585,-1.01102,50.217,0.10971,0.035345,-0.993335,0\r\n",
      "1,pmtrack,0,2,29.5111,-0.994092,49.7413,0.10971,0.035345,-0.993335,0\r\n",
      "1,pmtrack,0,3,29.541,-0.984435,49.4699,0.10971,0.035345,-0.993335,0\r\n",
      "1,pmtrack,0,4,29.5606,-0.978127,49.2927,0.10971,0.035345,-0.993335,0\r\n",
      "1,pmtrack,0,5,29.5959,-0.966758,48.9731,0.10971,0.035345,-0.993335,0\r\n",
      "1,pmtrack,0,6,29.611,-0.961909,48.8369,0.10971,0.035345,-0.993335,0\r\n",
      "1,pmtrack,0,7,29.6475,-0.95012,48.5055,0.10971,0.035345,-0.993335,0\r\n",
      "1,pmtrack,0,8,29.6612,-0.945724,48.382,0.10971,0.035345,-0.993335,0\r\n"
     ]
    }
   ],
   "source": [
    "!head data20150919/output_po.csv"
   ]
  },
  {
   "cell_type": "markdown",
   "metadata": {},
   "source": [
    "The file `output_ht.csv` has raw ADC and TDC information."
   ]
  },
  {
   "cell_type": "code",
   "execution_count": 33,
   "metadata": {
    "collapsed": false
   },
   "outputs": [
    {
     "name": "stdout",
     "output_type": "stream",
     "text": [
      "eid/I,type/S,id/I,peaktime/F,chan/F,peakamp/F,sumadc/F,view/I,wire/S\r\n",
      "1,pmtrack,0,1506.45,132,48.487,724.583,0,C:0 T:0 P:0 W:132\r\n",
      "1,pmtrack,0,1501.37,131,19.7431,461.965,0,C:0 T:0 P:0 W:131\r\n",
      "1,pmtrack,0,1512.35,130,8.46552,194.732,0,C:0 T:0 P:0 W:130\r\n",
      "1,pmtrack,0,1508.53,369,13.2191,192.482,1,C:0 T:0 P:1 W:129\r\n",
      "1,pmtrack,0,1513.47,129,8.85346,135.981,0,C:0 T:0 P:0 W:129\r\n",
      "1,pmtrack,0,1519.69,368,11.4093,173.319,1,C:0 T:0 P:1 W:128\r\n",
      "1,pmtrack,0,1517.19,128,8.6917,125.778,0,C:0 T:0 P:0 W:128\r\n",
      "1,pmtrack,0,1521,367,10.6517,178.272,1,C:0 T:0 P:1 W:127\r\n",
      "1,pmtrack,0,1520.57,127,7.12778,103.499,0,C:0 T:0 P:0 W:127\r\n"
     ]
    }
   ],
   "source": [
    "!head data20150919/output_ht.csv"
   ]
  },
  {
   "cell_type": "markdown",
   "metadata": {},
   "source": [
    "We need to merge the files so that we have $x,y,z$ and the hit information in one place."
   ]
  },
  {
   "cell_type": "markdown",
   "metadata": {},
   "source": [
    "Look at the lengths of the files"
   ]
  },
  {
   "cell_type": "code",
   "execution_count": 34,
   "metadata": {
    "collapsed": false
   },
   "outputs": [
    {
     "name": "stdout",
     "output_type": "stream",
     "text": [
      "     796     796   57087 data20150919/output_po.csv\r\n"
     ]
    }
   ],
   "source": [
    "!wc data20150919/output_po.csv"
   ]
  },
  {
   "cell_type": "code",
   "execution_count": 35,
   "metadata": {
    "collapsed": false
   },
   "outputs": [
    {
     "name": "stdout",
     "output_type": "stream",
     "text": [
      "     321    1281   19032 data20150919/output_ht.csv\r\n"
     ]
    }
   ],
   "source": [
    "!wc data20150919/output_ht.csv"
   ]
  },
  {
   "cell_type": "markdown",
   "metadata": {},
   "source": [
    "There are many kinds of tracks in `output_po.csv`, but only one in `output_ht.csv` (pmtrack). Lets focus on those."
   ]
  },
  {
   "cell_type": "code",
   "execution_count": 36,
   "metadata": {
    "collapsed": false
   },
   "outputs": [
    {
     "name": "stdout",
     "output_type": "stream",
     "text": [
      "     320     320   23127\r\n"
     ]
    }
   ],
   "source": [
    "!grep pmtrack data20150919/output_po.csv | wc"
   ]
  },
  {
   "cell_type": "markdown",
   "metadata": {},
   "source": [
    "This has one less than `output_ht.csv` due to the header in the latter. So it looks like the hits should line up."
   ]
  },
  {
   "cell_type": "markdown",
   "metadata": {},
   "source": [
    "Let's load them in with pandas and see if we can merge them."
   ]
  },
  {
   "cell_type": "code",
   "execution_count": 37,
   "metadata": {
    "collapsed": true
   },
   "outputs": [],
   "source": [
    "import pandas as pd"
   ]
  },
  {
   "cell_type": "code",
   "execution_count": 38,
   "metadata": {
    "collapsed": false
   },
   "outputs": [
    {
     "data": {
      "text/plain": [
       "u'0.17.0rc1'"
      ]
     },
     "execution_count": 38,
     "metadata": {},
     "output_type": "execute_result"
    }
   ],
   "source": [
    "pd.__version__"
   ]
  },
  {
   "cell_type": "code",
   "execution_count": 39,
   "metadata": {
    "collapsed": true
   },
   "outputs": [],
   "source": [
    "po = pd.read_csv(\"data20150919/output_po.csv\")"
   ]
  },
  {
   "cell_type": "code",
   "execution_count": 40,
   "metadata": {
    "collapsed": false
   },
   "outputs": [
    {
     "data": {
      "text/html": [
       "<div>\n",
       "<table border=\"1\" class=\"dataframe\">\n",
       "  <thead>\n",
       "    <tr style=\"text-align: right;\">\n",
       "      <th></th>\n",
       "      <th>eid/I</th>\n",
       "      <th>type/S</th>\n",
       "      <th>id/I</th>\n",
       "      <th>index/I</th>\n",
       "      <th>x/F</th>\n",
       "      <th>y/F</th>\n",
       "      <th>z/F</th>\n",
       "      <th>dirx/F</th>\n",
       "      <th>diry/F</th>\n",
       "      <th>dirz/F</th>\n",
       "      <th>p/F</th>\n",
       "    </tr>\n",
       "  </thead>\n",
       "  <tbody>\n",
       "    <tr>\n",
       "      <th>0</th>\n",
       "      <td>1</td>\n",
       "      <td>pmtrack</td>\n",
       "      <td>0</td>\n",
       "      <td>0</td>\n",
       "      <td>29.4108</td>\n",
       "      <td>-1.026380</td>\n",
       "      <td>50.6487</td>\n",
       "      <td>0.10971</td>\n",
       "      <td>0.035345</td>\n",
       "      <td>-0.993335</td>\n",
       "      <td>0</td>\n",
       "    </tr>\n",
       "    <tr>\n",
       "      <th>1</th>\n",
       "      <td>1</td>\n",
       "      <td>pmtrack</td>\n",
       "      <td>0</td>\n",
       "      <td>1</td>\n",
       "      <td>29.4585</td>\n",
       "      <td>-1.011020</td>\n",
       "      <td>50.2170</td>\n",
       "      <td>0.10971</td>\n",
       "      <td>0.035345</td>\n",
       "      <td>-0.993335</td>\n",
       "      <td>0</td>\n",
       "    </tr>\n",
       "    <tr>\n",
       "      <th>2</th>\n",
       "      <td>1</td>\n",
       "      <td>pmtrack</td>\n",
       "      <td>0</td>\n",
       "      <td>2</td>\n",
       "      <td>29.5111</td>\n",
       "      <td>-0.994092</td>\n",
       "      <td>49.7413</td>\n",
       "      <td>0.10971</td>\n",
       "      <td>0.035345</td>\n",
       "      <td>-0.993335</td>\n",
       "      <td>0</td>\n",
       "    </tr>\n",
       "    <tr>\n",
       "      <th>3</th>\n",
       "      <td>1</td>\n",
       "      <td>pmtrack</td>\n",
       "      <td>0</td>\n",
       "      <td>3</td>\n",
       "      <td>29.5410</td>\n",
       "      <td>-0.984435</td>\n",
       "      <td>49.4699</td>\n",
       "      <td>0.10971</td>\n",
       "      <td>0.035345</td>\n",
       "      <td>-0.993335</td>\n",
       "      <td>0</td>\n",
       "    </tr>\n",
       "    <tr>\n",
       "      <th>4</th>\n",
       "      <td>1</td>\n",
       "      <td>pmtrack</td>\n",
       "      <td>0</td>\n",
       "      <td>4</td>\n",
       "      <td>29.5606</td>\n",
       "      <td>-0.978127</td>\n",
       "      <td>49.2927</td>\n",
       "      <td>0.10971</td>\n",
       "      <td>0.035345</td>\n",
       "      <td>-0.993335</td>\n",
       "      <td>0</td>\n",
       "    </tr>\n",
       "  </tbody>\n",
       "</table>\n",
       "</div>"
      ],
      "text/plain": [
       "   eid/I   type/S  id/I  index/I      x/F       y/F      z/F   dirx/F  \\\n",
       "0      1  pmtrack     0        0  29.4108 -1.026380  50.6487  0.10971   \n",
       "1      1  pmtrack     0        1  29.4585 -1.011020  50.2170  0.10971   \n",
       "2      1  pmtrack     0        2  29.5111 -0.994092  49.7413  0.10971   \n",
       "3      1  pmtrack     0        3  29.5410 -0.984435  49.4699  0.10971   \n",
       "4      1  pmtrack     0        4  29.5606 -0.978127  49.2927  0.10971   \n",
       "\n",
       "     diry/F    dirz/F  p/F  \n",
       "0  0.035345 -0.993335    0  \n",
       "1  0.035345 -0.993335    0  \n",
       "2  0.035345 -0.993335    0  \n",
       "3  0.035345 -0.993335    0  \n",
       "4  0.035345 -0.993335    0  "
      ]
     },
     "execution_count": 40,
     "metadata": {},
     "output_type": "execute_result"
    }
   ],
   "source": [
    "po.head()"
   ]
  },
  {
   "cell_type": "code",
   "execution_count": 41,
   "metadata": {
    "collapsed": true
   },
   "outputs": [],
   "source": [
    "ht = pd.read_csv(\"data20150919/output_ht.csv\")"
   ]
  },
  {
   "cell_type": "code",
   "execution_count": 42,
   "metadata": {
    "collapsed": false
   },
   "outputs": [
    {
     "data": {
      "text/html": [
       "<div>\n",
       "<table border=\"1\" class=\"dataframe\">\n",
       "  <thead>\n",
       "    <tr style=\"text-align: right;\">\n",
       "      <th></th>\n",
       "      <th>eid/I</th>\n",
       "      <th>type/S</th>\n",
       "      <th>id/I</th>\n",
       "      <th>peaktime/F</th>\n",
       "      <th>chan/F</th>\n",
       "      <th>peakamp/F</th>\n",
       "      <th>sumadc/F</th>\n",
       "      <th>view/I</th>\n",
       "      <th>wire/S</th>\n",
       "    </tr>\n",
       "  </thead>\n",
       "  <tbody>\n",
       "    <tr>\n",
       "      <th>0</th>\n",
       "      <td>1</td>\n",
       "      <td>pmtrack</td>\n",
       "      <td>0</td>\n",
       "      <td>1506.45</td>\n",
       "      <td>132</td>\n",
       "      <td>48.48700</td>\n",
       "      <td>724.583</td>\n",
       "      <td>0</td>\n",
       "      <td>C:0 T:0 P:0 W:132</td>\n",
       "    </tr>\n",
       "    <tr>\n",
       "      <th>1</th>\n",
       "      <td>1</td>\n",
       "      <td>pmtrack</td>\n",
       "      <td>0</td>\n",
       "      <td>1501.37</td>\n",
       "      <td>131</td>\n",
       "      <td>19.74310</td>\n",
       "      <td>461.965</td>\n",
       "      <td>0</td>\n",
       "      <td>C:0 T:0 P:0 W:131</td>\n",
       "    </tr>\n",
       "    <tr>\n",
       "      <th>2</th>\n",
       "      <td>1</td>\n",
       "      <td>pmtrack</td>\n",
       "      <td>0</td>\n",
       "      <td>1512.35</td>\n",
       "      <td>130</td>\n",
       "      <td>8.46552</td>\n",
       "      <td>194.732</td>\n",
       "      <td>0</td>\n",
       "      <td>C:0 T:0 P:0 W:130</td>\n",
       "    </tr>\n",
       "    <tr>\n",
       "      <th>3</th>\n",
       "      <td>1</td>\n",
       "      <td>pmtrack</td>\n",
       "      <td>0</td>\n",
       "      <td>1508.53</td>\n",
       "      <td>369</td>\n",
       "      <td>13.21910</td>\n",
       "      <td>192.482</td>\n",
       "      <td>1</td>\n",
       "      <td>C:0 T:0 P:1 W:129</td>\n",
       "    </tr>\n",
       "    <tr>\n",
       "      <th>4</th>\n",
       "      <td>1</td>\n",
       "      <td>pmtrack</td>\n",
       "      <td>0</td>\n",
       "      <td>1513.47</td>\n",
       "      <td>129</td>\n",
       "      <td>8.85346</td>\n",
       "      <td>135.981</td>\n",
       "      <td>0</td>\n",
       "      <td>C:0 T:0 P:0 W:129</td>\n",
       "    </tr>\n",
       "  </tbody>\n",
       "</table>\n",
       "</div>"
      ],
      "text/plain": [
       "   eid/I   type/S  id/I  peaktime/F  chan/F  peakamp/F  sumadc/F  view/I  \\\n",
       "0      1  pmtrack     0     1506.45     132   48.48700   724.583       0   \n",
       "1      1  pmtrack     0     1501.37     131   19.74310   461.965       0   \n",
       "2      1  pmtrack     0     1512.35     130    8.46552   194.732       0   \n",
       "3      1  pmtrack     0     1508.53     369   13.21910   192.482       1   \n",
       "4      1  pmtrack     0     1513.47     129    8.85346   135.981       0   \n",
       "\n",
       "              wire/S  \n",
       "0  C:0 T:0 P:0 W:132  \n",
       "1  C:0 T:0 P:0 W:131  \n",
       "2  C:0 T:0 P:0 W:130  \n",
       "3  C:0 T:0 P:1 W:129  \n",
       "4  C:0 T:0 P:0 W:129  "
      ]
     },
     "execution_count": 42,
     "metadata": {},
     "output_type": "execute_result"
    }
   ],
   "source": [
    "ht.head()"
   ]
  },
  {
   "cell_type": "code",
   "execution_count": 43,
   "metadata": {
    "collapsed": false
   },
   "outputs": [
    {
     "data": {
      "text/plain": [
       "(320, 795)"
      ]
     },
     "execution_count": 43,
     "metadata": {},
     "output_type": "execute_result"
    }
   ],
   "source": [
    "len(ht), len(po)"
   ]
  },
  {
   "cell_type": "markdown",
   "metadata": {},
   "source": [
    "What are the kinds of tracks?"
   ]
  },
  {
   "cell_type": "code",
   "execution_count": 44,
   "metadata": {
    "collapsed": false
   },
   "outputs": [
    {
     "data": {
      "text/plain": [
       "array(['pmtrack'], dtype=object)"
      ]
     },
     "execution_count": 44,
     "metadata": {},
     "output_type": "execute_result"
    }
   ],
   "source": [
    "pd.unique( ht['type/S'] )"
   ]
  },
  {
   "cell_type": "code",
   "execution_count": 45,
   "metadata": {
    "collapsed": false
   },
   "outputs": [
    {
     "data": {
      "text/plain": [
       "array(['pmtrack', 'cctrack', 'costrk'], dtype=object)"
      ]
     },
     "execution_count": 45,
     "metadata": {},
     "output_type": "execute_result"
    }
   ],
   "source": [
    "pd.unique( po['type/S'])"
   ]
  },
  {
   "cell_type": "markdown",
   "metadata": {},
   "source": [
    "So we only want the `pmtrack`."
   ]
  },
  {
   "cell_type": "code",
   "execution_count": 46,
   "metadata": {
    "collapsed": false
   },
   "outputs": [],
   "source": [
    "popm = po[ po['type/S'] == 'pmtrack' ]"
   ]
  },
  {
   "cell_type": "code",
   "execution_count": 47,
   "metadata": {
    "collapsed": false
   },
   "outputs": [
    {
     "data": {
      "text/plain": [
       "320"
      ]
     },
     "execution_count": 47,
     "metadata": {},
     "output_type": "execute_result"
    }
   ],
   "source": [
    "len(popm)"
   ]
  },
  {
   "cell_type": "markdown",
   "metadata": {},
   "source": [
    "That matches `ht`"
   ]
  },
  {
   "cell_type": "code",
   "execution_count": 48,
   "metadata": {
    "collapsed": false
   },
   "outputs": [
    {
     "data": {
      "text/html": [
       "<div>\n",
       "<table border=\"1\" class=\"dataframe\">\n",
       "  <thead>\n",
       "    <tr style=\"text-align: right;\">\n",
       "      <th></th>\n",
       "      <th>eid/I</th>\n",
       "      <th>type/S</th>\n",
       "      <th>id/I</th>\n",
       "      <th>index/I</th>\n",
       "      <th>x/F</th>\n",
       "      <th>y/F</th>\n",
       "      <th>z/F</th>\n",
       "      <th>dirx/F</th>\n",
       "      <th>diry/F</th>\n",
       "      <th>dirz/F</th>\n",
       "      <th>p/F</th>\n",
       "    </tr>\n",
       "  </thead>\n",
       "  <tbody>\n",
       "    <tr>\n",
       "      <th>0</th>\n",
       "      <td>1</td>\n",
       "      <td>pmtrack</td>\n",
       "      <td>0</td>\n",
       "      <td>0</td>\n",
       "      <td>29.4108</td>\n",
       "      <td>-1.026380</td>\n",
       "      <td>50.6487</td>\n",
       "      <td>0.10971</td>\n",
       "      <td>0.035345</td>\n",
       "      <td>-0.993335</td>\n",
       "      <td>0</td>\n",
       "    </tr>\n",
       "    <tr>\n",
       "      <th>1</th>\n",
       "      <td>1</td>\n",
       "      <td>pmtrack</td>\n",
       "      <td>0</td>\n",
       "      <td>1</td>\n",
       "      <td>29.4585</td>\n",
       "      <td>-1.011020</td>\n",
       "      <td>50.2170</td>\n",
       "      <td>0.10971</td>\n",
       "      <td>0.035345</td>\n",
       "      <td>-0.993335</td>\n",
       "      <td>0</td>\n",
       "    </tr>\n",
       "    <tr>\n",
       "      <th>2</th>\n",
       "      <td>1</td>\n",
       "      <td>pmtrack</td>\n",
       "      <td>0</td>\n",
       "      <td>2</td>\n",
       "      <td>29.5111</td>\n",
       "      <td>-0.994092</td>\n",
       "      <td>49.7413</td>\n",
       "      <td>0.10971</td>\n",
       "      <td>0.035345</td>\n",
       "      <td>-0.993335</td>\n",
       "      <td>0</td>\n",
       "    </tr>\n",
       "    <tr>\n",
       "      <th>3</th>\n",
       "      <td>1</td>\n",
       "      <td>pmtrack</td>\n",
       "      <td>0</td>\n",
       "      <td>3</td>\n",
       "      <td>29.5410</td>\n",
       "      <td>-0.984435</td>\n",
       "      <td>49.4699</td>\n",
       "      <td>0.10971</td>\n",
       "      <td>0.035345</td>\n",
       "      <td>-0.993335</td>\n",
       "      <td>0</td>\n",
       "    </tr>\n",
       "    <tr>\n",
       "      <th>4</th>\n",
       "      <td>1</td>\n",
       "      <td>pmtrack</td>\n",
       "      <td>0</td>\n",
       "      <td>4</td>\n",
       "      <td>29.5606</td>\n",
       "      <td>-0.978127</td>\n",
       "      <td>49.2927</td>\n",
       "      <td>0.10971</td>\n",
       "      <td>0.035345</td>\n",
       "      <td>-0.993335</td>\n",
       "      <td>0</td>\n",
       "    </tr>\n",
       "  </tbody>\n",
       "</table>\n",
       "</div>"
      ],
      "text/plain": [
       "   eid/I   type/S  id/I  index/I      x/F       y/F      z/F   dirx/F  \\\n",
       "0      1  pmtrack     0        0  29.4108 -1.026380  50.6487  0.10971   \n",
       "1      1  pmtrack     0        1  29.4585 -1.011020  50.2170  0.10971   \n",
       "2      1  pmtrack     0        2  29.5111 -0.994092  49.7413  0.10971   \n",
       "3      1  pmtrack     0        3  29.5410 -0.984435  49.4699  0.10971   \n",
       "4      1  pmtrack     0        4  29.5606 -0.978127  49.2927  0.10971   \n",
       "\n",
       "     diry/F    dirz/F  p/F  \n",
       "0  0.035345 -0.993335    0  \n",
       "1  0.035345 -0.993335    0  \n",
       "2  0.035345 -0.993335    0  \n",
       "3  0.035345 -0.993335    0  \n",
       "4  0.035345 -0.993335    0  "
      ]
     },
     "execution_count": 48,
     "metadata": {},
     "output_type": "execute_result"
    }
   ],
   "source": [
    "popm.head()"
   ]
  },
  {
   "cell_type": "markdown",
   "metadata": {},
   "source": [
    "Well, one final check can be how many hits there are per track (we'll count rows -- just need a column to do that with, so choose the event number - doesn't matter which column we choose)"
   ]
  },
  {
   "cell_type": "code",
   "execution_count": 49,
   "metadata": {
    "collapsed": false
   },
   "outputs": [
    {
     "data": {
      "text/html": [
       "<div>\n",
       "<table border=\"1\" class=\"dataframe\">\n",
       "  <thead>\n",
       "    <tr style=\"text-align: right;\">\n",
       "      <th></th>\n",
       "      <th>eid/I</th>\n",
       "    </tr>\n",
       "    <tr>\n",
       "      <th>id/I</th>\n",
       "      <th></th>\n",
       "    </tr>\n",
       "  </thead>\n",
       "  <tbody>\n",
       "    <tr>\n",
       "      <th>0</th>\n",
       "      <td>203</td>\n",
       "    </tr>\n",
       "    <tr>\n",
       "      <th>1</th>\n",
       "      <td>34</td>\n",
       "    </tr>\n",
       "    <tr>\n",
       "      <th>2</th>\n",
       "      <td>59</td>\n",
       "    </tr>\n",
       "    <tr>\n",
       "      <th>65539</th>\n",
       "      <td>24</td>\n",
       "    </tr>\n",
       "  </tbody>\n",
       "</table>\n",
       "</div>"
      ],
      "text/plain": [
       "       eid/I\n",
       "id/I        \n",
       "0        203\n",
       "1         34\n",
       "2         59\n",
       "65539     24"
      ]
     },
     "execution_count": 49,
     "metadata": {},
     "output_type": "execute_result"
    }
   ],
   "source": [
    "ht[ ['id/I', 'eid/I'] ].groupby('id/I').count()"
   ]
  },
  {
   "cell_type": "code",
   "execution_count": 50,
   "metadata": {
    "collapsed": false
   },
   "outputs": [
    {
     "data": {
      "text/html": [
       "<div>\n",
       "<table border=\"1\" class=\"dataframe\">\n",
       "  <thead>\n",
       "    <tr style=\"text-align: right;\">\n",
       "      <th></th>\n",
       "      <th>eid/I</th>\n",
       "    </tr>\n",
       "    <tr>\n",
       "      <th>id/I</th>\n",
       "      <th></th>\n",
       "    </tr>\n",
       "  </thead>\n",
       "  <tbody>\n",
       "    <tr>\n",
       "      <th>0</th>\n",
       "      <td>203</td>\n",
       "    </tr>\n",
       "    <tr>\n",
       "      <th>1</th>\n",
       "      <td>34</td>\n",
       "    </tr>\n",
       "    <tr>\n",
       "      <th>2</th>\n",
       "      <td>59</td>\n",
       "    </tr>\n",
       "    <tr>\n",
       "      <th>65539</th>\n",
       "      <td>24</td>\n",
       "    </tr>\n",
       "  </tbody>\n",
       "</table>\n",
       "</div>"
      ],
      "text/plain": [
       "       eid/I\n",
       "id/I        \n",
       "0        203\n",
       "1         34\n",
       "2         59\n",
       "65539     24"
      ]
     },
     "execution_count": 50,
     "metadata": {},
     "output_type": "execute_result"
    }
   ],
   "source": [
    "popm[ ['id/I', 'eid/I'] ].groupby('id/I').count()"
   ]
  },
  {
   "cell_type": "markdown",
   "metadata": {},
   "source": [
    "They look the same! Let's merge them for conversion to VTK"
   ]
  },
  {
   "cell_type": "markdown",
   "metadata": {},
   "source": [
    "We need to add an index to the ht hits. How to do this?"
   ]
  },
  {
   "cell_type": "code",
   "execution_count": 51,
   "metadata": {
    "collapsed": false
   },
   "outputs": [],
   "source": [
    "ht['index/I'] = ht.groupby(['id/I']).cumcount()"
   ]
  },
  {
   "cell_type": "code",
   "execution_count": 52,
   "metadata": {
    "collapsed": false
   },
   "outputs": [
    {
     "data": {
      "text/html": [
       "<div>\n",
       "<table border=\"1\" class=\"dataframe\">\n",
       "  <thead>\n",
       "    <tr style=\"text-align: right;\">\n",
       "      <th></th>\n",
       "      <th>eid/I</th>\n",
       "      <th>type/S</th>\n",
       "      <th>id/I</th>\n",
       "      <th>peaktime/F</th>\n",
       "      <th>chan/F</th>\n",
       "      <th>peakamp/F</th>\n",
       "      <th>sumadc/F</th>\n",
       "      <th>view/I</th>\n",
       "      <th>wire/S</th>\n",
       "      <th>index/I</th>\n",
       "    </tr>\n",
       "  </thead>\n",
       "  <tbody>\n",
       "    <tr>\n",
       "      <th>0</th>\n",
       "      <td>1</td>\n",
       "      <td>pmtrack</td>\n",
       "      <td>0</td>\n",
       "      <td>1506.45</td>\n",
       "      <td>132</td>\n",
       "      <td>48.48700</td>\n",
       "      <td>724.583</td>\n",
       "      <td>0</td>\n",
       "      <td>C:0 T:0 P:0 W:132</td>\n",
       "      <td>0</td>\n",
       "    </tr>\n",
       "    <tr>\n",
       "      <th>1</th>\n",
       "      <td>1</td>\n",
       "      <td>pmtrack</td>\n",
       "      <td>0</td>\n",
       "      <td>1501.37</td>\n",
       "      <td>131</td>\n",
       "      <td>19.74310</td>\n",
       "      <td>461.965</td>\n",
       "      <td>0</td>\n",
       "      <td>C:0 T:0 P:0 W:131</td>\n",
       "      <td>1</td>\n",
       "    </tr>\n",
       "    <tr>\n",
       "      <th>2</th>\n",
       "      <td>1</td>\n",
       "      <td>pmtrack</td>\n",
       "      <td>0</td>\n",
       "      <td>1512.35</td>\n",
       "      <td>130</td>\n",
       "      <td>8.46552</td>\n",
       "      <td>194.732</td>\n",
       "      <td>0</td>\n",
       "      <td>C:0 T:0 P:0 W:130</td>\n",
       "      <td>2</td>\n",
       "    </tr>\n",
       "    <tr>\n",
       "      <th>3</th>\n",
       "      <td>1</td>\n",
       "      <td>pmtrack</td>\n",
       "      <td>0</td>\n",
       "      <td>1508.53</td>\n",
       "      <td>369</td>\n",
       "      <td>13.21910</td>\n",
       "      <td>192.482</td>\n",
       "      <td>1</td>\n",
       "      <td>C:0 T:0 P:1 W:129</td>\n",
       "      <td>3</td>\n",
       "    </tr>\n",
       "    <tr>\n",
       "      <th>4</th>\n",
       "      <td>1</td>\n",
       "      <td>pmtrack</td>\n",
       "      <td>0</td>\n",
       "      <td>1513.47</td>\n",
       "      <td>129</td>\n",
       "      <td>8.85346</td>\n",
       "      <td>135.981</td>\n",
       "      <td>0</td>\n",
       "      <td>C:0 T:0 P:0 W:129</td>\n",
       "      <td>4</td>\n",
       "    </tr>\n",
       "  </tbody>\n",
       "</table>\n",
       "</div>"
      ],
      "text/plain": [
       "   eid/I   type/S  id/I  peaktime/F  chan/F  peakamp/F  sumadc/F  view/I  \\\n",
       "0      1  pmtrack     0     1506.45     132   48.48700   724.583       0   \n",
       "1      1  pmtrack     0     1501.37     131   19.74310   461.965       0   \n",
       "2      1  pmtrack     0     1512.35     130    8.46552   194.732       0   \n",
       "3      1  pmtrack     0     1508.53     369   13.21910   192.482       1   \n",
       "4      1  pmtrack     0     1513.47     129    8.85346   135.981       0   \n",
       "\n",
       "              wire/S  index/I  \n",
       "0  C:0 T:0 P:0 W:132        0  \n",
       "1  C:0 T:0 P:0 W:131        1  \n",
       "2  C:0 T:0 P:0 W:130        2  \n",
       "3  C:0 T:0 P:1 W:129        3  \n",
       "4  C:0 T:0 P:0 W:129        4  "
      ]
     },
     "execution_count": 52,
     "metadata": {},
     "output_type": "execute_result"
    }
   ],
   "source": [
    "ht.head()"
   ]
  },
  {
   "cell_type": "markdown",
   "metadata": {},
   "source": [
    "The index columns should match in the two datasets"
   ]
  },
  {
   "cell_type": "code",
   "execution_count": 53,
   "metadata": {
    "collapsed": false
   },
   "outputs": [
    {
     "data": {
      "text/plain": [
       "True"
      ]
     },
     "execution_count": 53,
     "metadata": {},
     "output_type": "execute_result"
    }
   ],
   "source": [
    "all(ht['index/I'] == popm['index/I'])"
   ]
  },
  {
   "cell_type": "markdown",
   "metadata": {},
   "source": [
    "Let's merge!"
   ]
  },
  {
   "cell_type": "code",
   "execution_count": 54,
   "metadata": {
    "collapsed": true
   },
   "outputs": [],
   "source": [
    "htpm = pd.merge(ht, popm, on=['id/I', 'index/I'])"
   ]
  },
  {
   "cell_type": "code",
   "execution_count": 55,
   "metadata": {
    "collapsed": false
   },
   "outputs": [],
   "source": [
    "htpm.drop(['eid/I_x', 'eid/I_y', 'type/S_x', 'type/S_y'], axis=1, inplace=True)"
   ]
  },
  {
   "cell_type": "code",
   "execution_count": 56,
   "metadata": {
    "collapsed": false
   },
   "outputs": [
    {
     "data": {
      "text/html": [
       "<div>\n",
       "<table border=\"1\" class=\"dataframe\">\n",
       "  <thead>\n",
       "    <tr style=\"text-align: right;\">\n",
       "      <th></th>\n",
       "      <th>id/I</th>\n",
       "      <th>peaktime/F</th>\n",
       "      <th>chan/F</th>\n",
       "      <th>peakamp/F</th>\n",
       "      <th>sumadc/F</th>\n",
       "      <th>view/I</th>\n",
       "      <th>wire/S</th>\n",
       "      <th>index/I</th>\n",
       "      <th>x/F</th>\n",
       "      <th>y/F</th>\n",
       "      <th>z/F</th>\n",
       "      <th>dirx/F</th>\n",
       "      <th>diry/F</th>\n",
       "      <th>dirz/F</th>\n",
       "      <th>p/F</th>\n",
       "    </tr>\n",
       "  </thead>\n",
       "  <tbody>\n",
       "    <tr>\n",
       "      <th>0</th>\n",
       "      <td>0</td>\n",
       "      <td>1506.45</td>\n",
       "      <td>132</td>\n",
       "      <td>48.48700</td>\n",
       "      <td>724.583</td>\n",
       "      <td>0</td>\n",
       "      <td>C:0 T:0 P:0 W:132</td>\n",
       "      <td>0</td>\n",
       "      <td>29.4108</td>\n",
       "      <td>-1.026380</td>\n",
       "      <td>50.6487</td>\n",
       "      <td>0.10971</td>\n",
       "      <td>0.035345</td>\n",
       "      <td>-0.993335</td>\n",
       "      <td>0</td>\n",
       "    </tr>\n",
       "    <tr>\n",
       "      <th>1</th>\n",
       "      <td>0</td>\n",
       "      <td>1501.37</td>\n",
       "      <td>131</td>\n",
       "      <td>19.74310</td>\n",
       "      <td>461.965</td>\n",
       "      <td>0</td>\n",
       "      <td>C:0 T:0 P:0 W:131</td>\n",
       "      <td>1</td>\n",
       "      <td>29.4585</td>\n",
       "      <td>-1.011020</td>\n",
       "      <td>50.2170</td>\n",
       "      <td>0.10971</td>\n",
       "      <td>0.035345</td>\n",
       "      <td>-0.993335</td>\n",
       "      <td>0</td>\n",
       "    </tr>\n",
       "    <tr>\n",
       "      <th>2</th>\n",
       "      <td>0</td>\n",
       "      <td>1512.35</td>\n",
       "      <td>130</td>\n",
       "      <td>8.46552</td>\n",
       "      <td>194.732</td>\n",
       "      <td>0</td>\n",
       "      <td>C:0 T:0 P:0 W:130</td>\n",
       "      <td>2</td>\n",
       "      <td>29.5111</td>\n",
       "      <td>-0.994092</td>\n",
       "      <td>49.7413</td>\n",
       "      <td>0.10971</td>\n",
       "      <td>0.035345</td>\n",
       "      <td>-0.993335</td>\n",
       "      <td>0</td>\n",
       "    </tr>\n",
       "    <tr>\n",
       "      <th>3</th>\n",
       "      <td>0</td>\n",
       "      <td>1508.53</td>\n",
       "      <td>369</td>\n",
       "      <td>13.21910</td>\n",
       "      <td>192.482</td>\n",
       "      <td>1</td>\n",
       "      <td>C:0 T:0 P:1 W:129</td>\n",
       "      <td>3</td>\n",
       "      <td>29.5410</td>\n",
       "      <td>-0.984435</td>\n",
       "      <td>49.4699</td>\n",
       "      <td>0.10971</td>\n",
       "      <td>0.035345</td>\n",
       "      <td>-0.993335</td>\n",
       "      <td>0</td>\n",
       "    </tr>\n",
       "    <tr>\n",
       "      <th>4</th>\n",
       "      <td>0</td>\n",
       "      <td>1513.47</td>\n",
       "      <td>129</td>\n",
       "      <td>8.85346</td>\n",
       "      <td>135.981</td>\n",
       "      <td>0</td>\n",
       "      <td>C:0 T:0 P:0 W:129</td>\n",
       "      <td>4</td>\n",
       "      <td>29.5606</td>\n",
       "      <td>-0.978127</td>\n",
       "      <td>49.2927</td>\n",
       "      <td>0.10971</td>\n",
       "      <td>0.035345</td>\n",
       "      <td>-0.993335</td>\n",
       "      <td>0</td>\n",
       "    </tr>\n",
       "  </tbody>\n",
       "</table>\n",
       "</div>"
      ],
      "text/plain": [
       "   id/I  peaktime/F  chan/F  peakamp/F  sumadc/F  view/I             wire/S  \\\n",
       "0     0     1506.45     132   48.48700   724.583       0  C:0 T:0 P:0 W:132   \n",
       "1     0     1501.37     131   19.74310   461.965       0  C:0 T:0 P:0 W:131   \n",
       "2     0     1512.35     130    8.46552   194.732       0  C:0 T:0 P:0 W:130   \n",
       "3     0     1508.53     369   13.21910   192.482       1  C:0 T:0 P:1 W:129   \n",
       "4     0     1513.47     129    8.85346   135.981       0  C:0 T:0 P:0 W:129   \n",
       "\n",
       "   index/I      x/F       y/F      z/F   dirx/F    diry/F    dirz/F  p/F  \n",
       "0        0  29.4108 -1.026380  50.6487  0.10971  0.035345 -0.993335    0  \n",
       "1        1  29.4585 -1.011020  50.2170  0.10971  0.035345 -0.993335    0  \n",
       "2        2  29.5111 -0.994092  49.7413  0.10971  0.035345 -0.993335    0  \n",
       "3        3  29.5410 -0.984435  49.4699  0.10971  0.035345 -0.993335    0  \n",
       "4        4  29.5606 -0.978127  49.2927  0.10971  0.035345 -0.993335    0  "
      ]
     },
     "execution_count": 56,
     "metadata": {},
     "output_type": "execute_result"
    }
   ],
   "source": [
    "htpm.head()"
   ]
  },
  {
   "cell_type": "code",
   "execution_count": 57,
   "metadata": {
    "collapsed": false
   },
   "outputs": [
    {
     "data": {
      "text/plain": [
       "320"
      ]
     },
     "execution_count": 57,
     "metadata": {},
     "output_type": "execute_result"
    }
   ],
   "source": [
    "len(htpm)"
   ]
  },
  {
   "cell_type": "markdown",
   "metadata": {},
   "source": [
    "Write it out!"
   ]
  },
  {
   "cell_type": "code",
   "execution_count": 58,
   "metadata": {
    "collapsed": true
   },
   "outputs": [],
   "source": [
    "htpm.to_csv('output_htpm.csv', index=False)   # index=False says don't write the row name (it's empty)"
   ]
  },
  {
   "cell_type": "code",
   "execution_count": 59,
   "metadata": {
    "collapsed": false
   },
   "outputs": [
    {
     "name": "stdout",
     "output_type": "stream",
     "text": [
      "id/I,peaktime/F,chan/F,peakamp/F,sumadc/F,view/I,wire/S,index/I,x/F,y/F,z/F,dirx/F,diry/F,dirz/F,p/F\r\n",
      "0,1506.45,132,48.487,724.583,0,C:0 T:0 P:0 W:132,0,29.4108,-1.02638,50.6487,0.10971,0.035345,-0.993335,0\r\n",
      "0,1501.37,131,19.7431,461.965,0,C:0 T:0 P:0 W:131,1,29.4585,-1.01102,50.217,0.10971,0.035345,-0.993335,0\r\n",
      "0,1512.35,130,8.46552,194.732,0,C:0 T:0 P:0 W:130,2,29.5111,-0.994092,49.7413,0.10971,0.035345,-0.993335,0\r\n",
      "0,1508.53,369,13.2191,192.482,1,C:0 T:0 P:1 W:129,3,29.541,-0.984435,49.4699,0.10971,0.035345,-0.993335,0\r\n",
      "0,1513.47,129,8.85346,135.981,0,C:0 T:0 P:0 W:129,4,29.5606,-0.978127,49.2927,0.10971,0.035345,-0.993335,0\r\n",
      "0,1519.69,368,11.4093,173.319,1,C:0 T:0 P:1 W:128,5,29.5959,-0.966758,48.9731,0.10971,0.035345,-0.993335,0\r\n",
      "0,1517.19,128,8.6917,125.778,0,C:0 T:0 P:0 W:128,6,29.611,-0.961909,48.8369,0.10971,0.035345,-0.993335,0\r\n",
      "0,1521.0,367,10.6517,178.272,1,C:0 T:0 P:1 W:127,7,29.6475,-0.95012,48.5055,0.10971,0.035345,-0.993335,0\r\n",
      "0,1520.57,127,7.12778,103.499,0,C:0 T:0 P:0 W:127,8,29.6612,-0.945724,48.382,0.10971,0.035345,-0.993335,0\r\n"
     ]
    }
   ],
   "source": [
    "!head output_htpm.csv"
   ]
  },
  {
   "cell_type": "markdown",
   "metadata": {},
   "source": [
    "Now convert to VTK"
   ]
  },
  {
   "cell_type": "code",
   "execution_count": 60,
   "metadata": {
    "collapsed": false
   },
   "outputs": [
    {
     "name": "stdout",
     "output_type": "stream",
     "text": [
      "Read File\n",
      "[('id', '<i8'), ('peaktime', '<f8'), ('chan', '<f8'), ('peakamp', '<f8'), ('sumadc', '<f8'), ('view', '<i8'), ('wire', 'S20'), ('index', '<i8'), ('x', '<f8'), ('y', '<f8'), ('z', '<f8'), ('dirx', '<f8'), ('diry', '<f8'), ('dirz', '<f8'), ('p', '<f8')]\n",
      "Assemble polydata\n",
      "Making array id\n",
      "Making array peaktime\n",
      "Making array chan\n",
      "Making array peakamp\n",
      "Making array sumadc\n",
      "Making array view\n",
      "Making array (string) wire\n",
      "Making array index\n",
      "Making array dirx diry dirz\n",
      "Making array p\n",
      "Writing output_htpm.vtp\n"
     ]
    }
   ],
   "source": [
    "!pvpython convertCSV.py output_htpm.csv"
   ]
  },
  {
   "cell_type": "markdown",
   "metadata": {
    "collapsed": true
   },
   "source": [
    "--- More to do here ---"
   ]
  },
  {
   "cell_type": "code",
   "execution_count": null,
   "metadata": {
    "collapsed": true
   },
   "outputs": [],
   "source": []
  }
 ],
 "metadata": {
  "kernelspec": {
   "display_name": "Python 2",
   "language": "python",
   "name": "python2"
  },
  "language_info": {
   "codemirror_mode": {
    "name": "ipython",
    "version": 2
   },
   "file_extension": ".py",
   "mimetype": "text/x-python",
   "name": "python",
   "nbconvert_exporter": "python",
   "pygments_lexer": "ipython2",
   "version": "2.7.10"
  }
 },
 "nbformat": 4,
 "nbformat_minor": 0
}
