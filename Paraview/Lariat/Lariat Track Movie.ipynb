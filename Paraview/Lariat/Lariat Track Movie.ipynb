{
 "cells": [
  {
   "cell_type": "markdown",
   "metadata": {},
   "source": [
    "# Lariat Displays and Movies with ParaView"
   ]
  },
  {
   "cell_type": "markdown",
   "metadata": {},
   "source": [
    "Adam Lyon / Fermilab SCD / September 2015"
   ]
  },
  {
   "cell_type": "markdown",
   "metadata": {},
   "source": [
    "!! Not complete !!"
   ]
  },
  {
   "cell_type": "markdown",
   "metadata": {},
   "source": [
    "The plan is to demonstrate use of ParaView to make some simple, but effective, event displays of Liquid Argon neutrino data with not too much effort. See Jim Kowalkowski's notes at https://github.com/jbkowalkowski/AnalysisWork/wiki/Geant4-visualization-and-LArSoft for more information."
   ]
  },
  {
   "cell_type": "markdown",
   "metadata": {},
   "source": [
    "Jim has code (see link above) that can write out event data from Lariat from one event (for now). He generates comma-separated-value files (`.csv`) with this data. I have a script `convertCSV.py` that converts the csv file into VTK PolyData and writes that out to a `.vtp` file that ParaView can load directly. Each row of the csv must contain a 3-D position $(x,y,z)$ and then additional columns of metadata that can be integers, floats, or strings. The script will automatically create vectors out of neighboring columns whose titles end in `x`, `y`, `z`. For example, three columns in a row named `px, py, pz` will be turned into a vector called `p`. Other column metadata are turned into scalars. The script associates the metadata with each point. Each point is also a `VTK_VERTEX` cell, but the cell has no metadata (the ParaView `Point Data To Cell Data` filter can copy the point data to the cells if they are needed). "
   ]
  },
  {
   "cell_type": "markdown",
   "metadata": {},
   "source": [
    "## Hit and track information"
   ]
  },
  {
   "cell_type": "markdown",
   "metadata": {},
   "source": [
    "Let's first look at some basic hit & track information. Jim has a file called `output_po.csv` containing hits and metadata."
   ]
  },
  {
   "cell_type": "code",
   "execution_count": 1,
   "metadata": {
    "collapsed": false
   },
   "outputs": [
    {
     "name": "stdout",
     "output_type": "stream",
     "text": [
      "eid/I,type/S,id/I,index/I,x/F,y/F,z/F,dirx/F,diry/F,dirz/F,p/F\r\n",
      "1,pmtrack,0,0,29.4108,-1.02638,50.6487,0.10971,0.035345,-0.993335,0\r\n",
      "1,pmtrack,0,1,29.4585,-1.01102,50.217,0.10971,0.035345,-0.993335,0\r\n",
      "1,pmtrack,0,2,29.5111,-0.994092,49.7413,0.10971,0.035345,-0.993335,0\r\n",
      "1,pmtrack,0,3,29.541,-0.984435,49.4699,0.10971,0.035345,-0.993335,0\r\n",
      "1,pmtrack,0,4,29.5606,-0.978127,49.2927,0.10971,0.035345,-0.993335,0\r\n",
      "1,pmtrack,0,5,29.5959,-0.966758,48.9731,0.10971,0.035345,-0.993335,0\r\n",
      "1,pmtrack,0,6,29.611,-0.961909,48.8369,0.10971,0.035345,-0.993335,0\r\n",
      "1,pmtrack,0,7,29.6475,-0.95012,48.5055,0.10971,0.035345,-0.993335,0\r\n",
      "1,pmtrack,0,8,29.6612,-0.945724,48.382,0.10971,0.035345,-0.993335,0\r\n"
     ]
    }
   ],
   "source": [
    "!head data20150919/output_po.csv"
   ]
  },
  {
   "cell_type": "markdown",
   "metadata": {},
   "source": [
    "The first line is the header with the column name followed by the type (`I` is integer, `F` is float, `S` is string). The types are needed by my `convertCSV.py` script. "
   ]
  },
  {
   "cell_type": "markdown",
   "metadata": {},
   "source": [
    "The data contain rows of hits. Each hit row has:\n",
    "* `eid` The event ID (always 1 since we only have one event)\n",
    "* `type` The track type (`pmtrack`, `costrack`, `cctrack`) representing the tracking algorithm that produced the track. \n",
    "* `id` The ID of the track\n",
    "* `index` The index of the hit on the track (starts at 0 for new track)\n",
    "* `x,y,z` The position of the hit\n",
    "* `dirx, diry, dirz` The track direction at the hit\n",
    "* `p` Not sure what this is, but it's always zero"
   ]
  },
  {
   "cell_type": "markdown",
   "metadata": {},
   "source": [
    "We can convert this to the vtp file,"
   ]
  },
  {
   "cell_type": "code",
   "execution_count": 2,
   "metadata": {
    "collapsed": false
   },
   "outputs": [
    {
     "name": "stdout",
     "output_type": "stream",
     "text": [
      "Read File\n",
      "[('eid', '<i8'), ('type', 'S20'), ('id', '<i8'), ('index', '<i8'), ('x', '<f8'), ('y', '<f8'), ('z', '<f8'), ('dirx', '<f8'), ('diry', '<f8'), ('dirz', '<f8'), ('p', '<f8')]\n",
      "Assemble polydata\n",
      "Making array eid\n",
      "Making array (string) type\n",
      "Making array id\n",
      "Making array index\n",
      "Making array dirx diry dirz\n",
      "Making array p\n",
      "Writing output_po.vtp\n"
     ]
    }
   ],
   "source": [
    "!pvpython convertCSV.py data20150919/output_po.csv"
   ]
  },
  {
   "cell_type": "markdown",
   "metadata": {},
   "source": [
    "Let's display this data in ParaView. General instructions will be given for creating the visualizations in this notebook. For each there is a ParaView state file that you can load yourself in ParaView to see the visualization and manipulate it further. For the notebook, we'll run `pvpython` to generate the images/movies for display. We will use ParaView v4.4 (and you should too)."
   ]
  },
  {
   "cell_type": "markdown",
   "metadata": {},
   "source": [
    "To get some basic information, load the `output_po.vtp` file in ParaView (be sure to press the `Apply` button from the properties panel to execute). Load in all of the arrays from the \"Cell/Point Array Status\" box in the properties panel. "
   ]
  },
  {
   "cell_type": "markdown",
   "metadata": {},
   "source": [
    "Coloring the hits by track algorithm would be useful. Choose `type` from the color drop-down list (with `Surface` selected in the list near it) and open the Color Map Editor. Be sure `Interpret Values as Categories` is checked. In the `Annotations` box, click on the `Add Active values from selected source` button (the button below the \"+\" and \"-\" buttons). That will load the type names (e.g. cctrack). Now click on the `Choose preset` button (4th after the \"+\" - the one with the folder and heart) and choose a color preset. For this one I like \"Traffic Lights\". The colors are now set up.   "
   ]
  },
  {
   "cell_type": "markdown",
   "metadata": {},
   "source": [
    "This configuration is in state file `state/popng_1.pvsm`. Below we will generate a screenshot with `pvpython` (you can load the state file and run it yourself in ParaView). "
   ]
  },
  {
   "cell_type": "markdown",
   "metadata": {},
   "source": [
    "Let's write a python function to run `pvpython`"
   ]
  },
  {
   "cell_type": "code",
   "execution_count": 198,
   "metadata": {
    "collapsed": false
   },
   "outputs": [],
   "source": [
    "import subprocess as sp\n",
    "def doParaview(pvsmFile, command, viewWH=None, plugin=None, verbose=False):\n",
    "    \"\"\"Run pvpython preparing plugins, view, and state and running command. Returns stdout and stderr\"\"\"\n",
    "    pvpyC = \"from paraview.simple import *\\n\"\n",
    "    pvpyC += \"paraview.simple._DisableFirstRenderCameraReset() # Avoid camera reset\\n\"\n",
    "    if plugin:\n",
    "        pvpyC += 'LoadPlugin(\"%s\", True, globals())\\n' % plugin\n",
    "    pvpyC += 'LoadState(\"%s\")\\n' % pvsmFile\n",
    "    if viewWH:\n",
    "        pvpyC += 'r=GetActiveViewOrCreate(\"RenderView\")\\n'\n",
    "        pvpyC += 'r.ViewSize=[%s,%s]\\n' % (viewWH[0], viewWH[1])    \n",
    "    pvpyC += 'RenderAllViews()\\n'\n",
    "    pvpyC += command\n",
    "    \n",
    "    if verbose:\n",
    "        print 'Commands:'\n",
    "        print pvpyC\n",
    "\n",
    "    p = sp.Popen(\"pvpython\", stdin=sp.PIPE, stdout=sp.PIPE, stderr=sp.PIPE)\n",
    "    so, se = p.communicate(input=pvpyC)\n",
    "    \n",
    "    if so != '':\n",
    "        print so\n",
    "        \n",
    "    if se != '':\n",
    "        print se\n",
    "    \n",
    "    return so, se"
   ]
  },
  {
   "cell_type": "code",
   "execution_count": 199,
   "metadata": {
    "collapsed": true
   },
   "outputs": [],
   "source": [
    "from IPython.display import Image\n",
    "def paraviewScreenShot(pvsmFile, pngFile, viewWH=None, plugin=None, verbose=False):\n",
    "    \"\"\"Make a screenshot from a state file\"\"\"\n",
    "\n",
    "    command = 'SaveScreenshot(\"%s\")\\n' % (pngFile)\n",
    "    \n",
    "    so, se = doParaview(pvsmFile, command, viewWH, plugin, verbose)\n",
    "    \n",
    "    if not se:\n",
    "        return Image(filename=pngFile)"
   ]
  },
  {
   "cell_type": "code",
   "execution_count": 200,
   "metadata": {
    "collapsed": false
   },
   "outputs": [
    {
     "data": {
      "image/png": "[encoded data removed]",
      "text/plain": [
       "<IPython.core.display.Image object>"
      ]
     },
     "execution_count": 200,
     "metadata": {},
     "output_type": "execute_result"
    }
   ],
   "source": [
    "paraviewScreenShot(\"state/popng_1.pvsm\", \"images/popng_1.png\", viewWH=[800,600])"
   ]
  },
  {
   "cell_type": "markdown",
   "metadata": {},
   "source": [
    "What you see is that the pmtracks and the costrks follow each other, except for one costrk (left side in picture above) that does not have a pmtrack counterpart. The cctracks are very short and rarely appear. "
   ]
  },
  {
   "cell_type": "markdown",
   "metadata": {},
   "source": [
    "Let's now put this in context by showing a picture of the detector and the tracks within. Load the `lariatBox.heprep.xml` file using the `View geometry` reader. Before hiting `Apply`, we want to configure the reader to only load certain structures. The wires in LAriat make up an enormous number of sctructures and are hard to visualize. So let's exclude the wires themselves by putting in the Regular Expression text box `TPCShieldPlane|TPCPlaneInduction|TPCPlaneCollection` and check the `Invert Regular Expression` box. Unfortunately, the units of the geometry (in mm) and the reconstruction (in cm) are not the same. With the `lariatBox.heprep.zip` source selected, scroll down to `Transforming` in the Properties window and enter `0.1` in all of the \"Scale\" boxes. You should get the same results as shown below (try the state file `state/popng_2.pvsm`).\n",
    "\n",
    "Running `pvpython` below, we need the location of the `GeantToVTKPlugin`. Let's put that in a variable so you can easily change it to fit your installation."
   ]
  },
  {
   "cell_type": "code",
   "execution_count": 201,
   "metadata": {
    "collapsed": true
   },
   "outputs": [],
   "source": [
    "geantToVtkPluginLocation = '/Users/lyon/ParaView/GeantToVTK-1.3/GeantToVTKPlugin.xml'"
   ]
  },
  {
   "cell_type": "code",
   "execution_count": 202,
   "metadata": {
    "collapsed": false
   },
   "outputs": [
    {
     "data": {
      "image/png": "[encoded data removed]",
      "text/plain": [
       "<IPython.core.display.Image object>"
      ]
     },
     "execution_count": 202,
     "metadata": {},
     "output_type": "execute_result"
    }
   ],
   "source": [
    "paraviewScreenShot(\"state/popng_2.pvsm\", \"images/popng_2.png\", plugin=geantToVtkPluginLocation)"
   ]
  },
  {
   "cell_type": "markdown",
   "metadata": {},
   "source": [
    "Let's try a movie. We will orbit about the detector. You can do this by creating a camera orbit centered on $(25,0,50)$ as that seems to be the center of the detector. Write out this state as `state/pomovie_1.pvsm`.\n"
   ]
  },
  {
   "cell_type": "code",
   "execution_count": 203,
   "metadata": {
    "collapsed": true
   },
   "outputs": [],
   "source": [
    "from IPython.display import HTML\n",
    "def paraviewAnimation(pvsmFile, ogvFile, frameRate=20.0, viewWH=None, plugin=None, verbose=False):\n",
    "    \"\"\"Make an animation from a state file\"\"\"\n",
    "\n",
    "    command = 'WriteAnimation(\"%s\", FrameRate=%s, Compression=True)\\n' % (ogvFile, frameRate)\n",
    "    \n",
    "    so, se = doParaview(pvsmFile, command, viewWH, plugin, verbose)\n",
    "    \n",
    "    if not se:\n",
    "        video_tag = '<video controls alt=\"No movie?\"><source src=\"%s\" type=\"video/ogg\"></source></video>' % ogvFile\n",
    "        return HTML(data=video_tag)  "
   ]
  },
  {
   "cell_type": "code",
   "execution_count": 165,
   "metadata": {
    "collapsed": false
   },
   "outputs": [
    {
     "data": {
      "text/html": [
       "<video controls alt=\"No movie?\"><source src=\"movies/pomovie_1.ogv\" type=\"video/ogg\"></source></video>"
      ],
      "text/plain": [
       "<IPython.core.display.HTML object>"
      ]
     },
     "execution_count": 165,
     "metadata": {},
     "output_type": "execute_result"
    }
   ],
   "source": [
    "paraviewAnimation(\"state/pomovie_1.pvsm\", \"movies/pomovie_1.ogv\", frameRate=15, plugin=geantToVtkPluginLocation)"
   ]
  },
  {
   "cell_type": "markdown",
   "metadata": {},
   "source": [
    "The track reconstruction algorithm gives direction information (in the `dirx, diry, dirz` columns). We can visualize those directions by using the `Glyph` filter in ParaView. With the `output_po.vtp` source selected, add a `Glyph` filter. In its properties, select `Arrow` for the \"Glyph Type, `dir` for \"Vectors\", `off` for \"Scale Mode\", `1` for \"Scale Factor\" (with Scale mode off, all arrows will be sized the same). Furthermore, under \"Masking\" choose `Every Nth Point` for the \"Glyph Mode\" and `2` for the \"Stride\" (showing every point is too busy). Hit `Apply`. This configuration is stored in `state/popng_3.pvsm`."
   ]
  },
  {
   "cell_type": "code",
   "execution_count": 204,
   "metadata": {
    "collapsed": false
   },
   "outputs": [
    {
     "data": {
      "image/png": "[encoded data removed]",
      "text/plain": [
       "<IPython.core.display.Image object>"
      ]
     },
     "execution_count": 204,
     "metadata": {},
     "output_type": "execute_result"
    }
   ],
   "source": [
    "paraviewScreenShot(\"state/popng_3.pvsm\", \"images/popng_3.png\", plugin=geantToVtkPluginLocation)"
   ]
  },
  {
   "cell_type": "markdown",
   "metadata": {},
   "source": [
    "The picture above is a blow up of the region where the tracks cross. You can see the directional information in the arrows. Interesting that for some tracks, `pmtrack` and `costrk` are aligned and for tothers they are opposite. "
   ]
  },
  {
   "cell_type": "markdown",
   "metadata": {},
   "source": [
    "## Track/hit movie"
   ]
  },
  {
   "cell_type": "markdown",
   "metadata": {},
   "source": [
    "Make a movie showing the time evolution of a Lariat track. Jim Kowalkowski created some CSV files from Lariat data. "
   ]
  },
  {
   "cell_type": "markdown",
   "metadata": {},
   "source": [
    "The file `output_po.csv` has information on hits on tracks, including the $x,y,z$ position."
   ]
  },
  {
   "cell_type": "code",
   "execution_count": 169,
   "metadata": {
    "collapsed": false
   },
   "outputs": [
    {
     "name": "stdout",
     "output_type": "stream",
     "text": [
      "eid/I,type/S,id/I,index/I,x/F,y/F,z/F,dirx/F,diry/F,dirz/F,p/F\r\n",
      "1,pmtrack,0,0,29.4108,-1.02638,50.6487,0.10971,0.035345,-0.993335,0\r\n",
      "1,pmtrack,0,1,29.4585,-1.01102,50.217,0.10971,0.035345,-0.993335,0\r\n",
      "1,pmtrack,0,2,29.5111,-0.994092,49.7413,0.10971,0.035345,-0.993335,0\r\n",
      "1,pmtrack,0,3,29.541,-0.984435,49.4699,0.10971,0.035345,-0.993335,0\r\n",
      "1,pmtrack,0,4,29.5606,-0.978127,49.2927,0.10971,0.035345,-0.993335,0\r\n",
      "1,pmtrack,0,5,29.5959,-0.966758,48.9731,0.10971,0.035345,-0.993335,0\r\n",
      "1,pmtrack,0,6,29.611,-0.961909,48.8369,0.10971,0.035345,-0.993335,0\r\n",
      "1,pmtrack,0,7,29.6475,-0.95012,48.5055,0.10971,0.035345,-0.993335,0\r\n",
      "1,pmtrack,0,8,29.6612,-0.945724,48.382,0.10971,0.035345,-0.993335,0\r\n"
     ]
    }
   ],
   "source": [
    "!head data20150919/output_po.csv"
   ]
  },
  {
   "cell_type": "markdown",
   "metadata": {},
   "source": [
    "The file `output_ht.csv` has raw ADC and TDC information."
   ]
  },
  {
   "cell_type": "code",
   "execution_count": 170,
   "metadata": {
    "collapsed": false
   },
   "outputs": [
    {
     "name": "stdout",
     "output_type": "stream",
     "text": [
      "eid/I,type/S,id/I,peaktime/F,chan/F,peakamp/F,sumadc/F,view/I,wire/S\r\n",
      "1,pmtrack,0,1506.45,132,48.487,724.583,0,C:0 T:0 P:0 W:132\r\n",
      "1,pmtrack,0,1501.37,131,19.7431,461.965,0,C:0 T:0 P:0 W:131\r\n",
      "1,pmtrack,0,1512.35,130,8.46552,194.732,0,C:0 T:0 P:0 W:130\r\n",
      "1,pmtrack,0,1508.53,369,13.2191,192.482,1,C:0 T:0 P:1 W:129\r\n",
      "1,pmtrack,0,1513.47,129,8.85346,135.981,0,C:0 T:0 P:0 W:129\r\n",
      "1,pmtrack,0,1519.69,368,11.4093,173.319,1,C:0 T:0 P:1 W:128\r\n",
      "1,pmtrack,0,1517.19,128,8.6917,125.778,0,C:0 T:0 P:0 W:128\r\n",
      "1,pmtrack,0,1521,367,10.6517,178.272,1,C:0 T:0 P:1 W:127\r\n",
      "1,pmtrack,0,1520.57,127,7.12778,103.499,0,C:0 T:0 P:0 W:127\r\n"
     ]
    }
   ],
   "source": [
    "!head data20150919/output_ht.csv"
   ]
  },
  {
   "cell_type": "markdown",
   "metadata": {},
   "source": [
    "We need to merge the files so that we have $x,y,z$ and the hit information in one place."
   ]
  },
  {
   "cell_type": "markdown",
   "metadata": {},
   "source": [
    "Look at the lengths of the files"
   ]
  },
  {
   "cell_type": "code",
   "execution_count": 171,
   "metadata": {
    "collapsed": false
   },
   "outputs": [
    {
     "name": "stdout",
     "output_type": "stream",
     "text": [
      "     796     796   57087 data20150919/output_po.csv\r\n"
     ]
    }
   ],
   "source": [
    "!wc data20150919/output_po.csv"
   ]
  },
  {
   "cell_type": "code",
   "execution_count": 172,
   "metadata": {
    "collapsed": false
   },
   "outputs": [
    {
     "name": "stdout",
     "output_type": "stream",
     "text": [
      "     321    1281   19032 data20150919/output_ht.csv\r\n"
     ]
    }
   ],
   "source": [
    "!wc data20150919/output_ht.csv"
   ]
  },
  {
   "cell_type": "markdown",
   "metadata": {},
   "source": [
    "There are many kinds of tracks in `output_po.csv`, but only one in `output_ht.csv` (pmtrack). Lets focus on those."
   ]
  },
  {
   "cell_type": "code",
   "execution_count": 173,
   "metadata": {
    "collapsed": false
   },
   "outputs": [
    {
     "name": "stdout",
     "output_type": "stream",
     "text": [
      "     320     320   23127\r\n"
     ]
    }
   ],
   "source": [
    "!grep pmtrack data20150919/output_po.csv | wc"
   ]
  },
  {
   "cell_type": "markdown",
   "metadata": {},
   "source": [
    "This has one less than `output_ht.csv` due to the header in the latter. So it looks like the hits should line up."
   ]
  },
  {
   "cell_type": "markdown",
   "metadata": {},
   "source": [
    "Let's load them in with pandas and see if we can merge them."
   ]
  },
  {
   "cell_type": "code",
   "execution_count": 174,
   "metadata": {
    "collapsed": true
   },
   "outputs": [],
   "source": [
    "import pandas as pd"
   ]
  },
  {
   "cell_type": "code",
   "execution_count": 175,
   "metadata": {
    "collapsed": false
   },
   "outputs": [
    {
     "data": {
      "text/plain": [
       "u'0.17.0rc1'"
      ]
     },
     "execution_count": 175,
     "metadata": {},
     "output_type": "execute_result"
    }
   ],
   "source": [
    "pd.__version__"
   ]
  },
  {
   "cell_type": "code",
   "execution_count": 176,
   "metadata": {
    "collapsed": true
   },
   "outputs": [],
   "source": [
    "po = pd.read_csv(\"data20150919/output_po.csv\")"
   ]
  },
  {
   "cell_type": "code",
   "execution_count": 177,
   "metadata": {
    "collapsed": false
   },
   "outputs": [
    {
     "data": {
      "text/html": [
       "<div>\n",
       "<table border=\"1\" class=\"dataframe\">\n",
       "  <thead>\n",
       "    <tr style=\"text-align: right;\">\n",
       "      <th></th>\n",
       "      <th>eid/I</th>\n",
       "      <th>type/S</th>\n",
       "      <th>id/I</th>\n",
       "      <th>index/I</th>\n",
       "      <th>x/F</th>\n",
       "      <th>y/F</th>\n",
       "      <th>z/F</th>\n",
       "      <th>dirx/F</th>\n",
       "      <th>diry/F</th>\n",
       "      <th>dirz/F</th>\n",
       "      <th>p/F</th>\n",
       "    </tr>\n",
       "  </thead>\n",
       "  <tbody>\n",
       "    <tr>\n",
       "      <th>0</th>\n",
       "      <td>1</td>\n",
       "      <td>pmtrack</td>\n",
       "      <td>0</td>\n",
       "      <td>0</td>\n",
       "      <td>29.4108</td>\n",
       "      <td>-1.026380</td>\n",
       "      <td>50.6487</td>\n",
       "      <td>0.10971</td>\n",
       "      <td>0.035345</td>\n",
       "      <td>-0.993335</td>\n",
       "      <td>0</td>\n",
       "    </tr>\n",
       "    <tr>\n",
       "      <th>1</th>\n",
       "      <td>1</td>\n",
       "      <td>pmtrack</td>\n",
       "      <td>0</td>\n",
       "      <td>1</td>\n",
       "      <td>29.4585</td>\n",
       "      <td>-1.011020</td>\n",
       "      <td>50.2170</td>\n",
       "      <td>0.10971</td>\n",
       "      <td>0.035345</td>\n",
       "      <td>-0.993335</td>\n",
       "      <td>0</td>\n",
       "    </tr>\n",
       "    <tr>\n",
       "      <th>2</th>\n",
       "      <td>1</td>\n",
       "      <td>pmtrack</td>\n",
       "      <td>0</td>\n",
       "      <td>2</td>\n",
       "      <td>29.5111</td>\n",
       "      <td>-0.994092</td>\n",
       "      <td>49.7413</td>\n",
       "      <td>0.10971</td>\n",
       "      <td>0.035345</td>\n",
       "      <td>-0.993335</td>\n",
       "      <td>0</td>\n",
       "    </tr>\n",
       "    <tr>\n",
       "      <th>3</th>\n",
       "      <td>1</td>\n",
       "      <td>pmtrack</td>\n",
       "      <td>0</td>\n",
       "      <td>3</td>\n",
       "      <td>29.5410</td>\n",
       "      <td>-0.984435</td>\n",
       "      <td>49.4699</td>\n",
       "      <td>0.10971</td>\n",
       "      <td>0.035345</td>\n",
       "      <td>-0.993335</td>\n",
       "      <td>0</td>\n",
       "    </tr>\n",
       "    <tr>\n",
       "      <th>4</th>\n",
       "      <td>1</td>\n",
       "      <td>pmtrack</td>\n",
       "      <td>0</td>\n",
       "      <td>4</td>\n",
       "      <td>29.5606</td>\n",
       "      <td>-0.978127</td>\n",
       "      <td>49.2927</td>\n",
       "      <td>0.10971</td>\n",
       "      <td>0.035345</td>\n",
       "      <td>-0.993335</td>\n",
       "      <td>0</td>\n",
       "    </tr>\n",
       "  </tbody>\n",
       "</table>\n",
       "</div>"
      ],
      "text/plain": [
       "   eid/I   type/S  id/I  index/I      x/F       y/F      z/F   dirx/F  \\\n",
       "0      1  pmtrack     0        0  29.4108 -1.026380  50.6487  0.10971   \n",
       "1      1  pmtrack     0        1  29.4585 -1.011020  50.2170  0.10971   \n",
       "2      1  pmtrack     0        2  29.5111 -0.994092  49.7413  0.10971   \n",
       "3      1  pmtrack     0        3  29.5410 -0.984435  49.4699  0.10971   \n",
       "4      1  pmtrack     0        4  29.5606 -0.978127  49.2927  0.10971   \n",
       "\n",
       "     diry/F    dirz/F  p/F  \n",
       "0  0.035345 -0.993335    0  \n",
       "1  0.035345 -0.993335    0  \n",
       "2  0.035345 -0.993335    0  \n",
       "3  0.035345 -0.993335    0  \n",
       "4  0.035345 -0.993335    0  "
      ]
     },
     "execution_count": 177,
     "metadata": {},
     "output_type": "execute_result"
    }
   ],
   "source": [
    "po.head()"
   ]
  },
  {
   "cell_type": "code",
   "execution_count": 178,
   "metadata": {
    "collapsed": true
   },
   "outputs": [],
   "source": [
    "ht = pd.read_csv(\"data20150919/output_ht.csv\")"
   ]
  },
  {
   "cell_type": "code",
   "execution_count": 179,
   "metadata": {
    "collapsed": false
   },
   "outputs": [
    {
     "data": {
      "text/html": [
       "<div>\n",
       "<table border=\"1\" class=\"dataframe\">\n",
       "  <thead>\n",
       "    <tr style=\"text-align: right;\">\n",
       "      <th></th>\n",
       "      <th>eid/I</th>\n",
       "      <th>type/S</th>\n",
       "      <th>id/I</th>\n",
       "      <th>peaktime/F</th>\n",
       "      <th>chan/F</th>\n",
       "      <th>peakamp/F</th>\n",
       "      <th>sumadc/F</th>\n",
       "      <th>view/I</th>\n",
       "      <th>wire/S</th>\n",
       "    </tr>\n",
       "  </thead>\n",
       "  <tbody>\n",
       "    <tr>\n",
       "      <th>0</th>\n",
       "      <td>1</td>\n",
       "      <td>pmtrack</td>\n",
       "      <td>0</td>\n",
       "      <td>1506.45</td>\n",
       "      <td>132</td>\n",
       "      <td>48.48700</td>\n",
       "      <td>724.583</td>\n",
       "      <td>0</td>\n",
       "      <td>C:0 T:0 P:0 W:132</td>\n",
       "    </tr>\n",
       "    <tr>\n",
       "      <th>1</th>\n",
       "      <td>1</td>\n",
       "      <td>pmtrack</td>\n",
       "      <td>0</td>\n",
       "      <td>1501.37</td>\n",
       "      <td>131</td>\n",
       "      <td>19.74310</td>\n",
       "      <td>461.965</td>\n",
       "      <td>0</td>\n",
       "      <td>C:0 T:0 P:0 W:131</td>\n",
       "    </tr>\n",
       "    <tr>\n",
       "      <th>2</th>\n",
       "      <td>1</td>\n",
       "      <td>pmtrack</td>\n",
       "      <td>0</td>\n",
       "      <td>1512.35</td>\n",
       "      <td>130</td>\n",
       "      <td>8.46552</td>\n",
       "      <td>194.732</td>\n",
       "      <td>0</td>\n",
       "      <td>C:0 T:0 P:0 W:130</td>\n",
       "    </tr>\n",
       "    <tr>\n",
       "      <th>3</th>\n",
       "      <td>1</td>\n",
       "      <td>pmtrack</td>\n",
       "      <td>0</td>\n",
       "      <td>1508.53</td>\n",
       "      <td>369</td>\n",
       "      <td>13.21910</td>\n",
       "      <td>192.482</td>\n",
       "      <td>1</td>\n",
       "      <td>C:0 T:0 P:1 W:129</td>\n",
       "    </tr>\n",
       "    <tr>\n",
       "      <th>4</th>\n",
       "      <td>1</td>\n",
       "      <td>pmtrack</td>\n",
       "      <td>0</td>\n",
       "      <td>1513.47</td>\n",
       "      <td>129</td>\n",
       "      <td>8.85346</td>\n",
       "      <td>135.981</td>\n",
       "      <td>0</td>\n",
       "      <td>C:0 T:0 P:0 W:129</td>\n",
       "    </tr>\n",
       "  </tbody>\n",
       "</table>\n",
       "</div>"
      ],
      "text/plain": [
       "   eid/I   type/S  id/I  peaktime/F  chan/F  peakamp/F  sumadc/F  view/I  \\\n",
       "0      1  pmtrack     0     1506.45     132   48.48700   724.583       0   \n",
       "1      1  pmtrack     0     1501.37     131   19.74310   461.965       0   \n",
       "2      1  pmtrack     0     1512.35     130    8.46552   194.732       0   \n",
       "3      1  pmtrack     0     1508.53     369   13.21910   192.482       1   \n",
       "4      1  pmtrack     0     1513.47     129    8.85346   135.981       0   \n",
       "\n",
       "              wire/S  \n",
       "0  C:0 T:0 P:0 W:132  \n",
       "1  C:0 T:0 P:0 W:131  \n",
       "2  C:0 T:0 P:0 W:130  \n",
       "3  C:0 T:0 P:1 W:129  \n",
       "4  C:0 T:0 P:0 W:129  "
      ]
     },
     "execution_count": 179,
     "metadata": {},
     "output_type": "execute_result"
    }
   ],
   "source": [
    "ht.head()"
   ]
  },
  {
   "cell_type": "code",
   "execution_count": 180,
   "metadata": {
    "collapsed": false
   },
   "outputs": [
    {
     "data": {
      "text/plain": [
       "(320, 795)"
      ]
     },
     "execution_count": 180,
     "metadata": {},
     "output_type": "execute_result"
    }
   ],
   "source": [
    "len(ht), len(po)"
   ]
  },
  {
   "cell_type": "markdown",
   "metadata": {},
   "source": [
    "What are the kinds of tracks?"
   ]
  },
  {
   "cell_type": "code",
   "execution_count": 181,
   "metadata": {
    "collapsed": false
   },
   "outputs": [
    {
     "data": {
      "text/plain": [
       "array(['pmtrack'], dtype=object)"
      ]
     },
     "execution_count": 181,
     "metadata": {},
     "output_type": "execute_result"
    }
   ],
   "source": [
    "pd.unique( ht['type/S'] )"
   ]
  },
  {
   "cell_type": "code",
   "execution_count": 182,
   "metadata": {
    "collapsed": false
   },
   "outputs": [
    {
     "data": {
      "text/plain": [
       "array(['pmtrack', 'cctrack', 'costrk'], dtype=object)"
      ]
     },
     "execution_count": 182,
     "metadata": {},
     "output_type": "execute_result"
    }
   ],
   "source": [
    "pd.unique( po['type/S'])"
   ]
  },
  {
   "cell_type": "markdown",
   "metadata": {},
   "source": [
    "So we only want the `pmtrack`."
   ]
  },
  {
   "cell_type": "code",
   "execution_count": 183,
   "metadata": {
    "collapsed": false
   },
   "outputs": [],
   "source": [
    "popm = po[ po['type/S'] == 'pmtrack' ]"
   ]
  },
  {
   "cell_type": "code",
   "execution_count": 184,
   "metadata": {
    "collapsed": false
   },
   "outputs": [
    {
     "data": {
      "text/plain": [
       "320"
      ]
     },
     "execution_count": 184,
     "metadata": {},
     "output_type": "execute_result"
    }
   ],
   "source": [
    "len(popm)"
   ]
  },
  {
   "cell_type": "markdown",
   "metadata": {},
   "source": [
    "That matches `ht`"
   ]
  },
  {
   "cell_type": "code",
   "execution_count": 185,
   "metadata": {
    "collapsed": false
   },
   "outputs": [
    {
     "data": {
      "text/html": [
       "<div>\n",
       "<table border=\"1\" class=\"dataframe\">\n",
       "  <thead>\n",
       "    <tr style=\"text-align: right;\">\n",
       "      <th></th>\n",
       "      <th>eid/I</th>\n",
       "      <th>type/S</th>\n",
       "      <th>id/I</th>\n",
       "      <th>index/I</th>\n",
       "      <th>x/F</th>\n",
       "      <th>y/F</th>\n",
       "      <th>z/F</th>\n",
       "      <th>dirx/F</th>\n",
       "      <th>diry/F</th>\n",
       "      <th>dirz/F</th>\n",
       "      <th>p/F</th>\n",
       "    </tr>\n",
       "  </thead>\n",
       "  <tbody>\n",
       "    <tr>\n",
       "      <th>0</th>\n",
       "      <td>1</td>\n",
       "      <td>pmtrack</td>\n",
       "      <td>0</td>\n",
       "      <td>0</td>\n",
       "      <td>29.4108</td>\n",
       "      <td>-1.026380</td>\n",
       "      <td>50.6487</td>\n",
       "      <td>0.10971</td>\n",
       "      <td>0.035345</td>\n",
       "      <td>-0.993335</td>\n",
       "      <td>0</td>\n",
       "    </tr>\n",
       "    <tr>\n",
       "      <th>1</th>\n",
       "      <td>1</td>\n",
       "      <td>pmtrack</td>\n",
       "      <td>0</td>\n",
       "      <td>1</td>\n",
       "      <td>29.4585</td>\n",
       "      <td>-1.011020</td>\n",
       "      <td>50.2170</td>\n",
       "      <td>0.10971</td>\n",
       "      <td>0.035345</td>\n",
       "      <td>-0.993335</td>\n",
       "      <td>0</td>\n",
       "    </tr>\n",
       "    <tr>\n",
       "      <th>2</th>\n",
       "      <td>1</td>\n",
       "      <td>pmtrack</td>\n",
       "      <td>0</td>\n",
       "      <td>2</td>\n",
       "      <td>29.5111</td>\n",
       "      <td>-0.994092</td>\n",
       "      <td>49.7413</td>\n",
       "      <td>0.10971</td>\n",
       "      <td>0.035345</td>\n",
       "      <td>-0.993335</td>\n",
       "      <td>0</td>\n",
       "    </tr>\n",
       "    <tr>\n",
       "      <th>3</th>\n",
       "      <td>1</td>\n",
       "      <td>pmtrack</td>\n",
       "      <td>0</td>\n",
       "      <td>3</td>\n",
       "      <td>29.5410</td>\n",
       "      <td>-0.984435</td>\n",
       "      <td>49.4699</td>\n",
       "      <td>0.10971</td>\n",
       "      <td>0.035345</td>\n",
       "      <td>-0.993335</td>\n",
       "      <td>0</td>\n",
       "    </tr>\n",
       "    <tr>\n",
       "      <th>4</th>\n",
       "      <td>1</td>\n",
       "      <td>pmtrack</td>\n",
       "      <td>0</td>\n",
       "      <td>4</td>\n",
       "      <td>29.5606</td>\n",
       "      <td>-0.978127</td>\n",
       "      <td>49.2927</td>\n",
       "      <td>0.10971</td>\n",
       "      <td>0.035345</td>\n",
       "      <td>-0.993335</td>\n",
       "      <td>0</td>\n",
       "    </tr>\n",
       "  </tbody>\n",
       "</table>\n",
       "</div>"
      ],
      "text/plain": [
       "   eid/I   type/S  id/I  index/I      x/F       y/F      z/F   dirx/F  \\\n",
       "0      1  pmtrack     0        0  29.4108 -1.026380  50.6487  0.10971   \n",
       "1      1  pmtrack     0        1  29.4585 -1.011020  50.2170  0.10971   \n",
       "2      1  pmtrack     0        2  29.5111 -0.994092  49.7413  0.10971   \n",
       "3      1  pmtrack     0        3  29.5410 -0.984435  49.4699  0.10971   \n",
       "4      1  pmtrack     0        4  29.5606 -0.978127  49.2927  0.10971   \n",
       "\n",
       "     diry/F    dirz/F  p/F  \n",
       "0  0.035345 -0.993335    0  \n",
       "1  0.035345 -0.993335    0  \n",
       "2  0.035345 -0.993335    0  \n",
       "3  0.035345 -0.993335    0  \n",
       "4  0.035345 -0.993335    0  "
      ]
     },
     "execution_count": 185,
     "metadata": {},
     "output_type": "execute_result"
    }
   ],
   "source": [
    "popm.head()"
   ]
  },
  {
   "cell_type": "markdown",
   "metadata": {},
   "source": [
    "Well, one final check can be how many hits there are per track (we'll count rows -- just need a column to do that with, so choose the event number - doesn't matter which column we choose)"
   ]
  },
  {
   "cell_type": "code",
   "execution_count": 186,
   "metadata": {
    "collapsed": false
   },
   "outputs": [
    {
     "data": {
      "text/html": [
       "<div>\n",
       "<table border=\"1\" class=\"dataframe\">\n",
       "  <thead>\n",
       "    <tr style=\"text-align: right;\">\n",
       "      <th></th>\n",
       "      <th>eid/I</th>\n",
       "    </tr>\n",
       "    <tr>\n",
       "      <th>id/I</th>\n",
       "      <th></th>\n",
       "    </tr>\n",
       "  </thead>\n",
       "  <tbody>\n",
       "    <tr>\n",
       "      <th>0</th>\n",
       "      <td>203</td>\n",
       "    </tr>\n",
       "    <tr>\n",
       "      <th>1</th>\n",
       "      <td>34</td>\n",
       "    </tr>\n",
       "    <tr>\n",
       "      <th>2</th>\n",
       "      <td>59</td>\n",
       "    </tr>\n",
       "    <tr>\n",
       "      <th>65539</th>\n",
       "      <td>24</td>\n",
       "    </tr>\n",
       "  </tbody>\n",
       "</table>\n",
       "</div>"
      ],
      "text/plain": [
       "       eid/I\n",
       "id/I        \n",
       "0        203\n",
       "1         34\n",
       "2         59\n",
       "65539     24"
      ]
     },
     "execution_count": 186,
     "metadata": {},
     "output_type": "execute_result"
    }
   ],
   "source": [
    "ht[ ['id/I', 'eid/I'] ].groupby('id/I').count()"
   ]
  },
  {
   "cell_type": "code",
   "execution_count": 187,
   "metadata": {
    "collapsed": false
   },
   "outputs": [
    {
     "data": {
      "text/html": [
       "<div>\n",
       "<table border=\"1\" class=\"dataframe\">\n",
       "  <thead>\n",
       "    <tr style=\"text-align: right;\">\n",
       "      <th></th>\n",
       "      <th>eid/I</th>\n",
       "    </tr>\n",
       "    <tr>\n",
       "      <th>id/I</th>\n",
       "      <th></th>\n",
       "    </tr>\n",
       "  </thead>\n",
       "  <tbody>\n",
       "    <tr>\n",
       "      <th>0</th>\n",
       "      <td>203</td>\n",
       "    </tr>\n",
       "    <tr>\n",
       "      <th>1</th>\n",
       "      <td>34</td>\n",
       "    </tr>\n",
       "    <tr>\n",
       "      <th>2</th>\n",
       "      <td>59</td>\n",
       "    </tr>\n",
       "    <tr>\n",
       "      <th>65539</th>\n",
       "      <td>24</td>\n",
       "    </tr>\n",
       "  </tbody>\n",
       "</table>\n",
       "</div>"
      ],
      "text/plain": [
       "       eid/I\n",
       "id/I        \n",
       "0        203\n",
       "1         34\n",
       "2         59\n",
       "65539     24"
      ]
     },
     "execution_count": 187,
     "metadata": {},
     "output_type": "execute_result"
    }
   ],
   "source": [
    "popm[ ['id/I', 'eid/I'] ].groupby('id/I').count()"
   ]
  },
  {
   "cell_type": "markdown",
   "metadata": {},
   "source": [
    "They look the same! Let's merge them for conversion to VTK"
   ]
  },
  {
   "cell_type": "markdown",
   "metadata": {},
   "source": [
    "We need to add an index to the ht hits. How to do this?"
   ]
  },
  {
   "cell_type": "code",
   "execution_count": 188,
   "metadata": {
    "collapsed": false
   },
   "outputs": [],
   "source": [
    "ht['index/I'] = ht.groupby(['id/I']).cumcount()"
   ]
  },
  {
   "cell_type": "code",
   "execution_count": 189,
   "metadata": {
    "collapsed": false
   },
   "outputs": [
    {
     "data": {
      "text/html": [
       "<div>\n",
       "<table border=\"1\" class=\"dataframe\">\n",
       "  <thead>\n",
       "    <tr style=\"text-align: right;\">\n",
       "      <th></th>\n",
       "      <th>eid/I</th>\n",
       "      <th>type/S</th>\n",
       "      <th>id/I</th>\n",
       "      <th>peaktime/F</th>\n",
       "      <th>chan/F</th>\n",
       "      <th>peakamp/F</th>\n",
       "      <th>sumadc/F</th>\n",
       "      <th>view/I</th>\n",
       "      <th>wire/S</th>\n",
       "      <th>index/I</th>\n",
       "    </tr>\n",
       "  </thead>\n",
       "  <tbody>\n",
       "    <tr>\n",
       "      <th>0</th>\n",
       "      <td>1</td>\n",
       "      <td>pmtrack</td>\n",
       "      <td>0</td>\n",
       "      <td>1506.45</td>\n",
       "      <td>132</td>\n",
       "      <td>48.48700</td>\n",
       "      <td>724.583</td>\n",
       "      <td>0</td>\n",
       "      <td>C:0 T:0 P:0 W:132</td>\n",
       "      <td>0</td>\n",
       "    </tr>\n",
       "    <tr>\n",
       "      <th>1</th>\n",
       "      <td>1</td>\n",
       "      <td>pmtrack</td>\n",
       "      <td>0</td>\n",
       "      <td>1501.37</td>\n",
       "      <td>131</td>\n",
       "      <td>19.74310</td>\n",
       "      <td>461.965</td>\n",
       "      <td>0</td>\n",
       "      <td>C:0 T:0 P:0 W:131</td>\n",
       "      <td>1</td>\n",
       "    </tr>\n",
       "    <tr>\n",
       "      <th>2</th>\n",
       "      <td>1</td>\n",
       "      <td>pmtrack</td>\n",
       "      <td>0</td>\n",
       "      <td>1512.35</td>\n",
       "      <td>130</td>\n",
       "      <td>8.46552</td>\n",
       "      <td>194.732</td>\n",
       "      <td>0</td>\n",
       "      <td>C:0 T:0 P:0 W:130</td>\n",
       "      <td>2</td>\n",
       "    </tr>\n",
       "    <tr>\n",
       "      <th>3</th>\n",
       "      <td>1</td>\n",
       "      <td>pmtrack</td>\n",
       "      <td>0</td>\n",
       "      <td>1508.53</td>\n",
       "      <td>369</td>\n",
       "      <td>13.21910</td>\n",
       "      <td>192.482</td>\n",
       "      <td>1</td>\n",
       "      <td>C:0 T:0 P:1 W:129</td>\n",
       "      <td>3</td>\n",
       "    </tr>\n",
       "    <tr>\n",
       "      <th>4</th>\n",
       "      <td>1</td>\n",
       "      <td>pmtrack</td>\n",
       "      <td>0</td>\n",
       "      <td>1513.47</td>\n",
       "      <td>129</td>\n",
       "      <td>8.85346</td>\n",
       "      <td>135.981</td>\n",
       "      <td>0</td>\n",
       "      <td>C:0 T:0 P:0 W:129</td>\n",
       "      <td>4</td>\n",
       "    </tr>\n",
       "  </tbody>\n",
       "</table>\n",
       "</div>"
      ],
      "text/plain": [
       "   eid/I   type/S  id/I  peaktime/F  chan/F  peakamp/F  sumadc/F  view/I  \\\n",
       "0      1  pmtrack     0     1506.45     132   48.48700   724.583       0   \n",
       "1      1  pmtrack     0     1501.37     131   19.74310   461.965       0   \n",
       "2      1  pmtrack     0     1512.35     130    8.46552   194.732       0   \n",
       "3      1  pmtrack     0     1508.53     369   13.21910   192.482       1   \n",
       "4      1  pmtrack     0     1513.47     129    8.85346   135.981       0   \n",
       "\n",
       "              wire/S  index/I  \n",
       "0  C:0 T:0 P:0 W:132        0  \n",
       "1  C:0 T:0 P:0 W:131        1  \n",
       "2  C:0 T:0 P:0 W:130        2  \n",
       "3  C:0 T:0 P:1 W:129        3  \n",
       "4  C:0 T:0 P:0 W:129        4  "
      ]
     },
     "execution_count": 189,
     "metadata": {},
     "output_type": "execute_result"
    }
   ],
   "source": [
    "ht.head()"
   ]
  },
  {
   "cell_type": "markdown",
   "metadata": {},
   "source": [
    "The index columns should match in the two datasets"
   ]
  },
  {
   "cell_type": "code",
   "execution_count": 190,
   "metadata": {
    "collapsed": false
   },
   "outputs": [
    {
     "data": {
      "text/plain": [
       "True"
      ]
     },
     "execution_count": 190,
     "metadata": {},
     "output_type": "execute_result"
    }
   ],
   "source": [
    "all(ht['index/I'] == popm['index/I'])"
   ]
  },
  {
   "cell_type": "markdown",
   "metadata": {},
   "source": [
    "Let's merge!"
   ]
  },
  {
   "cell_type": "code",
   "execution_count": 191,
   "metadata": {
    "collapsed": true
   },
   "outputs": [],
   "source": [
    "htpm = pd.merge(ht, popm, on=['id/I', 'index/I'])"
   ]
  },
  {
   "cell_type": "code",
   "execution_count": 192,
   "metadata": {
    "collapsed": false
   },
   "outputs": [],
   "source": [
    "htpm.drop(['eid/I_x', 'eid/I_y', 'type/S_x', 'type/S_y'], axis=1, inplace=True)"
   ]
  },
  {
   "cell_type": "code",
   "execution_count": 193,
   "metadata": {
    "collapsed": false
   },
   "outputs": [
    {
     "data": {
      "text/html": [
       "<div>\n",
       "<table border=\"1\" class=\"dataframe\">\n",
       "  <thead>\n",
       "    <tr style=\"text-align: right;\">\n",
       "      <th></th>\n",
       "      <th>id/I</th>\n",
       "      <th>peaktime/F</th>\n",
       "      <th>chan/F</th>\n",
       "      <th>peakamp/F</th>\n",
       "      <th>sumadc/F</th>\n",
       "      <th>view/I</th>\n",
       "      <th>wire/S</th>\n",
       "      <th>index/I</th>\n",
       "      <th>x/F</th>\n",
       "      <th>y/F</th>\n",
       "      <th>z/F</th>\n",
       "      <th>dirx/F</th>\n",
       "      <th>diry/F</th>\n",
       "      <th>dirz/F</th>\n",
       "      <th>p/F</th>\n",
       "    </tr>\n",
       "  </thead>\n",
       "  <tbody>\n",
       "    <tr>\n",
       "      <th>0</th>\n",
       "      <td>0</td>\n",
       "      <td>1506.45</td>\n",
       "      <td>132</td>\n",
       "      <td>48.48700</td>\n",
       "      <td>724.583</td>\n",
       "      <td>0</td>\n",
       "      <td>C:0 T:0 P:0 W:132</td>\n",
       "      <td>0</td>\n",
       "      <td>29.4108</td>\n",
       "      <td>-1.026380</td>\n",
       "      <td>50.6487</td>\n",
       "      <td>0.10971</td>\n",
       "      <td>0.035345</td>\n",
       "      <td>-0.993335</td>\n",
       "      <td>0</td>\n",
       "    </tr>\n",
       "    <tr>\n",
       "      <th>1</th>\n",
       "      <td>0</td>\n",
       "      <td>1501.37</td>\n",
       "      <td>131</td>\n",
       "      <td>19.74310</td>\n",
       "      <td>461.965</td>\n",
       "      <td>0</td>\n",
       "      <td>C:0 T:0 P:0 W:131</td>\n",
       "      <td>1</td>\n",
       "      <td>29.4585</td>\n",
       "      <td>-1.011020</td>\n",
       "      <td>50.2170</td>\n",
       "      <td>0.10971</td>\n",
       "      <td>0.035345</td>\n",
       "      <td>-0.993335</td>\n",
       "      <td>0</td>\n",
       "    </tr>\n",
       "    <tr>\n",
       "      <th>2</th>\n",
       "      <td>0</td>\n",
       "      <td>1512.35</td>\n",
       "      <td>130</td>\n",
       "      <td>8.46552</td>\n",
       "      <td>194.732</td>\n",
       "      <td>0</td>\n",
       "      <td>C:0 T:0 P:0 W:130</td>\n",
       "      <td>2</td>\n",
       "      <td>29.5111</td>\n",
       "      <td>-0.994092</td>\n",
       "      <td>49.7413</td>\n",
       "      <td>0.10971</td>\n",
       "      <td>0.035345</td>\n",
       "      <td>-0.993335</td>\n",
       "      <td>0</td>\n",
       "    </tr>\n",
       "    <tr>\n",
       "      <th>3</th>\n",
       "      <td>0</td>\n",
       "      <td>1508.53</td>\n",
       "      <td>369</td>\n",
       "      <td>13.21910</td>\n",
       "      <td>192.482</td>\n",
       "      <td>1</td>\n",
       "      <td>C:0 T:0 P:1 W:129</td>\n",
       "      <td>3</td>\n",
       "      <td>29.5410</td>\n",
       "      <td>-0.984435</td>\n",
       "      <td>49.4699</td>\n",
       "      <td>0.10971</td>\n",
       "      <td>0.035345</td>\n",
       "      <td>-0.993335</td>\n",
       "      <td>0</td>\n",
       "    </tr>\n",
       "    <tr>\n",
       "      <th>4</th>\n",
       "      <td>0</td>\n",
       "      <td>1513.47</td>\n",
       "      <td>129</td>\n",
       "      <td>8.85346</td>\n",
       "      <td>135.981</td>\n",
       "      <td>0</td>\n",
       "      <td>C:0 T:0 P:0 W:129</td>\n",
       "      <td>4</td>\n",
       "      <td>29.5606</td>\n",
       "      <td>-0.978127</td>\n",
       "      <td>49.2927</td>\n",
       "      <td>0.10971</td>\n",
       "      <td>0.035345</td>\n",
       "      <td>-0.993335</td>\n",
       "      <td>0</td>\n",
       "    </tr>\n",
       "  </tbody>\n",
       "</table>\n",
       "</div>"
      ],
      "text/plain": [
       "   id/I  peaktime/F  chan/F  peakamp/F  sumadc/F  view/I             wire/S  \\\n",
       "0     0     1506.45     132   48.48700   724.583       0  C:0 T:0 P:0 W:132   \n",
       "1     0     1501.37     131   19.74310   461.965       0  C:0 T:0 P:0 W:131   \n",
       "2     0     1512.35     130    8.46552   194.732       0  C:0 T:0 P:0 W:130   \n",
       "3     0     1508.53     369   13.21910   192.482       1  C:0 T:0 P:1 W:129   \n",
       "4     0     1513.47     129    8.85346   135.981       0  C:0 T:0 P:0 W:129   \n",
       "\n",
       "   index/I      x/F       y/F      z/F   dirx/F    diry/F    dirz/F  p/F  \n",
       "0        0  29.4108 -1.026380  50.6487  0.10971  0.035345 -0.993335    0  \n",
       "1        1  29.4585 -1.011020  50.2170  0.10971  0.035345 -0.993335    0  \n",
       "2        2  29.5111 -0.994092  49.7413  0.10971  0.035345 -0.993335    0  \n",
       "3        3  29.5410 -0.984435  49.4699  0.10971  0.035345 -0.993335    0  \n",
       "4        4  29.5606 -0.978127  49.2927  0.10971  0.035345 -0.993335    0  "
      ]
     },
     "execution_count": 193,
     "metadata": {},
     "output_type": "execute_result"
    }
   ],
   "source": [
    "htpm.head()"
   ]
  },
  {
   "cell_type": "code",
   "execution_count": 194,
   "metadata": {
    "collapsed": false
   },
   "outputs": [
    {
     "data": {
      "text/plain": [
       "320"
      ]
     },
     "execution_count": 194,
     "metadata": {},
     "output_type": "execute_result"
    }
   ],
   "source": [
    "len(htpm)"
   ]
  },
  {
   "cell_type": "markdown",
   "metadata": {},
   "source": [
    "Write it out!"
   ]
  },
  {
   "cell_type": "code",
   "execution_count": 195,
   "metadata": {
    "collapsed": true
   },
   "outputs": [],
   "source": [
    "htpm.to_csv('output_htpm.csv', index=False)   # index=False says don't write the row name (it's empty)"
   ]
  },
  {
   "cell_type": "code",
   "execution_count": 196,
   "metadata": {
    "collapsed": false
   },
   "outputs": [
    {
     "name": "stdout",
     "output_type": "stream",
     "text": [
      "id/I,peaktime/F,chan/F,peakamp/F,sumadc/F,view/I,wire/S,index/I,x/F,y/F,z/F,dirx/F,diry/F,dirz/F,p/F\r\n",
      "0,1506.45,132,48.487,724.583,0,C:0 T:0 P:0 W:132,0,29.4108,-1.02638,50.6487,0.10971,0.035345,-0.993335,0\r\n",
      "0,1501.37,131,19.7431,461.965,0,C:0 T:0 P:0 W:131,1,29.4585,-1.01102,50.217,0.10971,0.035345,-0.993335,0\r\n",
      "0,1512.35,130,8.46552,194.732,0,C:0 T:0 P:0 W:130,2,29.5111,-0.994092,49.7413,0.10971,0.035345,-0.993335,0\r\n",
      "0,1508.53,369,13.2191,192.482,1,C:0 T:0 P:1 W:129,3,29.541,-0.984435,49.4699,0.10971,0.035345,-0.993335,0\r\n",
      "0,1513.47,129,8.85346,135.981,0,C:0 T:0 P:0 W:129,4,29.5606,-0.978127,49.2927,0.10971,0.035345,-0.993335,0\r\n",
      "0,1519.69,368,11.4093,173.319,1,C:0 T:0 P:1 W:128,5,29.5959,-0.966758,48.9731,0.10971,0.035345,-0.993335,0\r\n",
      "0,1517.19,128,8.6917,125.778,0,C:0 T:0 P:0 W:128,6,29.611,-0.961909,48.8369,0.10971,0.035345,-0.993335,0\r\n",
      "0,1521.0,367,10.6517,178.272,1,C:0 T:0 P:1 W:127,7,29.6475,-0.95012,48.5055,0.10971,0.035345,-0.993335,0\r\n",
      "0,1520.57,127,7.12778,103.499,0,C:0 T:0 P:0 W:127,8,29.6612,-0.945724,48.382,0.10971,0.035345,-0.993335,0\r\n"
     ]
    }
   ],
   "source": [
    "!head output_htpm.csv"
   ]
  },
  {
   "cell_type": "markdown",
   "metadata": {},
   "source": [
    "Now convert to VTK"
   ]
  },
  {
   "cell_type": "code",
   "execution_count": 197,
   "metadata": {
    "collapsed": false
   },
   "outputs": [
    {
     "name": "stdout",
     "output_type": "stream",
     "text": [
      "Read File\n",
      "[('id', '<i8'), ('peaktime', '<f8'), ('chan', '<f8'), ('peakamp', '<f8'), ('sumadc', '<f8'), ('view', '<i8'), ('wire', 'S20'), ('index', '<i8'), ('x', '<f8'), ('y', '<f8'), ('z', '<f8'), ('dirx', '<f8'), ('diry', '<f8'), ('dirz', '<f8'), ('p', '<f8')]\n",
      "Assemble polydata\n",
      "Making array id\n",
      "Making array peaktime\n",
      "Making array chan\n",
      "Making array peakamp\n",
      "Making array sumadc\n",
      "Making array view\n",
      "Making array (string) wire\n",
      "Making array index\n",
      "Making array dirx diry dirz\n",
      "Making array p\n",
      "Writing output_htpm.vtp\n"
     ]
    }
   ],
   "source": [
    "!pvpython convertCSV.py output_htpm.csv"
   ]
  },
  {
   "cell_type": "markdown",
   "metadata": {
    "collapsed": true
   },
   "source": [
    "Let's look at things in ParaView. Load in the `output_htpm.vtp` file. Remember you only see tracks from the `pmtrack` algorithm. One thing we can do is color by the peak amplitude. If we color the points, things will be very small. So add a Glyph filter to the pipeline and choose `Sphere` for the Glyph type. Choose a scale factor of 0.2 but with the scale mode off (the `peakamp` has about a two order of magnitude ranges and so scaling the sphere size is difficult). Choose `All Points` for the Glyph mode. Then with the `Glyph` filter selected, choose `peakamp` and `surface` for the coloring. Then you'll see the following (`state/htpmpmg_1.png')."
   ]
  },
  {
   "cell_type": "code",
   "execution_count": 205,
   "metadata": {
    "collapsed": false
   },
   "outputs": [
    {
     "data": {
      "image/png": "[encoded data removed]",
      "text/plain": [
       "<IPython.core.display.Image object>"
      ]
     },
     "execution_count": 205,
     "metadata": {},
     "output_type": "execute_result"
    }
   ],
   "source": [
    "paraviewScreenShot('state/htpmpng_1.pvsm', 'images/htpmpng_1.png')"
   ]
  },
  {
   "cell_type": "markdown",
   "metadata": {},
   "source": [
    "Now, instead of coloring by peak amplitude, let's color by TDC counts."
   ]
  },
  {
   "cell_type": "code",
   "execution_count": 206,
   "metadata": {
    "collapsed": false
   },
   "outputs": [
    {
     "data": {
      "image/png": "[encoded data removed]",
      "text/plain": [
       "<IPython.core.display.Image object>"
      ]
     },
     "execution_count": 206,
     "metadata": {},
     "output_type": "execute_result"
    }
   ],
   "source": [
    "paraviewScreenShot('state/htpmpng_2.pvsm', 'images/htpmpng_2.png')"
   ]
  },
  {
   "cell_type": "markdown",
   "metadata": {},
   "source": [
    "That looks a little more interesting - we can see the time evolution of tracks. Since the time changes are smooth, we can try to animate it! But perhaps it would be better to differentiate by track ID. We'll keep the sphere glyph to make the points big. "
   ]
  },
  {
   "cell_type": "markdown",
   "metadata": {},
   "source": [
    "The way to do the animation is to use the `Threshold` filter, which will only show points whose particular scalar is between certain vaiues. We can then change the upper limit in the animation, revealing the tracks by time. See `state/htpmmovie_1.pvsm`."
   ]
  },
  {
   "cell_type": "code",
   "execution_count": 209,
   "metadata": {
    "collapsed": false
   },
   "outputs": [
    {
     "data": {
      "text/html": [
       "<video controls alt=\"No movie?\"><source src=\"movies/htpmmovie_1.ogv\" type=\"video/ogg\"></source></video>"
      ],
      "text/plain": [
       "<IPython.core.display.HTML object>"
      ]
     },
     "execution_count": 209,
     "metadata": {},
     "output_type": "execute_result"
    }
   ],
   "source": [
    "paraviewAnimation(\"state/htpmmovie_1.pvsm\", \"movies/htpmmovie_1.ogv\", frameRate=20, plugin=geantToVtkPluginLocation)"
   ]
  },
  {
   "cell_type": "code",
   "execution_count": null,
   "metadata": {
    "collapsed": true
   },
   "outputs": [],
   "source": []
  }
 ],
 "metadata": {
  "kernelspec": {
   "display_name": "Python 2",
   "language": "python",
   "name": "python2"
  },
  "language_info": {
   "codemirror_mode": {
    "name": "ipython",
    "version": 2
   },
   "file_extension": ".py",
   "mimetype": "text/x-python",
   "name": "python",
   "nbconvert_exporter": "python",
   "pygments_lexer": "ipython2",
   "version": "2.7.10"
  }
 },
 "nbformat": 4,
 "nbformat_minor": 0
}
