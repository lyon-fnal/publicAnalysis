{
 "cells": [
  {
   "cell_type": "markdown",
   "metadata": {},
   "source": [
    "# Driving ParaView from a Jupyter Notebook"
   ]
  },
  {
   "cell_type": "markdown",
   "metadata": {},
   "source": [
    "Start the ParaView server to allow connections from a `pvpython` client and a ParaView GUI client\n",
    "```bash\n",
    "pvserver --multi-clients &\n",
    "/Applications/paraview4.3.1.app/Contents/MacOS/paraview --server-url=cs://localhost:11111\n",
    "```"
   ]
  },
  {
   "cell_type": "markdown",
   "metadata": {},
   "source": [
    "Start ParaView gui and connect to the server now! Close the plugin window if it appears (this script will load the plugins) and open the Collaboration Panel."
   ]
  },
  {
   "cell_type": "code",
   "execution_count": 1,
   "metadata": {
    "collapsed": false
   },
   "outputs": [
    {
     "name": "stdout",
     "output_type": "stream",
     "text": [
      "%ipythonPexpect? for help\n"
     ]
    }
   ],
   "source": [
    "%load_ext ipythonPexpect"
   ]
  },
  {
   "cell_type": "code",
   "execution_count": 2,
   "metadata": {
    "collapsed": false
   },
   "outputs": [
    {
     "name": "stdout",
     "output_type": "stream",
     "text": [
      "Opened connection to pvpython\n",
      "Python 2.7.6 (default, Sep  9 2014, 15:04:36) \n",
      "[GCC 4.2.1 Compatible Apple LLVM 6.0 (clang-600.0.39)] on darwin\n",
      "Type \"help\", \"copyright\", \"credits\" or \"license\" for more information.\n",
      ">>> "
     ]
    }
   ],
   "source": [
    "%pexpect_spawn_pvpython"
   ]
  },
  {
   "cell_type": "code",
   "execution_count": 3,
   "metadata": {
    "collapsed": false
   },
   "outputs": [
    {
     "name": "stdout",
     "output_type": "stream",
     "text": [
      "WARNING: All future cell execution will be processed through pexpect!\n",
      "To return to IPython, issue %pexpect_unlock\n"
     ]
    }
   ],
   "source": [
    "%pexpect_lock"
   ]
  },
  {
   "cell_type": "code",
   "execution_count": 4,
   "metadata": {
    "collapsed": false
   },
   "outputs": [
    {
     "name": "stdout",
     "output_type": "stream",
     "text": [
      "paraview version 4.3.1\n"
     ]
    }
   ],
   "source": [
    "from paraview.simple import *\n",
    "from paraview import servermanager\n",
    "from paraview.collaboration import *"
   ]
  },
  {
   "cell_type": "markdown",
   "metadata": {},
   "source": [
    "Connect to the remove pvserver"
   ]
  },
  {
   "cell_type": "code",
   "execution_count": 5,
   "metadata": {
    "collapsed": false
   },
   "outputs": [
    {
     "name": "stdout",
     "output_type": "stream",
     "text": [
      "Connection (cs://localhost:11111) [2]\n"
     ]
    }
   ],
   "source": [
    "rc = Connect(\"localhost\")\n",
    "rc"
   ]
  },
  {
   "cell_type": "markdown",
   "metadata": {},
   "source": [
    "Change our identifier and make the ParaView Gui follow this user (me)."
   ]
  },
  {
   "cell_type": "code",
   "execution_count": 6,
   "metadata": {
    "collapsed": false
   },
   "outputs": [],
   "source": [
    "cm = rc.Session.GetCollaborationManager()\n",
    "cm.UpdateUserInformations()\n",
    "myUserId = cm.GetUserId()\n",
    "cm.SetUserLabel(myUserId, \"JupyterNotebook\")\n",
    "cm.PromoteToMaster(myUserId)\n",
    "cm.FollowUser(myUserId)"
   ]
  },
  {
   "cell_type": "markdown",
   "metadata": {},
   "source": [
    "Load in the GeantToVTK Plugin on the remote server."
   ]
  },
  {
   "cell_type": "code",
   "execution_count": 7,
   "metadata": {
    "collapsed": true
   },
   "outputs": [],
   "source": [
    "LoadPlugin(\"/Users/lyon/ParaView/GeantToVTK-1.2/GeantToVTKPlugin.xml\", True, globals())"
   ]
  },
  {
   "cell_type": "markdown",
   "metadata": {},
   "source": [
    "Load in the Straw test beam geometry. Note that we'll remove some structures."
   ]
  },
  {
   "cell_type": "code",
   "execution_count": 8,
   "metadata": {
    "collapsed": false
   },
   "outputs": [],
   "source": [
    "geom = HeprepXMLGeometryView(FileName='/Users/lyon/Development/g-2/temp/forJoePrice/price.heprep.zip')\n",
    "geom.InvertRegularExpression = 1\n",
    "geom.RegularExpression = 'ModuleChamberLV$|vacuumModuleLV'"
   ]
  },
  {
   "cell_type": "markdown",
   "metadata": {},
   "source": [
    "Display it"
   ]
  },
  {
   "cell_type": "code",
   "execution_count": 9,
   "metadata": {
    "collapsed": false
   },
   "outputs": [],
   "source": [
    "rv = GetActiveViewOrCreate(\"RenderView\")"
   ]
  },
  {
   "cell_type": "code",
   "execution_count": 10,
   "metadata": {
    "collapsed": false
   },
   "outputs": [],
   "source": [
    "geomDisplay = Show(geom, rv)"
   ]
  },
  {
   "cell_type": "markdown",
   "metadata": {},
   "source": [
    "Change the colors"
   ]
  },
  {
   "cell_type": "code",
   "execution_count": 11,
   "metadata": {
    "collapsed": true
   },
   "outputs": [],
   "source": [
    "ColorBy(geomDisplay, ('FIELD', 'Color'))\n",
    "geomDisplay.MapScalars = 0"
   ]
  },
  {
   "cell_type": "markdown",
   "metadata": {},
   "source": [
    "Let's move the camera to something reasonable"
   ]
  },
  {
   "cell_type": "code",
   "execution_count": 12,
   "metadata": {
    "collapsed": false
   },
   "outputs": [],
   "source": [
    "rv.CameraPosition = [-821.9220570132178, -837.5306099552349, 157.21331804780507]\n",
    "rv.CameraFocalPoint = [-48.747505187988246, -17.9000015258789, 8.424669622740802e-16]\n",
    "rv.CameraViewUp = [0.3046624436996831, -0.10583435104923601, 0.9465621403462767]\n",
    "rv.CameraParallelScale = 254.45250809295567"
   ]
  },
  {
   "cell_type": "markdown",
   "metadata": {},
   "source": [
    "Now load in an event. "
   ]
  },
  {
   "cell_type": "code",
   "execution_count": 13,
   "metadata": {
    "collapsed": true
   },
   "outputs": [],
   "source": [
    "event = HeprepXMLeventviewer(FileName='/Users/lyon/Development/g-2/temp/forJoePrice/price.heprep.zip')"
   ]
  },
  {
   "cell_type": "markdown",
   "metadata": {},
   "source": [
    "We want the first event (first time step in the animation)"
   ]
  },
  {
   "cell_type": "code",
   "execution_count": 14,
   "metadata": {
    "collapsed": false
   },
   "outputs": [
    {
     "name": "stdout",
     "output_type": "stream",
     "text": [
      "True\n"
     ]
    }
   ],
   "source": [
    "aniScene = GetAnimationScene()\n",
    "aniScene.UpdateAnimationUsingDataTimeSteps()\n",
    "aniScene.PlayMode = 'Snap To TimeSteps'"
   ]
  },
  {
   "cell_type": "markdown",
   "metadata": {},
   "source": [
    "Display it"
   ]
  },
  {
   "cell_type": "code",
   "execution_count": 15,
   "metadata": {
    "collapsed": true
   },
   "outputs": [],
   "source": [
    "eventDisplay = Show(event, rv)"
   ]
  },
  {
   "cell_type": "markdown",
   "metadata": {},
   "source": [
    "Change the name (must do this at the end of processing to avoid losing pipeline entries - I imagine some code somewhere looks for the original names in the Pipeline)."
   ]
  },
  {
   "cell_type": "code",
   "execution_count": 16,
   "metadata": {
    "collapsed": false
   },
   "outputs": [
    {
     "name": "stdout",
     "output_type": "stream",
     "text": [
      "True\n"
     ]
    }
   ],
   "source": [
    "viewLayout = GetLayout()\n",
    "SaveScreenshot('/Users/lyon/dataAnalysisPlatform/Documents/Paraview/strawTB-event1.png', \n",
    "               layout=viewLayout, magnification=1, quality=100)"
   ]
  },
  {
   "cell_type": "markdown",
   "metadata": {},
   "source": [
    "Here's the snapshot\n",
    "![Image](strawTB-event1.png)\n",
    "Note the Geant generated axes thing in the lower left cornel."
   ]
  },
  {
   "cell_type": "code",
   "execution_count": 26,
   "metadata": {
    "collapsed": false
   },
   "outputs": [],
   "source": [
    "servermanager.SaveState(\"strawTB-event1.pvsm\")   # SaveState from simple doesn't seem to work"
   ]
  },
  {
   "cell_type": "markdown",
   "metadata": {},
   "source": [
    "Ask the event reader for the timesteps"
   ]
  },
  {
   "cell_type": "code",
   "execution_count": 28,
   "metadata": {
    "collapsed": false
   },
   "outputs": [
    {
     "name": "stdout",
     "output_type": "stream",
     "text": [
      "[1.0, 2.0, 3.0, 4.0, 5.0]\n"
     ]
    }
   ],
   "source": [
    "steps = event.TimestepValues ; steps"
   ]
  },
  {
   "cell_type": "code",
   "execution_count": 29,
   "metadata": {
    "collapsed": false
   },
   "outputs": [
    {
     "name": "stdout",
     "output_type": "stream",
     "text": [
      "1.0\n",
      "1.0\n"
     ]
    }
   ],
   "source": [
    "aniScene.AnimationTime ; rv.ViewTime"
   ]
  },
  {
   "cell_type": "markdown",
   "metadata": {},
   "source": [
    "Change the event"
   ]
  },
  {
   "cell_type": "code",
   "execution_count": 30,
   "metadata": {
    "collapsed": true
   },
   "outputs": [],
   "source": [
    "aniScene.AnimationTime = steps[4]"
   ]
  },
  {
   "cell_type": "code",
   "execution_count": 31,
   "metadata": {
    "collapsed": false
   },
   "outputs": [
    {
     "name": "stdout",
     "output_type": "stream",
     "text": [
      "5.0\n",
      "5.0\n"
     ]
    }
   ],
   "source": [
    "aniScene.AnimationTime ; rv.ViewTime"
   ]
  },
  {
   "cell_type": "code",
   "execution_count": 32,
   "metadata": {
    "collapsed": false
   },
   "outputs": [
    {
     "name": "stdout",
     "output_type": "stream",
     "text": [
      "True\n"
     ]
    }
   ],
   "source": [
    "viewLayout = GetLayout()\n",
    "SaveScreenshot('/Users/lyon/dataAnalysisPlatform/Documents/Paraview/strawTB-event5.png', \n",
    "               layout=viewLayout, magnification=1, quality=100)"
   ]
  },
  {
   "cell_type": "markdown",
   "metadata": {},
   "source": [
    "Here is event 5\n",
    "![event5](strawTB-event5.png)"
   ]
  },
  {
   "cell_type": "code",
   "execution_count": 33,
   "metadata": {
    "collapsed": false
   },
   "outputs": [],
   "source": [
    "servermanager.SaveState(\"strawTB-event5.pvsm\")   # SaveState from simple doesn't seem to work"
   ]
  },
  {
   "cell_type": "code",
   "execution_count": 34,
   "metadata": {
    "collapsed": true
   },
   "outputs": [],
   "source": [
    "RenameSource('Geometry', geom)"
   ]
  },
  {
   "cell_type": "code",
   "execution_count": 35,
   "metadata": {
    "collapsed": true
   },
   "outputs": [],
   "source": [
    "RenameSource('Events', event)"
   ]
  },
  {
   "cell_type": "code",
   "execution_count": 36,
   "metadata": {
    "collapsed": false
   },
   "outputs": [],
   "source": [
    "Disconnect()"
   ]
  },
  {
   "cell_type": "code",
   "execution_count": 37,
   "metadata": {
    "collapsed": false
   },
   "outputs": [
    {
     "name": "stdout",
     "output_type": "stream",
     "text": [
      "Notebook will use IPython\n"
     ]
    }
   ],
   "source": [
    "%pexpect_unlock"
   ]
  },
  {
   "cell_type": "code",
   "execution_count": 38,
   "metadata": {
    "collapsed": false
   },
   "outputs": [
    {
     "name": "stdout",
     "output_type": "stream",
     "text": [
      "Closed connection to pvpython\n"
     ]
    }
   ],
   "source": [
    "%pexpect_close"
   ]
  }
 ],
 "metadata": {
  "kernelspec": {
   "display_name": "Python 2",
   "language": "python",
   "name": "python2"
  },
  "language_info": {
   "codemirror_mode": {
    "name": "ipython",
    "version": 2
   },
   "file_extension": ".py",
   "mimetype": "text/x-python",
   "name": "python",
   "nbconvert_exporter": "python",
   "pygments_lexer": "ipython2",
   "version": "2.7.10"
  }
 },
 "nbformat": 4,
 "nbformat_minor": 0
}
