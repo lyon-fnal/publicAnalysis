{
 "cells": [
  {
   "cell_type": "markdown",
   "metadata": {},
   "source": [
    "<div style=\"text-align: right\">Adam Lyon, 12 Nov 2015</div> \n",
    "# Movie of muons going around ring II"
   ]
  },
  {
   "cell_type": "code",
   "execution_count": 3,
   "metadata": {
    "collapsed": false
   },
   "outputs": [
    {
     "data": {
      "text/html": [
       "<a href='2015-11-11-al-gm2-movie-muons.ipynb' target='_blank'>2015-11-11-al-gm2-movie-muons.ipynb</a><br>"
      ],
      "text/plain": [
       "/Users/lyon/dataAnalysisPlatform/Documents/Paraview/develop/2015-11-11-al-gm2-movie-muons.ipynb"
      ]
     },
     "execution_count": 3,
     "metadata": {},
     "output_type": "execute_result"
    }
   ],
   "source": [
    "# Yesterday's notebook\n",
    "from IPython.display import FileLink\n",
    "FileLink(\"2015-11-11-al-gm2-movie-muons.ipynb\")"
   ]
  },
  {
   "cell_type": "markdown",
   "metadata": {},
   "source": [
    "Continuing where I left off yesterday... \n",
    "\n",
    "First, let's make our camera setup script more useful."
   ]
  },
  {
   "cell_type": "code",
   "execution_count": 4,
   "metadata": {
    "collapsed": false
   },
   "outputs": [
    {
     "name": "stdout",
     "output_type": "stream",
     "text": [
      "Overwriting /tmp/makeCamera.py\n"
     ]
    }
   ],
   "source": [
    "%%file /tmp/makeCamera.py\n",
    "import numpy as np\n",
    "\n",
    "def makeCameraTrack(nframes=41, r=71112, eyeHeight=200, tilt=0):\n",
    "    r=7112.0\n",
    "    nframes = 41\n",
    "    phi = np.linspace(0, 2.0*np.pi, nframes)\n",
    "    x = r * np.cos(phi)\n",
    "    z = r * np.sin(phi)\n",
    "    y = phi*0.0+eyeHeight\n",
    "    a = np.sqrt(2)*r*np.cos(phi+np.pi/4.0)\n",
    "    b = np.sqrt(2)*r*np.sin(phi+np.pi/4.0)\n",
    "    yv = y+tilt\n",
    "\n",
    "    renderView1 = GetActiveViewOrCreate('RenderView')\n",
    "    cameraAnimationCue1 = GetCameraTrack(view=renderView1)\n",
    "    key1 = CameraKeyFrame()\n",
    "    key1.Position = [x[0], y[0], z[0]]\n",
    "    key1.FocalPoint = [a[0], yv[0], b[0]]\n",
    "    key1.ViewUp = [0.0, 1.0, 0.0]\n",
    "    key1.PositionPathPoints = np.dstack([x,y,z]).flatten().tolist()\n",
    "    key1.FocalPathPoints = np.dstack([a,yv,b]).flatten().tolist()\n",
    "    key1.ClosedPositionPath = 0 # Must be zero or else get nan's\n",
    "    # Note that there was parallelScale here, but that has no affect on perspective view\n",
    "\n",
    "    key2 = CameraKeyFrame()   # Must have the end point\n",
    "    key2.KeyTime = 1.0\n",
    "    key2.Position = key1.Position\n",
    "    key2.FocalPoint = key1.FocalPoint\n",
    "    key2.ViewUp = key1.ViewUp\n",
    "\n",
    "    cameraAnimationCue1.Mode = 'Path-based'\n",
    "    cameraAnimationCue1.KeyFrames = [key1, key2]"
   ]
  },
  {
   "cell_type": "markdown",
   "metadata": {},
   "source": [
    "Load the Python shell (*Tools* menu) and run, \n",
    "```python\n",
    "execfile('/tmp/makeCamera.py`)\n",
    "makeCameraTrack(...)\n",
    "```"
   ]
  },
  {
   "cell_type": "markdown",
   "metadata": {},
   "source": [
    "You can now specify the number of frame, the radius, the eye height ($y$) and the tilt (offset applied to $y$ focal point). Let's try tilt of $-800$ and 101 frames. "
   ]
  },
  {
   "cell_type": "markdown",
   "metadata": {},
   "source": [
    "Note that ffmpeg defaults to 25 fps, so should probably do that instead of 20 fps. The movie below is 100 frames encoded at 25fps. it was encoded with,\n",
    "```bash\n",
    "ffmpeg -framerate 25 -i seven.%04d.png -c:v libx264 -pix_fmt yuv420p seven.mp4\n",
    "```\n",
    "See https://trac.ffmpeg.org/wiki/Create%20a%20video%20slideshow%20from%20images for more info."
   ]
  },
  {
   "cell_type": "code",
   "execution_count": 11,
   "metadata": {
    "collapsed": false,
    "scrolled": false
   },
   "outputs": [
    {
     "data": {
      "text/html": [
       "<video controls src=\"figs/seven.mp4\" width=\"800px\"></video>"
      ],
      "text/plain": [
       "<IPython.core.display.HTML object>"
      ]
     },
     "metadata": {},
     "output_type": "display_data"
    }
   ],
   "source": [
    "%%HTML\n",
    "<video controls src=\"figs/seven.mp4\" width=\"800px\"></video>"
   ]
  },
  {
   "cell_type": "markdown",
   "metadata": {},
   "source": [
    "Let's try going in the middle of the ring (`eyeheight=0`) and 125 frames (5s at 25fps)"
   ]
  },
  {
   "cell_type": "code",
   "execution_count": 13,
   "metadata": {
    "collapsed": false
   },
   "outputs": [
    {
     "data": {
      "text/html": [
       "<video controls src=\"figs/eight.mp4\" width=\"800px\"></video>"
      ],
      "text/plain": [
       "<IPython.core.display.HTML object>"
      ]
     },
     "metadata": {},
     "output_type": "display_data"
    }
   ],
   "source": [
    "%%HTML\n",
    "<video controls src=\"figs/eight.mp4\" width=\"800px\"></video>"
   ]
  },
  {
   "cell_type": "markdown",
   "metadata": {},
   "source": [
    "It's a little quick. Let's try making it four times longer (20 seconds). So then we'll need 500 frames. "
   ]
  },
  {
   "cell_type": "code",
   "execution_count": 14,
   "metadata": {
    "collapsed": false
   },
   "outputs": [
    {
     "data": {
      "text/html": [
       "<video controls src=\"figs/nine.mp4\" width=\"800px\"></video>"
      ],
      "text/plain": [
       "<IPython.core.display.HTML object>"
      ]
     },
     "metadata": {},
     "output_type": "display_data"
    }
   ],
   "source": [
    "%%HTML\n",
    "<video controls src=\"figs/nine.mp4\" width=\"800px\"></video>"
   ]
  },
  {
   "cell_type": "code",
   "execution_count": null,
   "metadata": {
    "collapsed": true
   },
   "outputs": [],
   "source": []
  }
 ],
 "metadata": {
  "kernelspec": {
   "display_name": "Python 2",
   "language": "python",
   "name": "python2"
  },
  "language_info": {
   "codemirror_mode": {
    "name": "ipython",
    "version": 2
   },
   "file_extension": ".py",
   "mimetype": "text/x-python",
   "name": "python",
   "nbconvert_exporter": "python",
   "pygments_lexer": "ipython2",
   "version": "2.7.10"
  }
 },
 "nbformat": 4,
 "nbformat_minor": 0
}
