{
 "cells": [
  {
   "cell_type": "markdown",
   "metadata": {},
   "source": [
    "<div style=\"text-align: right\">Adam Lyon, 11 Nov 2015</div> \n",
    "# Movie of muons going around ring "
   ]
  },
  {
   "cell_type": "code",
   "execution_count": 125,
   "metadata": {
    "collapsed": false
   },
   "outputs": [
    {
     "data": {
      "text/html": [
       "<a href='2015-11-12-al-gm2-movie-muons.ipynb' target='_blank'>2015-11-12-al-gm2-movie-muons.ipynb</a><br>"
      ],
      "text/plain": [
       "/Users/lyon/dataAnalysisPlatform/Documents/Paraview/develop/2015-11-12-al-gm2-movie-muons.ipynb"
      ]
     },
     "execution_count": 125,
     "metadata": {},
     "output_type": "execute_result"
    }
   ],
   "source": [
    "# Tomorrow's notebook\n",
    "from IPython.display import FileLink\n",
    "FileLink(\"2015-11-12-al-gm2-movie-muons.ipynb\")"
   ]
  },
  {
   "cell_type": "markdown",
   "metadata": {},
   "source": [
    "The ultimate goal is to make a movie of a muon going around the ring with a rotating arrow pointing in the direction of spin. I think to do this I need to figure out the following..."
   ]
  },
  {
   "cell_type": "markdown",
   "metadata": {},
   "source": [
    "1. How to make a movie with the camera going around the ring, looking from the side (should be easy, since camera points towards the center).\n",
    "1. Movie of camera pointing down (harder, because the pointing changes)\n",
    "1. Moving going around the inside of the ring (much harder)"
   ]
  },
  {
   "cell_type": "markdown",
   "metadata": {},
   "source": [
    "Using `/Users/lyon/Development/g-2/projects/20150529/try/muonMovie`"
   ]
  },
  {
   "cell_type": "markdown",
   "metadata": {},
   "source": [
    "## Movie going around edge of ring looking inward"
   ]
  },
  {
   "cell_type": "markdown",
   "metadata": {},
   "source": [
    "Loading `gm2ring.vtm`. See state file `state/start.pvsm` ."
   ]
  },
  {
   "cell_type": "markdown",
   "metadata": {},
   "source": [
    "Bring up the animation view. Add a camera item and select \"orbit\". You'll see a dialog box..."
   ]
  },
  {
   "cell_type": "markdown",
   "metadata": {},
   "source": [
    "<img  src=\"BLK5TPKUDYI4IIEA0LWHUEOCIFQA1540.png\"/>"
   ]
  },
  {
   "cell_type": "markdown",
   "metadata": {},
   "source": [
    "Explanation is on page 123 of the community ParaView guide.\n",
    "- **Center** is the center of the bounds of the selected objects and is the center of revolution\n",
    "- **Normal** defines the normal to the plan of revolution (and defines the up direction for the camera image)\n",
    "- **Origin** is the current camera position (where the orbit starts and stops)"
   ]
  },
  {
   "cell_type": "markdown",
   "metadata": {},
   "source": [
    "So if you just take the defaults, you get..."
   ]
  },
  {
   "cell_type": "markdown",
   "metadata": {},
   "source": [
    "<img src=\"figs/one.gif\"/>"
   ]
  },
  {
   "cell_type": "markdown",
   "metadata": {},
   "source": [
    "By the way, to make that movie I wrote out the animation as png's and converted them to an animated gif with,\n",
    "```bash\n",
    "ffmpeg -i one.%04d.png one.gif\n",
    "```"
   ]
  },
  {
   "cell_type": "markdown",
   "metadata": {},
   "source": [
    "Can we figure out a way to see where the camera is pointing?"
   ]
  },
  {
   "cell_type": "markdown",
   "metadata": {},
   "source": [
    "If you double-click on the camera track in the animation view, you can see the camera path."
   ]
  },
  {
   "cell_type": "markdown",
   "metadata": {},
   "source": [
    "<img  src=\"IHWFP8Y5NRAG1UPT36K7JY9XBIVQ21V5.png\"/>"
   ]
  },
  {
   "cell_type": "markdown",
   "metadata": {},
   "source": [
    "Comparing values,"
   ]
  },
  {
   "cell_type": "markdown",
   "metadata": {},
   "source": [
    "<img  src=\"UNK191VWY6U6B3PSXX32Q5PT1Q7W2ECK.png\"/>"
   ]
  },
  {
   "cell_type": "markdown",
   "metadata": {},
   "source": [
    "So the first point matches the origin in the orbit widget!"
   ]
  },
  {
   "cell_type": "markdown",
   "metadata": {},
   "source": [
    "There's only one focus entry,"
   ]
  },
  {
   "cell_type": "markdown",
   "metadata": {},
   "source": [
    "<img  src=\"BX3SWJ0BS1LXGYP9XVLXISF9JR3WY79M.png\"/>"
   ]
  },
  {
   "cell_type": "markdown",
   "metadata": {},
   "source": [
    "And that matches the orbit center."
   ]
  },
  {
   "cell_type": "markdown",
   "metadata": {},
   "source": [
    "And the up direction..."
   ]
  },
  {
   "cell_type": "markdown",
   "metadata": {},
   "source": [
    "<img  src=\"E13T6JGQAYIU250BSJN9S6RAK8RFKDJY.png\"/>"
   ]
  },
  {
   "cell_type": "markdown",
   "metadata": {},
   "source": [
    "And that matches the normal"
   ]
  },
  {
   "cell_type": "markdown",
   "metadata": {},
   "source": [
    "So I set a red sphere at the center of rotation (focus above, same as orbit center). The true center of the ring $(0,0,0)$ is the blue sphere. "
   ]
  },
  {
   "cell_type": "markdown",
   "metadata": {},
   "source": [
    "<img src=\"figs/two.gif\" width=\"500px\">"
   ]
  },
  {
   "cell_type": "markdown",
   "metadata": {},
   "source": [
    "The red dot never moves! That's the center of rotation! It's whatever the camera was pointing at when I started the animation. "
   ]
  },
  {
   "cell_type": "markdown",
   "metadata": {},
   "source": [
    "If I do -Z so I'm looking from the side, that will satisfy goal #1"
   ]
  },
  {
   "cell_type": "markdown",
   "metadata": {},
   "source": [
    "<img src=\"figs/three.gif\" width=\"400\" />"
   ]
  },
  {
   "cell_type": "markdown",
   "metadata": {},
   "source": [
    "Ok - not very exciting"
   ]
  },
  {
   "cell_type": "markdown",
   "metadata": {},
   "source": [
    "## Ring rotating looking at it downward towards the center"
   ]
  },
  {
   "cell_type": "markdown",
   "metadata": {},
   "source": [
    "Ok - I do -Y and now I'm looking down on the ring. So if I hit orbit, it does the wrong thing, because to make the ring spin in fact the camera position itself does not move. The NORMAL moves (what is up).\n",
    "\n",
    "So, hit -Y and do camera adjustment. Note that I'm not over the center because the bounding box center is not at $(0,0,0)$. Set the position to $(0, 50000, 0)$ and the focus to $(0,0,0)$. Note the normal (view up) is $(0,0,1)$, because $+z$ is up for the camera. It's the view up (or normal) that we want to animate. Try changing the Roll by $90^{\\circ}$. "
   ]
  },
  {
   "cell_type": "markdown",
   "metadata": {},
   "source": [
    "| Roll | View up |\n",
    "|------|---------|\n",
    "|  0   |  0,0,1 |\n",
    "| $+90^{\\circ}$ | -1,0,0 |\n",
    "| $+90^{\\circ}$ | 0,0,-1|\n",
    "| $+90^{\\circ}$ | 1,0,0 |\n"
   ]
  },
  {
   "cell_type": "markdown",
   "metadata": {},
   "source": [
    "Ok - so let's try **interpolate camera**. Make 40 frames starting 1 to 40. Add new keyframes in the camera track at 10, 20, and 30 frames and put in the numbers above. You'll get what you want!"
   ]
  },
  {
   "cell_type": "markdown",
   "metadata": {},
   "source": [
    "<img src=\"figs/four.gif\" width=\"600px\">"
   ]
  },
  {
   "cell_type": "markdown",
   "metadata": {},
   "source": [
    "It works!"
   ]
  },
  {
   "cell_type": "markdown",
   "metadata": {},
   "source": [
    "Now go back to -Y, adjust the position like above. Now do $-60^{\\circ}$ elevation change. You'll end up with"
   ]
  },
  {
   "cell_type": "markdown",
   "metadata": {},
   "source": [
    "<img  src=\"OE53SUDKPT89WEVWGRUV20QGRO2GFEXY.png\"/>"
   ]
  },
  {
   "cell_type": "markdown",
   "metadata": {},
   "source": [
    "Now Roll again $90^{\\circ}$ and make the table. -- **NOPE** - Since the plane is now tilted, the roll/elevation/azimuth no longer work. We need to do these things with the original plane."
   ]
  },
  {
   "cell_type": "markdown",
   "metadata": {},
   "source": [
    "Need paper to figure that out! State saved in `state/angledPlane.pvsm`"
   ]
  },
  {
   "cell_type": "markdown",
   "metadata": {},
   "source": [
    "I don't really need to spend more time on this one, since it doesn't really have a use case."
   ]
  },
  {
   "cell_type": "markdown",
   "metadata": {},
   "source": [
    "Note that you can script some of this in Python. You can set up the animation, but the trace facility doesn't seem to capture changing or adding interpolated points, etc...\n",
    "\n",
    "```python\n",
    "renderView1 = GetActiveViewOrCreate('RenderView')\n",
    "cameraAnimationCue1 = GetCameraTrack(view=renderView1)\n",
    "\n",
    "# create a key frame\n",
    "keyFrame8253 = CameraKeyFrame()\n",
    "keyFrame8253.Position = [883.675048828125, -42734.70081212228, -280.780029296875]\n",
    "keyFrame8253.FocalPoint = [883.675048828125, 0.0, -280.780029296875]\n",
    "keyFrame8253.ViewUp = [0.0, 0.0, 1.0]\n",
    "keyFrame8253.ParallelScale = 11060.554456935406\n",
    "keyFrame8253.PositionPathPoints = [0.0, -500.0, 0.0, 293.8926261462365, -404.50849718747367, 0.0, 475.52825814757665, -154.50849718747372, 0.0, 475.52825814757665, 154.5084971874736, 0.0, 293.89262614623647, 404.5084971874735, 0.0, 8.526512829121202e-14, 499.99999999999966, 0.0, -293.89262614623624, 404.50849718747344, 0.0, -475.52825814757625, 154.50849718747367, 0.0, -475.52825814757625, -154.50849718747338, 0.0, -293.8926261462363, -404.50849718747304, 0.0]\n",
    "keyFrame8253.FocalPathPoints = [0.0, 0.0, 0.0]\n",
    "keyFrame8253.ClosedPositionPath = 1\n",
    "\n",
    "# create a key frame\n",
    "keyFrame8254 = CameraKeyFrame()\n",
    "keyFrame8254.KeyTime = 1.0\n",
    "keyFrame8254.Position = [883.675048828125, -42734.70081212228, -280.780029296875]\n",
    "keyFrame8254.FocalPoint = [883.675048828125, 0.0, -280.780029296875]\n",
    "keyFrame8254.ViewUp = [0.0, 0.0, 1.0]\n",
    "keyFrame8254.ParallelScale = 11060.554456935406\n",
    "\n",
    "# initialize the animation track\n",
    "cameraAnimationCue1.KeyFrames = [keyFrame8253, keyFrame8254]\n",
    "\n",
    "# get animation scene\n",
    "animationScene1 = GetAnimationScene()\n",
    "\n",
    "animationScene1.Play()\n",
    "```"
   ]
  },
  {
   "cell_type": "markdown",
   "metadata": {},
   "source": [
    "## Going around the ring from a little bit above"
   ]
  },
  {
   "cell_type": "markdown",
   "metadata": {},
   "source": [
    "Let's try to find a good starting place - first, what's the magic radius? It's 7112 mm. The below is from doing -Y ."
   ]
  },
  {
   "cell_type": "markdown",
   "metadata": {},
   "source": [
    "<img  src=\"L39M4V17989E9CT8MFWL6XHWBUQ20524.png\"/>"
   ]
  },
  {
   "cell_type": "markdown",
   "metadata": {},
   "source": [
    "So we can start at $( R_{\\text{magic}}, 0, 0)$. The focal point should be a position tangential to that point that facilitates clockwise motion. Camera normal should be $(0,1,0)$. So the first focal point should be something like $(R_{\\text{magic}}, 0, R_{\\text{magic}})$.  "
   ]
  },
  {
   "cell_type": "markdown",
   "metadata": {},
   "source": [
    "So, if we do the corners... (where R = $R_{\\text{magic}}$)\n",
    "\n",
    "| Angle on ring | Camera Position | Focal Point  |\n",
    "|---------------|-----------------|--------------|\n",
    "|      0        |  R, 0,  0       |  R, 0,  R    |\n",
    "|     90        |  0, 0,  R       | -R, 0,  R    |\n",
    "|    180        | -R, 0,  0       | -R, 0, -R    |\n",
    "|    270        |  0, 0, -R       |  R, 0, -R    |"
   ]
  },
  {
   "cell_type": "markdown",
   "metadata": {},
   "source": [
    "Let's try it!"
   ]
  },
  {
   "cell_type": "markdown",
   "metadata": {},
   "source": [
    "Let's start with a $y$ of around 200 to see above the ring."
   ]
  },
  {
   "cell_type": "markdown",
   "metadata": {},
   "source": [
    "It doesn't work because the camera is cutting across the ring. If you watch the axis arrows, you'll see that the right things are happening at the control points above, but not in between - the camera is cutting the corner. "
   ]
  },
  {
   "cell_type": "markdown",
   "metadata": {},
   "source": [
    "<img src=\"figs/five.gif\" width=\"500px\"/>"
   ]
  },
  {
   "cell_type": "markdown",
   "metadata": {},
   "source": [
    "It would be nice to see where the camera is really going. Can I do that with a python track?"
   ]
  },
  {
   "cell_type": "markdown",
   "metadata": {},
   "source": [
    "### Python animation track"
   ]
  },
  {
   "cell_type": "markdown",
   "metadata": {},
   "source": [
    "You have to fill three methods, \n",
    "```python\n",
    "def start_cue(self): pass\n",
    "\n",
    "def tick(self): pass\n",
    "\n",
    "def end_cue(self): pass\n",
    "```\n",
    "\n",
    "The `start_cue` runs once when hitting *play* or each time you hit single step. So you can't use it to initialize some counter. \n",
    "\n",
    "The `self` is an instance of [vtkPythonAnimationCue](http://www.paraview.org/ParaQ/Doc/Nightly/html/classvtkPythonAnimationCue.html), which itself is uninteresting, but it inherits from [vtkAnimationCue](http://www.vtk.org/doc/nightly/html/classvtkAnimationCue.html) which has a lot of stuff."
   ]
  },
  {
   "cell_type": "markdown",
   "metadata": {},
   "source": [
    "Here is what you can get from self...\n",
    "\n",
    "```python\n",
    "['AddObserver', 'BreakOnError', 'DebugOff', 'DebugOn', 'EnabledOff', 'EnabledOn', 'FastDelete', 'Finalize', 'GetAddressAsString', 'GetAnimationTime', 'GetClassName', 'GetClockTime', 'GetCommand', 'GetDebug', 'GetDeltaTime', 'GetEnabled', 'GetEndTime', 'GetGlobalWarningDisplay', 'GetMTime', 'GetReferenceCount', 'GetScript', 'GetStartTime', 'GetTimeMode', 'GlobalWarningDisplayOff', 'GlobalWarningDisplayOn', 'HasObserver', 'Initialize', 'InvokeEvent', 'IsA', 'IsTypeOf', 'Modified', 'NewInstance', 'PrintRevisions', 'Register', 'RemoveAllObservers', 'RemoveObserver', 'RemoveObservers', 'SafeDownCast', 'SetDebug', 'SetEnabled', 'SetEndTime', 'SetGlobalWarningDisplay', 'SetReferenceCount', 'SetScript', 'SetStartTime', 'SetTimeMode', 'SetTimeModeToNormalized', 'SetTimeModeToRelative', 'TIMEMODE_NORMALIZED', 'TIMEMODE_RELATIVE', 'Tick', 'TimeCodes', 'UnRegister', '__class__', '__delattr__', '__dict__', '__doc__', '__format__', '__getattribute__', '__hash__', '__init__', '__new__', '__reduce__', '__reduce_ex__', '__repr__', '__setattr__', '__sizeof__', '__str__', '__subclasshook__', '__this__', '__vtkname__']\n",
    "```"
   ]
  },
  {
   "cell_type": "markdown",
   "metadata": {},
   "source": [
    "- `self.GetClockTime()` returns the clock time (not the time step).\n",
    "- `self.GetAnimiationTime()` is the normalized time (0 at beginning, 1 at the end, and a fraction in between)\n",
    "- `self.GetStartTime()` always seems to be 1.0\n",
    "- `self.GetEndTime()` always seems to be zero\n",
    "\n",
    "It's important to know how many time steps there are and the start and end times. Can we get that from the scene?\n",
    "\n"
   ]
  },
  {
   "cell_type": "markdown",
   "metadata": {},
   "source": [
    "What I really want is the tick time. You'd think that would be easy."
   ]
  },
  {
   "cell_type": "markdown",
   "metadata": {},
   "source": [
    "For example,\n",
    "```python\n",
    "from paraview import simple\n",
    "\n",
    "def start_cue(self): \n",
    "    print \"Start \", self.GetStartTime()\n",
    "    print \"End \", self.GetEndTime()\n",
    "\n",
    "    scene = simple.GetAnimationScene()\n",
    "    print dir(scene)\n",
    "    print \"NFrames \", scene.NumberOfFrames\n",
    "    print \"StartTime \", scene.StartTime\n",
    "    print \"EndTime \", scene.EndTime\n",
    "    print \"AnimationTime \", scene.AnimationTime\n",
    "\n",
    "def tick(self): \n",
    "    print \"ClockTime \", self.GetClockTime()\n",
    "    print \"tick.AnimationTime \", self.GetAnimationTime()\n",
    "\n",
    "def end_cue(self): pass\n",
    "```\n",
    "\n",
    "gives,"
   ]
  },
  {
   "cell_type": "markdown",
   "metadata": {},
   "source": [
    "<img  src=\"HI2AFMUGS1UCX14HR0FWI3U73JXXSQEQ.png\"/>"
   ]
  },
  {
   "cell_type": "markdown",
   "metadata": {},
   "source": [
    "Now, can we see the camera position?"
   ]
  },
  {
   "cell_type": "markdown",
   "metadata": {},
   "source": [
    "You can get the active view, and then see,\n",
    "```python\n",
    "['AlphaBitPlanes', 'AxesGrid', 'BackLightAzimuth', 'BackLightElevation', 'BackLightKBRatio', 'BackLightWarmth', 'Background', 'Background2', 'BackgroundTexture', 'CacheKey', 'Camera2DManipulators', 'Camera3DManipulators', 'CameraClippingRange', 'CameraFocalPoint', 'CameraParallelProjection', 'CameraParallelScale', 'CameraPosition', 'CameraViewAngle', 'CameraViewUp', 'CenterAxesVisibility', 'CenterOfRotation', 'CollectGeometryThreshold', 'CompressorConfig', 'DepthPeeling', 'EnableRenderOnInteraction', 'EyeAngle', 'FillLightAzimuth', 'FillLightElevation', 'FillLightKFRatio', 'FillLightWarmth', 'GetProperty', 'GetPropertyValue', 'HeadLightKHRatio', 'HeadLightWarmth', 'ImageReductionFactor', 'Initialize', 'InitializeFromProxy', 'InteractionMode', 'KeyLightAzimuth', 'KeyLightElevation', 'KeyLightIntensity', 'KeyLightWarmth', 'LODResolution', 'LODThreshold', 'LightAmbientColor', 'LightDiffuseColor', 'LightIntensity', 'LightSpecularColor', 'LightSwitch', 'LightType', 'ListProperties', 'MaintainLuminance', 'MaximumNumberOfPeels', 'MultiSamples', 'NonInteractiveRenderDelay', 'Observed', 'ObserverTag', 'OrientationAxesInteractivity', 'OrientationAxesLabelColor', 'OrientationAxesOutlineColor', 'OrientationAxesVisibility', 'Port', 'RemoteRenderThreshold', 'Representations', 'RotationFactor', 'SMProxy', 'ServerStereoType', 'SetPropertyWithName', 'ShowAnnotation', 'StencilCapable', 'StereoRender', 'StereoType', 'StillRenderImageReductionFactor', 'UseCache', 'UseGradientBackground', 'UseInteractiveRenderingForScreenshots', 'UseLight', 'UseOffscreenRendering', 'UseOffscreenRenderingForScreenshots', 'UseOutlineForLODRendering', 'UseTexturedBackground', 'ViewSize', 'ViewTime', '_Proxy__ConvertArgumentsAndCall', '_Proxy__GetActiveCamera', '_Proxy__LastAttrName', '_Proxy__Properties', '__class__', '__del__', '__delattr__', '__dict__', '__doc__', '__eq__', '__format__', '__getattr__', '__getattribute__', '__hash__', '__init__', '__iter__', '__module__', '__ne__', '__new__', '__reduce__', '__reduce_ex__', '__repr__', '__setattr__', '__sizeof__', '__str__', '__subclasshook__', '__weakref__', 'add_attribute']\n",
    "```"
   ]
  },
  {
   "cell_type": "markdown",
   "metadata": {},
   "source": [
    "### Displaying camera positions"
   ]
  },
  {
   "cell_type": "markdown",
   "metadata": {},
   "source": [
    "Here's a little python animation track script to write out camera positions and focal points..."
   ]
  },
  {
   "cell_type": "markdown",
   "metadata": {},
   "source": [
    "```python\n",
    "from paraview import simple\n",
    "\n",
    "def start_cue(self):\n",
    "    self.outFile = open('/tmp/cam.csv', 'w')\n",
    "    self.outFile.write(\"x, y, z, fx, fy, fz, time, progress, tick\\n\")\n",
    "    self.tick = 0\n",
    "\n",
    "def tick(self): \n",
    "    av = simple.GetActiveView()\n",
    "    c = av.CameraPosition\n",
    "    f = av.CameraFocalPoint\n",
    "    o = \"%s, %s, %s, %s, %s, %s, %s, %s, %s\\n\" % (c[0], c[1], c[2], f[0], f[1], f[2], \n",
    "                                                  self.GetClockTime(), self.GetAnimationTime(), self.tick)\n",
    "    self.tick += 1                                              \n",
    "    print o\n",
    "    self.outFile.write(o)\n",
    "    \n",
    " \n",
    "def end_cue(self):\n",
    "    self.outFile.close()\n",
    "```"
   ]
  },
  {
   "cell_type": "markdown",
   "metadata": {},
   "source": [
    "Let the whole animation run (single step won't work, because that will cause the `start_cue` to run for each step). Load the CSV file `/tmp/cam.csv` into ParaView, do a `TableToPoints` filter followed by a `Calculator` filter with,"
   ]
  },
  {
   "cell_type": "markdown",
   "metadata": {},
   "source": [
    "<img  src=\"OWLSBWU1J0X4R2Q6Y23B7FAP89AGEAX6.png\"/>"
   ]
  },
  {
   "cell_type": "markdown",
   "metadata": {},
   "source": [
    "and finally a `Glyph` vector with arrows on the `f` vector, and you'll see..."
   ]
  },
  {
   "cell_type": "markdown",
   "metadata": {},
   "source": [
    "<img  src=\"CTDMJDV11JA23CQO2DY87L7QQ4C7LEDK.png\"/>"
   ]
  },
  {
   "cell_type": "markdown",
   "metadata": {},
   "source": [
    "The little dots are the camera positions and the arrows point in the camera direction. Handy!"
   ]
  },
  {
   "cell_type": "markdown",
   "metadata": {},
   "source": [
    "So it's pretty clear what's going on - the interpolation is cutting the corners. Let's make a python animation track that gets it right. Basically, we cut the circle with a radius of $R_{\\text{magic}}$ into *NFrames* parts. Then we want to calculate the focal point - where to be looking."
   ]
  },
  {
   "cell_type": "markdown",
   "metadata": {},
   "source": [
    "<img  src=\"VJOEIBYNJNUI8D70W0K1PN4HXPVIQUEC.png\"/>"
   ]
  },
  {
   "cell_type": "markdown",
   "metadata": {},
   "source": [
    "$(x,y)$ is the camera point.\n",
    "- $x = r \\cos(\\phi)$\n",
    "- $y = r \\sin(\\phi)$\n",
    "\n",
    "The focal point is tangential to the camera circle path - $(a,b)$\n",
    "\n",
    "- $\\psi = \\phi + \\pi/4$  (includes $\\phi$)\n",
    "- $h = r\\sqrt{2}$\n",
    "- $a = h \\cos(\\psi) = r\\sqrt{2} \\cos(\\phi + \\pi/4)$\n",
    "- $b = h \\sin(\\psi) = r\\sqrt{2} \\sin(\\phi + \\pi/4)$\n"
   ]
  },
  {
   "cell_type": "code",
   "execution_count": 6,
   "metadata": {
    "collapsed": true
   },
   "outputs": [],
   "source": [
    "import numpy as np"
   ]
  },
  {
   "cell_type": "code",
   "execution_count": 115,
   "metadata": {
    "collapsed": false
   },
   "outputs": [],
   "source": [
    "r=7112.0\n",
    "nframes = 41\n",
    "phi = np.linspace(0, 2.0*np.pi, nframes)\n",
    "x = r * np.cos(phi)\n",
    "z = r * np.sin(phi)\n",
    "y = phi*0.0+200\n",
    "a = np.sqrt(2)*r*np.cos(phi+np.pi/4.0)\n",
    "b = np.sqrt(2)*r*np.sin(phi+np.pi/4.0)"
   ]
  },
  {
   "cell_type": "markdown",
   "metadata": {},
   "source": [
    "Does it look right?"
   ]
  },
  {
   "cell_type": "code",
   "execution_count": 113,
   "metadata": {
    "collapsed": false
   },
   "outputs": [],
   "source": [
    "import matplotlib.pyplot as plt\n",
    "%matplotlib inline"
   ]
  },
  {
   "cell_type": "code",
   "execution_count": 114,
   "metadata": {
    "collapsed": false
   },
   "outputs": [
    {
     "data": {
      "text/plain": [
       "<matplotlib.collections.LineCollection at 0x10e05cd50>"
      ]
     },
     "execution_count": 114,
     "metadata": {},
     "output_type": "execute_result"
    },
    {
     "data": {
      "image/png": "[encoded data removed]",
      "text/plain": [
       "<matplotlib.figure.Figure at 0x10de64150>"
      ]
     },
     "metadata": {},
     "output_type": "display_data"
    }
   ],
   "source": [
    "plt.figure(figsize=(10,10))\n",
    "plt.axes().set_aspect('equal', 'box')\n",
    "plt.xlabel('x')\n",
    "plt.ylabel('z')\n",
    "plt.xlim(-9000.0, 9000.0)\n",
    "plt.ylim(-9000.0, 9000.0)\n",
    "plt.scatter(x, z, marker=\"o\", color='red')\n",
    "plt.quiver(x, z, a-x, b-z, width=0.005, color='darkblue')\n",
    "plt.hlines(0, -9000, 9000)\n",
    "plt.vlines(0, -9000, 9000)"
   ]
  },
  {
   "cell_type": "markdown",
   "metadata": {},
   "source": [
    "I think we have it - how do we make a ParaView animation out of this?"
   ]
  },
  {
   "cell_type": "markdown",
   "metadata": {},
   "source": [
    "If we do a path-based camera animation, we can preload the points. The format for `PositionPathPoints` and `FocalPathPoints` is `[x1, y1, z1, x2, y2, z2, ...`] . How do I make numpy do that? Here's how...\n",
    "```python\n",
    "np.dstack([x, y, z]).flatten().tolist()\n",
    "```"
   ]
  },
  {
   "cell_type": "markdown",
   "metadata": {},
   "source": [
    "Following a trace that I made, I think we do the following in a python macro..."
   ]
  },
  {
   "cell_type": "markdown",
   "metadata": {},
   "source": [
    "```python\n",
    "import numpy as np\n",
    "\n",
    "r=7112.0\n",
    "nframes = 41\n",
    "phi = np.linspace(0, 2.0*np.pi, nframes)\n",
    "x = r * np.cos(phi)\n",
    "z = r * np.sin(phi)\n",
    "y = phi*0.0+200\n",
    "a = np.sqrt(2)*r*np.cos(phi+np.pi/4.0)\n",
    "b = np.sqrt(2)*r*np.sin(phi+np.pi/4.0)\n",
    "\n",
    "renderView1 = GetActiveViewOrCreate('RenderView')\n",
    "cameraAnimationCue1 = GetCameraTrack(view=renderView1)\n",
    "key1 = CameraKeyFrame()\n",
    "key1.Position = [x[0], y[0], z[0]]\n",
    "key1.FocalPoint = [a[0], y[0], b[0]]\n",
    "key1.ViewUp = [0.0, 1.0, 0.0]\n",
    "key1.ParallelScale = 11060.0\n",
    "key1.PositionPathPoints = np.dstack([x,y,z]).flatten().tolist()\n",
    "key1.FocalPathPoints = np.dstack([a,y,b]).flatten().tolist()\n",
    "key1.ClosedPositionPath = 0 # Must be zero or else get nan's\n",
    "\n",
    "key2 = CameraKeyFrame()   # Must have the end point\n",
    "key2.KeyTime = 1.0\n",
    "key2.Position = key1.Position\n",
    "key2.FocalPoint = key1.FocalPoint\n",
    "key2.ViewUp = key1.ViewUp\n",
    "key2.ParallelScale = key1.ParallelScale\n",
    "\n",
    "cameraAnimationCue1.Mode = 'Path-based'\n",
    "cameraAnimationCue1.KeyFrames = [key1, key2]\n",
    "```\n"
   ]
  },
  {
   "cell_type": "markdown",
   "metadata": {},
   "source": [
    "Trying it out, I get"
   ]
  },
  {
   "cell_type": "markdown",
   "metadata": {},
   "source": [
    "<img  src=\"OXBXD8THJ575GFMGBPADU390U2IKY15F.png\"/>"
   ]
  },
  {
   "cell_type": "markdown",
   "metadata": {},
   "source": [
    "Let's run the animation. Note that I'm now converting the png's with,\n",
    "```bash\n",
    "ffmpeg -i six.%04d.png -f gif - | gifsicle --optimize=3 --delay=10 > six.gif\n",
    "```\n",
    "`gifsicle` comes from brew. See https://gist.github.com/dergachev/4627207"
   ]
  },
  {
   "cell_type": "markdown",
   "metadata": {},
   "source": [
    "<img src='figs/six.gif' />"
   ]
  },
  {
   "cell_type": "markdown",
   "metadata": {},
   "source": [
    "Things to make better - not very smooth - do more animation frames. Not using all of the screen. Maybe make $y=100$ or tilt the focal point down a little."
   ]
  },
  {
   "cell_type": "markdown",
   "metadata": {
    "collapsed": true
   },
   "source": [
    "**Done for today, see tomorrow's notebook**"
   ]
  },
  {
   "cell_type": "code",
   "execution_count": 126,
   "metadata": {
    "collapsed": false
   },
   "outputs": [
    {
     "data": {
      "text/html": [
       "<a href='2015-11-12-al-gm2-movie-muons.ipynb' target='_blank'>2015-11-12-al-gm2-movie-muons.ipynb</a><br>"
      ],
      "text/plain": [
       "/Users/lyon/dataAnalysisPlatform/Documents/Paraview/develop/2015-11-12-al-gm2-movie-muons.ipynb"
      ]
     },
     "execution_count": 126,
     "metadata": {},
     "output_type": "execute_result"
    }
   ],
   "source": [
    "FileLink(\"2015-11-12-al-gm2-movie-muons.ipynb\")"
   ]
  }
 ],
 "metadata": {
  "kernelspec": {
   "display_name": "Python 2",
   "language": "python",
   "name": "python2"
  },
  "language_info": {
   "codemirror_mode": {
    "name": "ipython",
    "version": 2
   },
   "file_extension": ".py",
   "mimetype": "text/x-python",
   "name": "python",
   "nbconvert_exporter": "python",
   "pygments_lexer": "ipython2",
   "version": "2.7.10"
  }
 },
 "nbformat": 4,
 "nbformat_minor": 0
}
