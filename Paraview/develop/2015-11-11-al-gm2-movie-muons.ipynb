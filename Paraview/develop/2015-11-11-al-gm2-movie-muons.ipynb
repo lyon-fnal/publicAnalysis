{
 "cells": [
  {
   "cell_type": "markdown",
   "metadata": {},
   "source": [
    "<div style=\"text-align: right\">Adam Lyon, 11 Nov 2015</div> \n",
    "# Movie of muons going around ring "
   ]
  },
  {
   "cell_type": "markdown",
   "metadata": {},
   "source": [
    "The ultimate goal is to make a movie of a muon going around the ring with a rotating arrow pointing in the direction of spin. I think to do this I need to figure out the following..."
   ]
  },
  {
   "cell_type": "markdown",
   "metadata": {},
   "source": [
    "1. How to make a movie with the camera going around the ring, looking from the side (should be easy, since camera points towards the center).\n",
    "1. Movie of camera pointing down (harder, because the pointing changes)\n",
    "1. Moving going around the inside of the ring (much harder)"
   ]
  },
  {
   "cell_type": "markdown",
   "metadata": {},
   "source": [
    "Using `/Users/lyon/Development/g-2/projects/20150529/try/muonMovie`"
   ]
  },
  {
   "cell_type": "markdown",
   "metadata": {},
   "source": [
    "## Movie going around edge of ring looking inward"
   ]
  },
  {
   "cell_type": "markdown",
   "metadata": {},
   "source": [
    "Loading `gm2ring.vtm`. See state file `state/start.pvsm` ."
   ]
  },
  {
   "cell_type": "markdown",
   "metadata": {},
   "source": [
    "Bring up the animation view. Add a camera item and select \"orbit\". You'll see a dialog box..."
   ]
  },
  {
   "cell_type": "markdown",
   "metadata": {},
   "source": [
    "<img  src=\"BLK5TPKUDYI4IIEA0LWHUEOCIFQA1540.png\"/>"
   ]
  },
  {
   "cell_type": "markdown",
   "metadata": {},
   "source": [
    "Explanation is on page 123 of the community ParaView guide.\n",
    "- **Center** is the center of the bounds of the selected objects and is the center of revolution\n",
    "- **Normal** defines the normal to the plan of revolution (and defines the up direction for the camera image)\n",
    "- **Origin** is the current camera position (where the orbit starts and stops)"
   ]
  },
  {
   "cell_type": "markdown",
   "metadata": {},
   "source": [
    "So if you just take the defaults, you get..."
   ]
  },
  {
   "cell_type": "markdown",
   "metadata": {},
   "source": [
    "<img src=\"figs/one.gif\"/>"
   ]
  },
  {
   "cell_type": "markdown",
   "metadata": {},
   "source": [
    "By the way, to make that movie I wrote out the animation as png's and converted them to an animated gif with,\n",
    "```bash\n",
    "ffmpeg -i one.%04d.png one.gif\n",
    "```"
   ]
  },
  {
   "cell_type": "markdown",
   "metadata": {},
   "source": [
    "Can we figure out a way to see where the camera is pointing?"
   ]
  },
  {
   "cell_type": "markdown",
   "metadata": {},
   "source": [
    "If you double-click on the camera track in the animation view, you can see the camera path."
   ]
  },
  {
   "cell_type": "markdown",
   "metadata": {},
   "source": [
    "<img  src=\"IHWFP8Y5NRAG1UPT36K7JY9XBIVQ21V5.png\"/>"
   ]
  },
  {
   "cell_type": "markdown",
   "metadata": {},
   "source": [
    "Comparing values,"
   ]
  },
  {
   "cell_type": "markdown",
   "metadata": {},
   "source": [
    "<img  src=\"UNK191VWY6U6B3PSXX32Q5PT1Q7W2ECK.png\"/>"
   ]
  },
  {
   "cell_type": "markdown",
   "metadata": {},
   "source": [
    "So the first point matches the origin in the orbit widget!"
   ]
  },
  {
   "cell_type": "markdown",
   "metadata": {},
   "source": [
    "There's only one focus entry,"
   ]
  },
  {
   "cell_type": "markdown",
   "metadata": {},
   "source": [
    "<img  src=\"BX3SWJ0BS1LXGYP9XVLXISF9JR3WY79M.png\"/>"
   ]
  },
  {
   "cell_type": "markdown",
   "metadata": {},
   "source": [
    "And that matches the orbit center."
   ]
  },
  {
   "cell_type": "markdown",
   "metadata": {},
   "source": [
    "And the up direction..."
   ]
  },
  {
   "cell_type": "markdown",
   "metadata": {},
   "source": [
    "<img  src=\"E13T6JGQAYIU250BSJN9S6RAK8RFKDJY.png\"/>"
   ]
  },
  {
   "cell_type": "markdown",
   "metadata": {},
   "source": [
    "And that matches the normal"
   ]
  },
  {
   "cell_type": "markdown",
   "metadata": {},
   "source": [
    "So I set a red sphere at the center of rotation (focus above, same as orbit center). The true center of the ring $(0,0,0)$ is the blue sphere. "
   ]
  },
  {
   "cell_type": "markdown",
   "metadata": {},
   "source": [
    "<img src=\"figs/two.gif\" width=\"500px\">"
   ]
  },
  {
   "cell_type": "markdown",
   "metadata": {},
   "source": [
    "The red dot never moves! That's the center of rotation! It's whatever the camera was pointing at when I started the animation. "
   ]
  },
  {
   "cell_type": "markdown",
   "metadata": {},
   "source": [
    "If I do -Z so I'm looking from the side, that will satisfy goal #1"
   ]
  },
  {
   "cell_type": "markdown",
   "metadata": {},
   "source": [
    "<img src=\"figs/three.gif\" width=\"400\" />"
   ]
  },
  {
   "cell_type": "markdown",
   "metadata": {},
   "source": [
    "Ok - not very exciting"
   ]
  },
  {
   "cell_type": "markdown",
   "metadata": {},
   "source": [
    "## Ring rotating looking at it downward towards the center"
   ]
  },
  {
   "cell_type": "markdown",
   "metadata": {},
   "source": [
    "Ok - I do -Y and now I'm looking down on the ring. So if I hit orbit, it does the wrong thing, because to make the ring spin in fact the camera position itself does not move. The NORMAL moves (what is up).\n",
    "\n",
    "So, hit -Y and do camera adjustment. Note that I'm not over the center because the bounding box center is not at $(0,0,0)$. Set the position to $(0, 50000, 0)$ and the focus to $(0,0,0)$. Note the normal (view up) is $(0,0,1)$, because $+z$ is up for the camera. It's the view up (or normal) that we want to animate. Try changing the Roll by $90^{\\circ}$. "
   ]
  },
  {
   "cell_type": "markdown",
   "metadata": {},
   "source": [
    "| Roll | View up |\n",
    "|------|---------|\n",
    "|  0   |  0,0,1 |\n",
    "| $+90^{\\circ}$ | -1,0,0 |\n",
    "| $+90^{\\circ}$ | 0,0,-1|\n",
    "| $+90^{\\circ}$ | 1,0,0 |\n"
   ]
  },
  {
   "cell_type": "markdown",
   "metadata": {},
   "source": [
    "Ok - so let's try **interpolate camera**. Make 40 frames starting 1 to 40. Add new keyframes in the camera track at 10, 20, and 30 frames and put in the numbers above. You'll get what you want!"
   ]
  },
  {
   "cell_type": "markdown",
   "metadata": {},
   "source": [
    "<img src=\"figs/four.gif\" width=\"300px\">"
   ]
  },
  {
   "cell_type": "markdown",
   "metadata": {},
   "source": [
    "It works!"
   ]
  },
  {
   "cell_type": "markdown",
   "metadata": {},
   "source": [
    "Now go back to -Y, adjust the position like above. Now do $-60^{\\circ}$ elevation change. You'll end up with"
   ]
  },
  {
   "cell_type": "markdown",
   "metadata": {},
   "source": [
    "<img  src=\"OE53SUDKPT89WEVWGRUV20QGRO2GFEXY.png\"/>"
   ]
  },
  {
   "cell_type": "markdown",
   "metadata": {},
   "source": [
    "Now Roll again $90^{\\circ}$ and make the table. -- **NOPE** - Since the plane is now tilted, the roll/elevation/azimuth no longer work. We need to do these things with the original plane."
   ]
  },
  {
   "cell_type": "markdown",
   "metadata": {},
   "source": [
    "Need paper to figure that out! State saved in `state/angledPlane.pvsm`"
   ]
  },
  {
   "cell_type": "markdown",
   "metadata": {},
   "source": [
    "I don't really need to spend more time on this one, since it doesn't really have a use case."
   ]
  },
  {
   "cell_type": "code",
   "execution_count": 4,
   "metadata": {
    "collapsed": false
   },
   "outputs": [
    {
     "data": {
      "text/plain": [
       "'/Users/lyon/dataAnalysisPlatform/Documents/Paraview/develop'"
      ]
     },
     "execution_count": 4,
     "metadata": {},
     "output_type": "execute_result"
    }
   ],
   "source": [
    "import os\n",
    "os.getcwd()"
   ]
  },
  {
   "cell_type": "code",
   "execution_count": null,
   "metadata": {
    "collapsed": true
   },
   "outputs": [],
   "source": []
  }
 ],
 "metadata": {
  "kernelspec": {
   "display_name": "Python 2",
   "language": "python",
   "name": "python2"
  },
  "language_info": {
   "codemirror_mode": {
    "name": "ipython",
    "version": 2
   },
   "file_extension": ".py",
   "mimetype": "text/x-python",
   "name": "python",
   "nbconvert_exporter": "python",
   "pygments_lexer": "ipython2",
   "version": "2.7.10"
  }
 },
 "nbformat": 4,
 "nbformat_minor": 0
}
